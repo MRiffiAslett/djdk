{
 "cells": [
  {
   "cell_type": "markdown",
   "metadata": {},
   "source": [
    "<div class=\"image\">\n",
    "\n",
    "  <img style=\"float: right;\" src=\"https://dx5i3n065oxey.cloudfront.net/platform/4186/assets/logo.png?v=2e76f927-9482-4bfb-9092-d9a0b595cd2c\" width=\"45%\" align=\"right\">\n",
    "      <h4>\n",
    "          <p style=\"font-size:20pt\">Programming for Business Analytics</p>\n",
    "          <p style=\"font-size:15pt\">Q6 Practice 3</p>\n",
    "      </h4>\n",
    "</div>\n",
    "\n",
    "- Make sure you have executed the code in the cell below.\n",
    "- Make sure you read the questions carefully and follow the instructions.\n",
    "- Make sure you put the answers in the Answer cells.\n",
    "- Please do not put your answers in comments (after #).\n",
    "- Please do not add any new cells between the Question and Answer cells.\n",
    "- Please do not change the names of the variables in Answer cells.\n",
    "- Please do not assign the expected result directly to the variable.\n",
    "- Please do not change the pre-defined variables."
   ]
  },
  {
   "cell_type": "markdown",
   "metadata": {},
   "source": [
    "<div class=\"alert alert-warning\">\n",
    "<b>QUESTION 1: </b> \n",
    "<p>Write code to create a $6\\times6$ array with row values being integers ranging from 2 to 7. Assign the result to variable <code>arr_1</code>. Print <code>arr_1</code>, the expected output is shown below.</p>\n",
    "    \n",
    "```\n",
    "[[2 3 4 5 6 7]\n",
    " [2 3 4 5 6 7]\n",
    " [2 3 4 5 6 7]\n",
    " [2 3 4 5 6 7]\n",
    " [2 3 4 5 6 7]\n",
    " [2 3 4 5 6 7]]\n",
    "```\n",
    "</div>"
   ]
  },
  {
   "cell_type": "code",
   "execution_count": 7,
   "metadata": {},
   "outputs": [
    {
     "name": "stdout",
     "output_type": "stream",
     "text": [
      "[[2. 3. 4. 5. 6. 7.]\n",
      " [2. 3. 4. 5. 6. 7.]\n",
      " [2. 3. 4. 5. 6. 7.]\n",
      " [2. 3. 4. 5. 6. 7.]\n",
      " [2. 3. 4. 5. 6. 7.]\n",
      " [2. 3. 4. 5. 6. 7.]]\n"
     ]
    }
   ],
   "source": [
    "###ANSWER(1). \n",
    "# Write your code here.\n",
    "import numpy as np\n",
    "arr_1 = np.ones(36).reshape(6,6) * np.arange(8)[2:]\n",
    "print(arr_1)"
   ]
  },
  {
   "cell_type": "code",
   "execution_count": null,
   "metadata": {},
   "outputs": [],
   "source": [
    "#Please leave this cell blank."
   ]
  },
  {
   "cell_type": "markdown",
   "metadata": {},
   "source": [
    "<div class=\"alert alert-warning\">\n",
    "<b>QUESTION 2:</b>\n",
    "<p>An array has been defined in the cell below.</p>\n",
    "\n",
    "```python\n",
    "arr_3by5 = np.array([[4, 2, 3, 1, 3],\n",
    "                     [1, 1, 3, 1, 3],\n",
    "                     [0, 4, 4, 2, 2]])\n",
    "```\n",
    "\n",
    "<p>Write code to transpose <code>arr_3by5</code> and assign the result to <code>arr_5by3</code>. Print <code>arr_5by3</code>, the expected output is shown below.</p>\n",
    "    \n",
    "\n",
    "```\n",
    "[[4 1 0]\n",
    " [2 1 4]\n",
    " [3 3 4]\n",
    " [1 1 2]\n",
    " [3 3 2]]\n",
    "```\n",
    "</div>"
   ]
  },
  {
   "cell_type": "code",
   "execution_count": 14,
   "metadata": {},
   "outputs": [
    {
     "data": {
      "text/plain": [
       "array([[4, 1, 0],\n",
       "       [2, 1, 4],\n",
       "       [3, 3, 4],\n",
       "       [1, 1, 2],\n",
       "       [3, 3, 2]])"
      ]
     },
     "execution_count": 14,
     "metadata": {},
     "output_type": "execute_result"
    }
   ],
   "source": [
    "###ANSWER(2).\n",
    "arr_3by5 = np.array([[4, 2, 3, 1, 3],\n",
    "                     [1, 1, 3, 1, 3],\n",
    "                     [0, 4, 4, 2, 2]])\n",
    "# Write your code here.\n",
    "arr_5by3 = arr_3by5.T\n",
    "arr_5by3"
   ]
  },
  {
   "cell_type": "code",
   "execution_count": null,
   "metadata": {},
   "outputs": [],
   "source": [
    "#Please leave this cell blank."
   ]
  },
  {
   "cell_type": "markdown",
   "metadata": {},
   "source": [
    "<div class=\"alert alert-warning\">\n",
    "<b>QUESTION 3:</b>\n",
    "<p>Use <code>eye</code> and <code>ones</code> functions to create a $5\\times5$ array called <code>arr_3</code>. The expected output when printing <code>arr_3</code> is shown below.</p>\n",
    "    \n",
    "```\n",
    "[[1 2 2 2 1]\n",
    " [2 1 2 1 2]\n",
    " [2 2 0 2 2]\n",
    " [2 1 2 1 2]\n",
    " [1 2 2 2 1]]  \n",
    "```\n",
    "</div>"
   ]
  },
  {
   "cell_type": "code",
   "execution_count": 27,
   "metadata": {},
   "outputs": [
    {
     "data": {
      "text/plain": [
       "array([[1., 2., 2., 2., 1.],\n",
       "       [2., 1., 2., 1., 2.],\n",
       "       [2., 2., 0., 2., 2.],\n",
       "       [2., 1., 2., 1., 2.],\n",
       "       [1., 2., 2., 2., 1.]])"
      ]
     },
     "execution_count": 27,
     "metadata": {},
     "output_type": "execute_result"
    }
   ],
   "source": [
    "###ANSWER(3)\n",
    "# Write your code here.\n",
    "arr_3 = np.ones((5,5)) +1 - np.eye(5)- np.eye(5)[::-1]\n",
    "arr_3"
   ]
  },
  {
   "cell_type": "code",
   "execution_count": null,
   "metadata": {},
   "outputs": [],
   "source": [
    "#Please leave this cell blank."
   ]
  },
  {
   "cell_type": "markdown",
   "metadata": {},
   "source": [
    "<div class=\"alert alert-warning\">\n",
    "<b>QUESTION 4: </b> \n",
    "<p> An array <code>arr_4</code> has been defined.</p>\n",
    "    \n",
    "```python\n",
    "arr_4 = np.array([1, 2, 1, 1, 30, 4, 3, 11, 1, 2, 1, 1, 2, 1, 6, 10, 7, 1, 9, 1, 1, 1])\n",
    "```\n",
    "<p>Write <b>ONE LINE</b> of code to find the index of the <b>6th</b> number <b>1</b> in <code>arr_4</code>. Assign the result to variable <code>index_6</code>. Print <code>index_6</code>, the expected output is <code>11</code>.</p>\n",
    "    \n",
    "\n",
    "</div>"
   ]
  },
  {
   "cell_type": "code",
   "execution_count": 52,
   "metadata": {},
   "outputs": [],
   "source": [
    "###ANSWER(4). \n",
    "arr_4 = np.array([1, 2, 1, 1, 30, 4, 3, 11, 1, 2, 1, 1, 2, 1, 6, 10, 7, 1, 9, 1, 1, 1])\n",
    "index_6 =  np.where(arr_4 == 1)[0][5]# Write your code here.\n",
    "d = 0\n",
    "for i in list(arr_4):\n",
    "    if i == 1:\n",
    "        d += 1\n",
    "        if d == 6:\n",
    "            break\n",
    "            print(list(arr_4).index(i))\n"
   ]
  },
  {
   "cell_type": "code",
   "execution_count": null,
   "metadata": {},
   "outputs": [],
   "source": [
    "#Please leave this cell blank."
   ]
  },
  {
   "cell_type": "markdown",
   "metadata": {},
   "source": [
    "<div class=\"alert alert-warning\">\n",
    "<b>QUESTION 5: </b> \n",
    "<p> Create an $8\\times8$ array called <code>checkerboard</code> with the checkerboard pattern. Print <code>checkerboard</code>, the expected output is shown below.</p>\n",
    "    \n",
    "```\n",
    "[[0 1 0 1 0 1 0 1]\n",
    " [1 0 1 0 1 0 1 0]\n",
    " [0 1 0 1 0 1 0 1]\n",
    " [1 0 1 0 1 0 1 0]\n",
    " [0 1 0 1 0 1 0 1]\n",
    " [1 0 1 0 1 0 1 0]\n",
    " [0 1 0 1 0 1 0 1]\n",
    " [1 0 1 0 1 0 1 0]]\n",
    "```\n",
    "\n",
    "</div>"
   ]
  },
  {
   "cell_type": "code",
   "execution_count": 69,
   "metadata": {},
   "outputs": [
    {
     "name": "stdout",
     "output_type": "stream",
     "text": [
      "[[0. 1. 0. 1. 0. 1. 0. 1.]\n",
      " [1. 0. 1. 0. 1. 0. 1. 0.]\n",
      " [0. 1. 0. 1. 0. 1. 0. 1.]\n",
      " [1. 0. 1. 0. 1. 0. 1. 0.]\n",
      " [0. 1. 0. 1. 0. 1. 0. 1.]\n",
      " [1. 0. 1. 0. 1. 0. 1. 0.]\n",
      " [0. 1. 0. 1. 0. 1. 0. 1.]\n",
      " [1. 0. 1. 0. 1. 0. 1. 0.]]\n"
     ]
    }
   ],
   "source": [
    "###ANSWER(5). \n",
    "# Write your code here.\n",
    "checkerboard = np.ones(64).reshape(8,8)\n",
    "checkerboard[::2,::2] = 0\n",
    "checkerboard[1::2,1::2] = 0\n",
    "#checkerboad = checkerboard.reshape((9,8))\n",
    "print(checkerboard)"
   ]
  },
  {
   "cell_type": "code",
   "execution_count": null,
   "metadata": {},
   "outputs": [],
   "source": [
    "#Please leave this cell blank."
   ]
  },
  {
   "cell_type": "markdown",
   "metadata": {},
   "source": [
    "<div class=\"alert alert-warning\"> \n",
    "<b>QUESTION 6:</b> \n",
    "<p>An array <code>arr_6</code> has been defined.</p>\n",
    "    \n",
    "```python\n",
    "arr_6 = np.array([38.2, 35.1, np.nan, 29.5, 25.6, np.nan, np.nan, 19.2, 32.4, np.nan, 29.5, np.nan])\n",
    "```\n",
    "\n",
    "<p>Reshape the array into $3\\times4$ and fill in the missing values with 15. Print <code>arr_6</code>, the expected output is shown below.</p>\n",
    "\n",
    "```\n",
    "[[38.2 35.1 15.  29.5]\n",
    " [25.6 15.  15.  19.2]\n",
    " [32.4 15.  29.5 15. ]]\n",
    "```    \n",
    "</div>"
   ]
  },
  {
   "cell_type": "code",
   "execution_count": 79,
   "metadata": {},
   "outputs": [
    {
     "name": "stdout",
     "output_type": "stream",
     "text": [
      "[[38.2 35.1 15.  29.5]\n",
      " [25.6 15.  15.  19.2]\n",
      " [32.4 15.  29.5 15. ]]\n"
     ]
    }
   ],
   "source": [
    "###ANSWER(6)\n",
    "arr_6 = np.array([38.2, 35.1, np.nan, 29.5, 25.6, np.nan, np.nan, 19.2, 32.4, np.nan, 29.5, np.nan])\n",
    "# Write your code here\n",
    "arr_6 = arr_6.reshape((3,4))\n",
    "arr_6[np.isnan(arr_6)] = 15\n",
    "print(arr_6)"
   ]
  },
  {
   "cell_type": "code",
   "execution_count": null,
   "metadata": {},
   "outputs": [],
   "source": [
    "#Please leave this cell blank."
   ]
  },
  {
   "cell_type": "markdown",
   "metadata": {},
   "source": [
    "<div class=\"alert alert-warning\">\n",
    "<b>QUESTION 7:</b> \n",
    "\n",
    "<p>Write <b>ONE LINE</b> of code to create a $5\\times5$ matrix with values 1,2,3,4 below the diagonal called <code>arr_7</code>. The expected output when printing <code>arr_7</code> is shown below.</p>\n",
    "    \n",
    "```\n",
    "[[0 0 0 0 0]\n",
    " [1 0 0 0 0]\n",
    " [0 2 0 0 0]\n",
    " [0 0 3 0 0]\n",
    " [0 0 0 4 0]]\n",
    "```\n",
    "\n",
    "</div>"
   ]
  },
  {
   "cell_type": "code",
   "execution_count": null,
   "metadata": {},
   "outputs": [],
   "source": [
    "###ANSWER(7). \n",
    "arr_7 = # Write your code here."
   ]
  },
  {
   "cell_type": "code",
   "execution_count": null,
   "metadata": {},
   "outputs": [],
   "source": [
    "#Please leave this cell blank."
   ]
  },
  {
   "cell_type": "markdown",
   "metadata": {},
   "source": [
    "<div class=\"alert alert-warning\">\n",
    "<b>QUESTION 8: </b> \n",
    "<p> An array <code>array_4d</code> has been defined.</p>\n",
    "    \n",
    "```python\n",
    "array_4d = np.array([[[[1, 84, 3], [8, 0, 47]], [[7, 9, 25], [68, 72, 46]]],\n",
    "                    [[[9, 7, 6], [4, 9, 87]], [[2, 3, 3], [77, 4, 21]]],\n",
    "                    [[[3, 80, 26], [52, 71, 64]],[[0, 0, 2], [67, 92, 58]]],\n",
    "                    [[[2, 10, 3], [7, 55, 96]], [[105, 1, 7],[174, 8, 49]]]])\n",
    "```\n",
    "<p>Write code to convert <code>array_4d</code> into a flat <b>1d array</b>. Assign the result to the variable <code>array_1d</code>. Print <code>array_1d</code>, the expected output is shown below.</p>\n",
    "     \n",
    "```\n",
    "[  1  84   3   8   0  47   7   9  25  68  72  46   9   7   6   4   9  87\n",
    "   2   3   3  77   4  21   3  80  26  52  71  64   0   0   2  67  92  58\n",
    "   2  10   3   7  55  96 105   1   7 174   8  49]\n",
    "```   \n",
    "</div>"
   ]
  },
  {
   "cell_type": "code",
   "execution_count": 86,
   "metadata": {},
   "outputs": [
    {
     "name": "stdout",
     "output_type": "stream",
     "text": [
      "[  1  84   3   8   0  47   7   9  25  68  72  46   9   7   6   4   9  87\n",
      "   2   3   3  77   4  21   3  80  26  52  71  64   0   0   2  67  92  58\n",
      "   2  10   3   7  55  96 105   1   7 174   8  49]\n"
     ]
    }
   ],
   "source": [
    "###ANSWER(8). \n",
    "array_4d = np.array([[[[1, 84, 3], [8, 0, 47]], [[7, 9, 25], [68, 72, 46]]],\n",
    "                    [[[9, 7, 6], [4, 9, 87]], [[2, 3, 3], [77, 4, 21]]],\n",
    "                    [[[3, 80, 26], [52, 71, 64]],[[0, 0, 2], [67, 92, 58]]],\n",
    "                    [[[2, 10, 3], [7, 55, 96]], [[105, 1, 7],[174, 8, 49]]]])\n",
    "\n",
    "# Write your code here.\n",
    "array_1d = array_4d.reshape(np.product(array_4d.shape))\n",
    "print(array_1d)"
   ]
  },
  {
   "cell_type": "code",
   "execution_count": null,
   "metadata": {},
   "outputs": [],
   "source": [
    "#Please leave this cell blank."
   ]
  },
  {
   "cell_type": "markdown",
   "metadata": {},
   "source": [
    "<div class=\"alert alert-warning\"> \n",
    "<b>QUESTION 9:</b> \n",
    "\n",
    "<p>Use <code>identity</code> function to create a $5\\times5$ array called <code>arr_9</code>. The expected output when printing <code>arr_9</code> is shown below.</p>\n",
    "\n",
    "```\n",
    "[[1. 0. 0. 0. 1.]\n",
    " [0. 1. 0. 1. 0.]\n",
    " [0. 0. 2. 0. 0.]\n",
    " [0. 1. 0. 1. 0.]\n",
    " [1. 0. 0. 0. 1.]]\n",
    "```\n",
    "\n",
    "</div>"
   ]
  },
  {
   "cell_type": "code",
   "execution_count": 95,
   "metadata": {},
   "outputs": [
    {
     "name": "stdout",
     "output_type": "stream",
     "text": [
      "[[1. 0. 0. 0. 1.]\n",
      " [0. 1. 0. 1. 0.]\n",
      " [0. 0. 2. 0. 0.]\n",
      " [0. 1. 0. 1. 0.]\n",
      " [1. 0. 0. 0. 1.]]\n"
     ]
    }
   ],
   "source": [
    "###ANSWEnp.entitR(9).\n",
    "arr_9 = np.identity(5).reshape((5,5))\n",
    "arr_9 = arr_9 + arr_9[::-1]\n",
    "# Write your code here\n",
    "print(arr_9)"
   ]
  },
  {
   "cell_type": "code",
   "execution_count": null,
   "metadata": {},
   "outputs": [],
   "source": [
    "#Please leave this cell blank."
   ]
  },
  {
   "cell_type": "markdown",
   "metadata": {},
   "source": [
    "<div class=\"alert alert-warning\">\n",
    "<b>QUESTION 10: </b> \n",
    "<p> An array <code>arr_10</code> has been defined.</p>\n",
    "    \n",
    "```python\n",
    "arr_10 = np.array([[ 1,  9,  4,  8,  8,  1,  5,  3,  6,  10],\n",
    "                   [ 3,  3,  2,  1,  9,  5,  1, 10,  7,  8],\n",
    "                   [ 5,  2,  6,  4,  5,  5,  4,  8,  2,  2],\n",
    "                   [ 8,  8,  1,  3,  5, 10,  4,  3,  6,  9],\n",
    "                   [ 10,  1,  8,  7,  3,  1,  7,  3,  6,  2],\n",
    "                   [ 9,  2,  6,  4,  3,  9,  4,  6,  1, 10]])\n",
    "```\n",
    "<p>Write code to generate a new array called <code>count_rowwise</code> where values in each row of the array are the counts of occurances of integers ranging from 1 to 10 for the corresponding row in <code>arr_10</code>. Print <code>count_rowwise</code>, the expected output is shown below.</p>\n",
    "    \n",
    "```\n",
    "[[2 0 1 1 1 1 0 2 1 1]\n",
    " [2 1 2 0 1 0 1 1 1 1]\n",
    " [0 3 0 2 3 1 0 1 0 0]\n",
    " [1 0 2 1 1 1 0 2 1 1]\n",
    " [2 1 2 0 0 1 2 1 0 1]\n",
    " [1 1 1 2 0 2 0 0 2 1]]\n",
    "```\n",
    "\n",
    "</div>"
   ]
  },
  {
   "cell_type": "code",
   "execution_count": null,
   "metadata": {},
   "outputs": [],
   "source": [
    "###ANSWER(10). \n",
    "arr_10 = np.array([[ 1,  9,  4,  8,  8,  1,  5,  3,  6,  10],\n",
    "                   [ 3,  3,  2,  1,  9,  5,  1, 10,  7,  8],\n",
    "                   [ 5,  2,  6,  4,  5,  5,  4,  8,  2,  2],\n",
    "                   [ 8,  8,  1,  3,  5, 10,  4,  3,  6,  9],\n",
    "                   [ 10,  1,  8,  7,  3,  1,  7,  3,  6,  2],\n",
    "                   [ 9,  2,  6,  4,  3,  9,  4,  6,  1, 10]])\n",
    "\n",
    "count_rowwise =  # Write your code here"
   ]
  },
  {
   "cell_type": "code",
   "execution_count": null,
   "metadata": {},
   "outputs": [],
   "source": [
    "#Please leave this cell blank."
   ]
  }
 ],
 "metadata": {
  "kernelspec": {
   "display_name": "Python 3 (ipykernel)",
   "language": "python",
   "name": "python3"
  },
  "language_info": {
   "codemirror_mode": {
    "name": "ipython",
    "version": 3
   },
   "file_extension": ".py",
   "mimetype": "text/x-python",
   "name": "python",
   "nbconvert_exporter": "python",
   "pygments_lexer": "ipython3",
   "version": "3.9.13"
  }
 },
 "nbformat": 4,
 "nbformat_minor": 4
}
