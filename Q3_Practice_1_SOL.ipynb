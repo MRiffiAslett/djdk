{
 "cells": [
  {
   "cell_type": "markdown",
   "metadata": {
    "deletable": false,
    "editable": false
   },
   "source": [
    "<div class=\"image\">\n",
    "\n",
    "  <img style=\"float: right;\" src=\"https://dx5i3n065oxey.cloudfront.net/platform/4186/assets/logo.png?v=2e76f927-9482-4bfb-9092-d9a0b595cd2c\" width=\"45%\" align=\"right\">\n",
    "      <h4>\n",
    "          <p style=\"font-size:20pt\">Programming for Business Analytics</p>\n",
    "          <p style=\"font-size:15pt\">Q3 Practice 1</p>\n",
    "      </h4>\n",
    "</div>\n",
    "\n",
    "- Make sure you have executed the code in the cell below.\n",
    "- Make sure you read the questions carefully and follow the instructions.\n",
    "- Make sure you put the answers in the Answer cells.\n",
    "- Please do not put your answers in comments (after #).\n",
    "- Please do not add any new cells between the Question and Answer cells.\n",
    "- Please do not change the names of the variables in Answer cells.\n",
    "- Please do not assign the expected result directly to the variable."
   ]
  },
  {
   "cell_type": "code",
   "execution_count": null,
   "metadata": {
    "deletable": false
   },
   "outputs": [],
   "source": [
    "#Please make sure your Jupyter Notebook environment is running a Python 3 kernel \n",
    "import IPython\n",
    "assert IPython.version_info[0] >= 3, \"Your version of IPython is too old, please update it.\"\n",
    "%autosave 120"
   ]
  },
  {
   "cell_type": "markdown",
   "metadata": {
    "deletable": false,
    "editable": false
   },
   "source": [
    "<div class=\"alert alert-warning\"> \n",
    "<b>QUESTION 1:</b> What is an exception?<p>\n",
    "\n",
    "<p> a) An event that occurs due to incorrect code or input</p>\n",
    "<p> b) A function that does not run correctly</p>\n",
    "<p> c) A variable defined to identify bugs</p>\n",
    "<p> d) A bug in the code</p>\n",
    "</div>"
   ]
  },
  {
   "cell_type": "code",
   "execution_count": null,
   "metadata": {
    "deletable": false
   },
   "outputs": [],
   "source": [
    "###ANSWER(1). Please assign the letter representing the correct answer to the variable \n",
    "### (write it down between the \"\")\n",
    "\n",
    "answer_1 = \"\" # YOUR CODE SHOULD BE BETWEEN \"\"\n",
    "### BEGIN SOLUTION\n",
    "answer_1 = \"a\"\n",
    "### END SOLUTION"
   ]
  },
  {
   "cell_type": "code",
   "execution_count": null,
   "metadata": {
    "deletable": false,
    "editable": false
   },
   "outputs": [],
   "source": [
    "#Please leave this cell blank."
   ]
  },
  {
   "cell_type": "markdown",
   "metadata": {
    "deletable": false,
    "editable": false
   },
   "source": [
    "<div class=\"alert alert-warning\">\n",
    "<b>QUESTION 2:</b>\n",
    "\n",
    "<p>Write a function called <code>ReLU</code> which takes a number as the argument. The function would return 0 if the argument is less than or equal to 0, and return the same number if it's larger than 0.</p> \n",
    "<br>\n",
    "<p>If you call the function with argument being 10, the return value is <code>10</code>.</p>\n",
    "<p>If you call the function with argument being -10, the return value is <code>0</code>.</p>\n",
    "</div>"
   ]
  },
  {
   "cell_type": "code",
   "execution_count": null,
   "metadata": {
    "deletable": false
   },
   "outputs": [],
   "source": [
    "###ANSWER(2). \n",
    "# Please write your code here.\n",
    "def ReLU\n",
    "\n",
    "### BEGIN SOLUTION\n",
    "def ReLU(x):\n",
    "    if x<=0:\n",
    "        return 0\n",
    "    else:\n",
    "        return x\n",
    "### END SOLUTION"
   ]
  },
  {
   "cell_type": "code",
   "execution_count": null,
   "metadata": {
    "deletable": false,
    "editable": false
   },
   "outputs": [],
   "source": [
    "#Please leave this cell blank."
   ]
  },
  {
   "cell_type": "markdown",
   "metadata": {
    "deletable": false,
    "editable": false
   },
   "source": [
    "<div class=\"alert alert-warning\">\n",
    "<b>QUESTION 3:</b> \n",
    "<p>Define a function which takes two arguments, the first one is $x$ and the second one is $y$, name it <code>radical</code>.</p>\n",
    "<p>It should <b>return</b> the result from below equation.</p>  \n",
    "        $\\sqrt[y]{x}$\n",
    "<p>Make sure you use <code>return</code>.</p>\n",
    "</div>"
   ]
  },
  {
   "cell_type": "code",
   "execution_count": null,
   "metadata": {
    "deletable": false
   },
   "outputs": [],
   "source": [
    "###ANSWER(3). \n",
    "# Please write your code here.\n",
    "def radical\n",
    "\n",
    "### BEGIN SOLUTION\n",
    "def radical(x, y):\n",
    "    return x**(1/y)\n",
    "### END SOLUTION"
   ]
  },
  {
   "cell_type": "code",
   "execution_count": null,
   "metadata": {
    "deletable": false,
    "editable": false
   },
   "outputs": [],
   "source": [
    "#Please leave this cell blank."
   ]
  },
  {
   "cell_type": "markdown",
   "metadata": {
    "deletable": false,
    "editable": false
   },
   "source": [
    "<div class=\"alert alert-warning\">\n",
    "<b>QUESTION 4:</b> \n",
    "<p>Create a file (<code>random.txt</code>) in the current directory and write <code>Random Text</code> to the file.</p>\n",
    "</div>"
   ]
  },
  {
   "cell_type": "code",
   "execution_count": null,
   "metadata": {
    "deletable": false
   },
   "outputs": [],
   "source": [
    "###ANSWER(4). \n",
    "# Please write your code here.\n",
    "\n",
    "### BEGIN SOLUTION\n",
    "with open(\"random.txt\", \"w\") as file:\n",
    "    file.write(\"Random Text\")\n",
    "### END SOLUTION"
   ]
  },
  {
   "cell_type": "code",
   "execution_count": null,
   "metadata": {
    "deletable": false,
    "editable": false
   },
   "outputs": [],
   "source": [
    "#Please leave this cell blank."
   ]
  },
  {
   "cell_type": "markdown",
   "metadata": {
    "deletable": false,
    "editable": false
   },
   "source": [
    "<div class=\"alert alert-warning\">\n",
    "<b>QUESTION 5:</b> \n",
    "    <p>Create a function called <code>divisor</code> which takes one numerical argument. The function would <b>return</b> the value of 100 divided by the argument. If the function is called with the argument being 0, it will raise <code>AssertionError</code> with the message <code>Can't divide by zero.</code>.</p>\n",
    "<br>\n",
    "<p>If you call the function with argument being 2, the return value is <code>50</code>.</p>\n",
    "</div>"
   ]
  },
  {
   "cell_type": "code",
   "execution_count": null,
   "metadata": {
    "deletable": false
   },
   "outputs": [],
   "source": [
    "###ANSWER(5). \n",
    "# Please write your code here.\n",
    "def divisor\n",
    "\n",
    "### BEGIN SOLUTION\n",
    "def divisor(x):\n",
    "    assert x!=0, \"Can't divide by zero.\"\n",
    "    return 100/x\n",
    "### END SOLUTION"
   ]
  },
  {
   "cell_type": "code",
   "execution_count": null,
   "metadata": {
    "deletable": false,
    "editable": false
   },
   "outputs": [],
   "source": [
    "#Please leave this cell blank."
   ]
  },
  {
   "cell_type": "markdown",
   "metadata": {
    "deletable": false,
    "editable": false
   },
   "source": [
    "<div class=\"alert alert-warning\">\n",
    "<b>QUESTION 6:</b> \n",
    "<p>Create a function called <code>odd_checker</code> which takes an integer as the argument. The function would <b>print</b> <code>odd</code> if the argument is a odd number and <b>print</b> <code>even</code> otherwise.</p>\n",
    "<br>\n",
    "<p>If you call the function with argument being 2, it would print <code>even</code>.</p>\n",
    "<p>If you call the function with argument being 3, it would print <code>odd</code>.</p>\n",
    "</div>"
   ]
  },
  {
   "cell_type": "code",
   "execution_count": null,
   "metadata": {
    "deletable": false
   },
   "outputs": [],
   "source": [
    "###ANSWER(6). \n",
    "# Please write your code here.\n",
    "def odd_checker\n",
    "\n",
    "### BEGIN SOLUTION\n",
    "def odd_checker(num):\n",
    "    if num%2==0:\n",
    "        print('even')\n",
    "    else:\n",
    "        print('odd')\n",
    "### END SOLUTION"
   ]
  },
  {
   "cell_type": "code",
   "execution_count": 100,
   "metadata": {
    "deletable": false,
    "editable": false
   },
   "outputs": [],
   "source": [
    "#Please leave this cell blank."
   ]
  },
  {
   "cell_type": "markdown",
   "metadata": {
    "deletable": false,
    "editable": false
   },
   "source": [
    "<div class=\"alert alert-warning\"> \n",
    "<b>QUESTION 7:</b> \n",
    "<p>Create a function called <code>sqr_root_div_by_2</code> that takes a number as the argument and calculate the square root of it, then divide the result of the square root by 2. Return the end result. Please make sure that it applies only to real numbers, so should the user attempt to call the function with a negative number the function should raise a <code>ValueError</code>.</p>\n",
    "<br>\n",
    "<p>If you call the function with argument being 4, the return value is <code>1.0</code>.</p>\n",
    "<p>If you call the function with argument being 81, the return value is <code>4.5</code>.</p>\n",
    "<p>If you call the function with argument being -8, a <code>ValueError</code> is raised.</p>\n",
    "</div>"
   ]
  },
  {
   "cell_type": "code",
   "execution_count": null,
   "metadata": {
    "deletable": false
   },
   "outputs": [],
   "source": [
    "###ANSWER(7). \n",
    "# Please write your code here.\n",
    "def sqr_root_div_by_2\n",
    "\n",
    "### BEGIN SOLUTION\n",
    "def sqr_root_div_by_2(x):\n",
    "    if x < 0:\n",
    "        raise ValueError\n",
    "    else:\n",
    "        return (x ** (1/2))/2\n",
    "### END SOLUTION"
   ]
  },
  {
   "cell_type": "code",
   "execution_count": null,
   "metadata": {
    "deletable": false,
    "editable": false
   },
   "outputs": [],
   "source": [
    "#Please leave this cell blank."
   ]
  },
  {
   "cell_type": "markdown",
   "metadata": {
    "deletable": false,
    "editable": false
   },
   "source": [
    "<div class=\"alert alert-warning\"> \n",
    "<b>QUESTION 8:</b> \n",
    "<p>Define a function called <code>sum_all</code> that takes one positive integer as the argument. The function would <b>return</b> the sum of all the positive integer numbers from 0 to the input number. For instance, calling the function with the argument being 3 would return 6. Also, the function should check whether the input argument is a positive integer number, if not, raise <code>AssertionError</code> with the message <code>Please use positive integer number.</code></p>\n",
    "</div>"
   ]
  },
  {
   "cell_type": "code",
   "execution_count": null,
   "metadata": {
    "deletable": false
   },
   "outputs": [],
   "source": [
    "###ANSWER(8). \n",
    "# Please write your code here.\n",
    "def sum_all\n",
    "\n",
    "### BEGIN SOLUTION\n",
    "def sum_all(x):\n",
    "    assert isinstance(x, int) and x>0, 'Please use positive integer number.'\n",
    "    res = 0\n",
    "    for i in range(x+1):\n",
    "        res += i\n",
    "    return res\n",
    "### END SOLUTION"
   ]
  },
  {
   "cell_type": "code",
   "execution_count": null,
   "metadata": {
    "deletable": false,
    "editable": false
   },
   "outputs": [],
   "source": [
    "#Please leave this cell blank."
   ]
  },
  {
   "cell_type": "markdown",
   "metadata": {
    "deletable": false,
    "editable": false
   },
   "source": [
    "<div class=\"alert alert-warning\">\n",
    "<b>QUESTION 9:</b> \n",
    "<p> Define a function called <code>fibonacci_num</code> which takes 1 positive integer <code>n</code> as the argument. The function will <b>return</b> the term number \"n\" in the Fibonacci sequence.</p>  \n",
    "<p>The <b>\"rule\"</b> for the Fibonnaci is:\n",
    "\\begin{align}\n",
    "x_n = x_{ n-1} + x_{ n-2}\n",
    "\\end{align}\n",
    "</p>\n",
    "\\begin{array}{rr} \\hline\n",
    "n &0 &1 &2 &3 &4 &5 &6 &7 &8 &9 &10 &...\\\\ \\hline\n",
    "x_n &0 &1 &1 &2 &3 &5 &8 &13 &21 &34 &55 &...\\\\ \\hline\n",
    "\\end{array}\n",
    "<br>\n",
    "<p>If you call the function with argument being 0, the return value is <code>0</code>.</p>\n",
    "<p>If you call the function with argument being 3, the return value is <code>2</code>.</p>\n",
    "<p>If you call the function with argument being 8, the return value is <code>21</code>.</p>\n",
    "<p>If you call the function with argument being 15, the return value is <code>610</code>.</p>\n",
    "</div>"
   ]
  },
  {
   "cell_type": "code",
   "execution_count": null,
   "metadata": {
    "deletable": false
   },
   "outputs": [],
   "source": [
    "###ANSWER(9). \n",
    "# Please write your code here.\n",
    "def fibonacci_num\n",
    "\n",
    "### BEGIN SOLUTION\n",
    "def fibonacci_num(n):\n",
    "    n_1 = 0\n",
    "    n_2 = 1\n",
    "    count = 1\n",
    "    if n==0:\n",
    "        return 0\n",
    "    if n==1:\n",
    "        return 1\n",
    "    while count<n:\n",
    "        nth = n_1 + n_2\n",
    "        n_1 = n_2\n",
    "        n_2 = nth\n",
    "        count += 1\n",
    "    return nth\n",
    "### END SOLUTION"
   ]
  },
  {
   "cell_type": "code",
   "execution_count": 65,
   "metadata": {
    "deletable": false,
    "editable": false
   },
   "outputs": [],
   "source": [
    "#Please leave this cell blank."
   ]
  },
  {
   "cell_type": "markdown",
   "metadata": {
    "deletable": false,
    "editable": false
   },
   "source": [
    "<div class=\"alert alert-warning\">\n",
    "<b>QUESTION 10:</b> \n",
    "<p> Define a function called <code>prime_num_gen</code> which takes 1 positive integer as the argument. The function will <b>return</b> a list containing all the prime numbers up to the argument (including the argument itself). An empty list will be returned if there's no prime number within the range.</p>\n",
    "<br>\n",
    "<p>If you call the function with argument being 1, the return list is <code>[]</code>.</p>\n",
    "<p>If you call the function with argument being 2, the return list is <code>[2]</code>.</p>\n",
    "<p>If you call the function with argument being 3, the return list is <code>[2, 3]</code>.</p>\n",
    "<p>If you call the function with argument being 17, the return list is <code>[2, 3, 5, 7, 11, 13, 17]</code>.</p>\n",
    "<p>If you call the function with argument being 50, the return list is <code>[2, 3, 5, 7, 11, 13, 17, 19, 23, 29, 31, 37, 41, 43, 47]</code>.</p>\n",
    "<br>\n",
    "<p>A prime number has to be a positive integer, which is divisible by exactly <b>2</b> integers (1 and itself), also 1 is not a prime number.</p>\n",
    "</div>"
   ]
  },
  {
   "cell_type": "code",
   "execution_count": null,
   "metadata": {
    "deletable": false
   },
   "outputs": [],
   "source": [
    "###ANSWER(10). \n",
    "# Please write your code here.\n",
    "def prime_num_gen\n",
    "\n",
    "### BEGIN SOLUTION\n",
    "def prime_num_gen(x):\n",
    "    prime_num_list = []\n",
    "    for num in range(2, x+1):\n",
    "        isPrime = True\n",
    "        for divisor in range(2, num):\n",
    "            if num%divisor == 0:\n",
    "                isPrime = False\n",
    "        if isPrime:\n",
    "            prime_num_list.append(num)\n",
    "    return prime_num_list \n",
    "### END SOLUTION"
   ]
  },
  {
   "cell_type": "code",
   "execution_count": null,
   "metadata": {
    "deletable": false,
    "editable": false
   },
   "outputs": [],
   "source": [
    "#Please leave this cell blank."
   ]
  }
 ],
 "metadata": {
  "kernelspec": {
   "display_name": "Python 3 (ipykernel)",
   "language": "python",
   "name": "python3"
  },
  "language_info": {
   "codemirror_mode": {
    "name": "ipython",
    "version": 3
   },
   "file_extension": ".py",
   "mimetype": "text/x-python",
   "name": "python",
   "nbconvert_exporter": "python",
   "pygments_lexer": "ipython3",
   "version": "3.9.13"
  }
 },
 "nbformat": 4,
 "nbformat_minor": 4
}
