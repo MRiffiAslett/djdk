{
 "cells": [
  {
   "cell_type": "markdown",
   "metadata": {
    "deletable": false,
    "editable": false
   },
   "source": [
    "<div class=\"image\">\n",
    "\n",
    "  <img style=\"float: right;\" src=\"https://dx5i3n065oxey.cloudfront.net/platform/4186/assets/logo.png?v=2e76f927-9482-4bfb-9092-d9a0b595cd2c\" width=\"45%\" align=\"right\">\n",
    "      <h4>\n",
    "          <p style=\"font-size:20pt\">Programming for Business Analytics</p>\n",
    "          <p style=\"font-size:15pt\">Q3 Practice 2</p>\n",
    "      </h4>\n",
    "</div>\n",
    "\n",
    "- Make sure you have executed the code in the cell below.\n",
    "- Make sure you read the questions carefully and follow the instructions.\n",
    "- Make sure you put the answers in the Answer cells.\n",
    "- Please do not put your answers in comments (after #).\n",
    "- Please do not add any new cells between the Question and Answer cells.\n",
    "- Please do not change the names of the variables in Answer cells.\n",
    "- Please do not assign the expected result directly to the variable."
   ]
  },
  {
   "cell_type": "code",
   "execution_count": null,
   "metadata": {
    "deletable": false
   },
   "outputs": [],
   "source": [
    "#Please make sure your Jupyter Notebook environment is running a Python 3 kernel \n",
    "import IPython\n",
    "assert IPython.version_info[0] >= 3, \"Your version of IPython is too old, please update it.\"\n",
    "%autosave 120"
   ]
  },
  {
   "cell_type": "markdown",
   "metadata": {
    "deletable": false,
    "editable": false
   },
   "source": [
    "<div class=\"alert alert-warning\"> \n",
    "<b>QUESTION 1:</b> \n",
    "<p>Which one of the following statements is wrong?</p>\n",
    "<p> a) Once a value is returned from a function, the function stops being executed.</p>\n",
    "<p> b) A function can only return a single value. </p>\n",
    "<p> c) A function can be used as an argument for another function. </p>\n",
    "<p> d) It is possible to give a default value to the argument of the function.</p>\n",
    "</div>"
   ]
  },
  {
   "cell_type": "code",
   "execution_count": null,
   "metadata": {
    "deletable": false
   },
   "outputs": [],
   "source": [
    "###ANSWER(1). Please assign the letter representing the correct answer to the variable \n",
    "### (write it down between the \"\")\n",
    "\n",
    "answer_1 = \"\" # YOUR CODE SHOULD BE BETWEEN \"\""
   ]
  },
  {
   "cell_type": "code",
   "execution_count": null,
   "metadata": {
    "deletable": false,
    "editable": false
   },
   "outputs": [],
   "source": [
    "#Please leave this cell blank."
   ]
  },
  {
   "cell_type": "markdown",
   "metadata": {
    "deletable": false,
    "editable": false
   },
   "source": [
    "<div class=\"alert alert-warning\">\n",
    "<b>QUESTION 2:</b>\n",
    "<p>Which one of the following statements is wrong?</p>\n",
    "<p> a) We must specify the type of exception when using the <code>raise</code> statement.</p>\n",
    "<p> b) An exception is raised if the first argument in the <code>assert</code> statement is <code>False</code>.</p>\n",
    "<p> c) The code within a <code>finally</code> statement would always run even when an exception is raised when executing the code within the preceding <code>try</code> statement. </p>\n",
    "<p> d) An except statement without any exception specified will catch all errors.</p>\n",
    "</div>"
   ]
  },
  {
   "cell_type": "code",
   "execution_count": null,
   "metadata": {
    "deletable": false
   },
   "outputs": [],
   "source": [
    "###ANSWER(2). Please assign the letter representing the correct answer to the variable \n",
    "### (write it down between the \"\")\n",
    "\n",
    "answer_2 = \"\" # YOUR CODE SHOULD BE BETWEEN \"\""
   ]
  },
  {
   "cell_type": "code",
   "execution_count": null,
   "metadata": {
    "deletable": false,
    "editable": false
   },
   "outputs": [],
   "source": [
    "#Please leave this cell blank."
   ]
  },
  {
   "cell_type": "markdown",
   "metadata": {
    "deletable": false,
    "editable": false
   },
   "source": [
    "## <div class=\"alert alert-warning\">\n",
    "<b>QUESTION 3:</b> \n",
    "<p>Create a function called <code>reverse</code> which takes a string as the argument. The function would <b>return</b> the reversed string.</p>\n",
    "<br>\n",
    "<p>If you call the function with the argument being \"abc\", it would return \"cba\".</p>\n",
    "<p>If you call the function with the argument being \"qwer\", it would return \"rewq\".</p>\n",
    "</div>"
   ]
  },
  {
   "cell_type": "code",
   "execution_count": 3,
   "metadata": {
    "deletable": false
   },
   "outputs": [
    {
     "data": {
      "text/plain": [
       "'cba'"
      ]
     },
     "execution_count": 3,
     "metadata": {},
     "output_type": "execute_result"
    }
   ],
   "source": [
    "###ANSWER(3). \n",
    "# Please write your code here.\n",
    "def reverse(x):\n",
    "    return x[::-1]\n",
    "reverse('abc')"
   ]
  },
  {
   "cell_type": "code",
   "execution_count": 5,
   "metadata": {
    "deletable": false,
    "editable": false
   },
   "outputs": [],
   "source": [
    "#Please leave this cell blank."
   ]
  },
  {
   "cell_type": "markdown",
   "metadata": {
    "deletable": false,
    "editable": false
   },
   "source": [
    "<div class=\"alert alert-warning\">\n",
    "<b>QUESTION 4:</b> \n",
    "<p>Create a function called <code>check_duplicate</code> which takes a list as the argument. The function would <b>return</b> <code>True</code> if there are any duplicated elements in the list, <b>return</b> <code>False</code> if all elements are unique.</p>\n",
    "<br>\n",
    "<p>If you call the function with the argument being <code>[5, 3, 1, 1, 3]</code>, it would return <code>True</code>.</p>\n",
    "<p>If you call the function with the argument being <code>[10, 'yes', '1', 1, 2]</code>, it would return <code>False</code>.</p>\n",
    "</div>"
   ]
  },
  {
   "cell_type": "code",
   "execution_count": 6,
   "metadata": {
    "deletable": false
   },
   "outputs": [
    {
     "data": {
      "text/plain": [
       "True"
      ]
     },
     "execution_count": 6,
     "metadata": {},
     "output_type": "execute_result"
    }
   ],
   "source": [
    "###ANSWER(4). \n",
    "# Please write your code here.\n",
    "def check_duplicate(x):\n",
    "    for i in x:\n",
    "        if x.count(i) > 1:\n",
    "            return True\n",
    "    return False\n",
    "\n",
    "\n",
    "check_duplicate([5, 3, 1, 1, 3])"
   ]
  },
  {
   "cell_type": "code",
   "execution_count": 18,
   "metadata": {
    "deletable": false,
    "editable": false
   },
   "outputs": [],
   "source": [
    "#Please leave this cell blank."
   ]
  },
  {
   "cell_type": "markdown",
   "metadata": {
    "deletable": false,
    "editable": false
   },
   "source": [
    "<div class=\"alert alert-warning\">\n",
    "<b>QUESTION 5:</b> \n",
    "<p>Create a function called <code>sqr_root</code> that takes a number as the argument and return the square root of it. Since we can only apply square root on real numbers, if the user attempts to call the function with a negative number, the function should raise an <code>AssertionError</code> with the message <code>Please use a real number.</code></p>\n",
    "<br>\n",
    "<p>If you call the function with the argument being 4, the return value is <code>2.0</code>.</p>\n",
    "<p>If you call the function with the argument being 81, the return value is <code>9.0</code>.</p>\n",
    "<p>If you call the function with the argument being -2, an <code>AssertionError</code> is raised with the message <code>Please use a real number.</code></p>\n",
    "</div>"
   ]
  },
  {
   "cell_type": "code",
   "execution_count": 11,
   "metadata": {
    "deletable": false
   },
   "outputs": [
    {
     "data": {
      "text/plain": [
       "2.0"
      ]
     },
     "execution_count": 11,
     "metadata": {},
     "output_type": "execute_result"
    }
   ],
   "source": [
    "###ANSWER(5). \n",
    "# Please write your code here.\n",
    "def sqr_root(x):\n",
    "    assert x > 0, 'Please use a real number'\n",
    "    return x**(1/2)\n",
    "sqr_root(4)"
   ]
  },
  {
   "cell_type": "code",
   "execution_count": null,
   "metadata": {
    "deletable": false,
    "editable": false
   },
   "outputs": [],
   "source": [
    "#Please leave this cell blank."
   ]
  },
  {
   "cell_type": "markdown",
   "metadata": {
    "deletable": false,
    "editable": false
   },
   "source": [
    "<div class=\"alert alert-warning\">\n",
    "<b>QUESTION 6:</b> \n",
    "<p>Create a function called <code>prime_checker</code> which takes a positive integer as the argument. The function would <b>print</b> <code>Prime Number</code> if the argument is a prime number&ast; and <b>print</b> <code>Not a Prime Number</code> otherwise.</p>\n",
    "<br>\n",
    "<p>If you call the function with the argument being 1, it would print <code>Not a Prime Number</code></p>\n",
    "<p>If you call the function with the argument being 13, it would print <code>Prime Number</code></p>\n",
    "<p>If you call the function with the argument being 16, it would print <code>Not a Prime Number</code></p>\n",
    "<br>\n",
    "&ast; A prime number has to be a positive integer, which is divisible by exactly $2$ integers ($1$ and itself), also $1$ is not a prime number.\n",
    "</div>"
   ]
  },
  {
   "cell_type": "code",
   "execution_count": 19,
   "metadata": {
    "deletable": false
   },
   "outputs": [
    {
     "data": {
      "text/plain": [
       "'Prime number'"
      ]
     },
     "execution_count": 19,
     "metadata": {},
     "output_type": "execute_result"
    }
   ],
   "source": [
    "###ANSWER(6). \n",
    "# Please write your code here.\n",
    "def prime_checker(x):\n",
    "    for i in range(2,x):\n",
    "        if x % i == 0:\n",
    "            return 'Not a prime Number'\n",
    "    return 'Prime number'\n",
    "\n",
    "prime_checker(11)"
   ]
  },
  {
   "cell_type": "code",
   "execution_count": 100,
   "metadata": {
    "deletable": false,
    "editable": false
   },
   "outputs": [],
   "source": [
    "#Please leave this cell blank."
   ]
  },
  {
   "cell_type": "markdown",
   "metadata": {
    "deletable": false,
    "editable": false
   },
   "source": [
    "<div class=\"alert alert-warning\"> \n",
    "<b>QUESTION 7:</b> \n",
    "<p>Create a file (<code>random.txt</code>) in the current directory and write <code>This is a random text</code> to the file.</p>\n",
    "</div>"
   ]
  },
  {
   "cell_type": "code",
   "execution_count": 28,
   "metadata": {
    "deletable": false
   },
   "outputs": [
    {
     "name": "stdout",
     "output_type": "stream",
     "text": [
      "this is the text\n"
     ]
    }
   ],
   "source": [
    "###ANSWER(7). \n",
    "# Please write your code here.\n",
    "with open('file.txt', \"w\") as file:\n",
    "    file.write(\"this is the text\")\n",
    "\n",
    "with open('file.txt', \"r\") as file:\n",
    "    for i in file:\n",
    "        print(i)\n",
    "    \n"
   ]
  },
  {
   "cell_type": "code",
   "execution_count": null,
   "metadata": {
    "deletable": false,
    "editable": false
   },
   "outputs": [],
   "source": [
    "#Please leave this cell blank."
   ]
  },
  {
   "cell_type": "markdown",
   "metadata": {
    "deletable": false,
    "editable": false
   },
   "source": [
    "<div class=\"alert alert-warning\"> \n",
    "<b>QUESTION 8:</b> \n",
    "<p>Create a function called <code>largest_element</code>, the argument of the function is a list or a nested list (list with sublists) with positive numbers being the elements. The function would return the largest element of the list (or the nested list).</p>\n",
    "<br>\n",
    "<p>If you call the function with the argument being <code>[1,4,2,2,3]</code>, the return value is <code>4</code>.</p>\n",
    "<p>If you call the function with the argument being <code>[1,[7,4],2,[10,3,15],3]</code>, the return value is <code>15</code>.</p>\n",
    "<p>If you call the function with the argument being <code>[1.24,2,4.3,[5.1,7.7],3]</code>, the return value is <code>7.7</code>.</p>\n",
    "</div>"
   ]
  },
  {
   "cell_type": "code",
   "execution_count": 33,
   "metadata": {
    "deletable": false
   },
   "outputs": [
    {
     "data": {
      "text/plain": [
       "7.7"
      ]
     },
     "execution_count": 33,
     "metadata": {},
     "output_type": "execute_result"
    }
   ],
   "source": [
    "###ANSWER(8). \n",
    "# Please write your code here.\n",
    "def largest_element(x):\n",
    "    num = 0\n",
    "    for i in x:\n",
    "        if isinstance(i,list):\n",
    "            if num < max(i):\n",
    "                num = max(i)\n",
    "        else:\n",
    "            if i > num:\n",
    "                num = i\n",
    "    return num\n",
    "largest_element([1.24,2,4.3,[5.1,7.7],3])"
   ]
  },
  {
   "cell_type": "code",
   "execution_count": null,
   "metadata": {
    "deletable": false,
    "editable": false
   },
   "outputs": [],
   "source": [
    "#Please leave this cell blank."
   ]
  },
  {
   "cell_type": "markdown",
   "metadata": {
    "deletable": false,
    "editable": false
   },
   "source": [
    "<div class=\"alert alert-warning\">\n",
    "<b>QUESTION 9:</b> \n",
    "    \n",
    "Complete the code in the cell below so that it would print <code>Something is wrong.</code> when executing.\n",
    "    \n",
    "```python\n",
    "try:\n",
    "    _______\n",
    "except ZeroDivisionError:\n",
    "    print('Divided by zero.')\n",
    "except:\n",
    "    print('Something is wrong.')\n",
    "```\n",
    "\n",
    "</div>"
   ]
  },
  {
   "cell_type": "code",
   "execution_count": 36,
   "metadata": {
    "deletable": false
   },
   "outputs": [],
   "source": [
    "###ANSWER(9). \n",
    "# Please write your code here.\n",
    "try:\n",
    "    3==8\n",
    "except ZeroDivisionError:\n",
    "    print('Divided by zero.')\n",
    "except:\n",
    "    print('Something is wrong.')"
   ]
  },
  {
   "cell_type": "code",
   "execution_count": 37,
   "metadata": {
    "deletable": false,
    "editable": false
   },
   "outputs": [],
   "source": [
    "#Please leave this cell blank."
   ]
  },
  {
   "cell_type": "markdown",
   "metadata": {
    "deletable": false,
    "editable": false
   },
   "source": [
    "<div class=\"alert alert-warning\">\n",
    "<b>QUESTION 10:</b> \n",
    "<p> Define a function called <code>insert_pos</code> which takes 2 arguments: a sorted list of distinct integers and a target integer. If the target integer can be found in the list, the function would <b>return</b> the index of it. If not, the function would <b>return</b> the index where it would be if it were inserted in order.</p>\n",
    "<br>\n",
    "<p>If you call the function with arguments being <code>[1,3,5]</code> and <code>3</code>, the returned value is <code>1</code> ( 3 is in the list [1,3,5], so 1 which is the index of 3 is returned).</p>\n",
    "<p>If you call the function with arguments being <code>[1,3,5]</code> and <code>5</code>, the returned value is <code>2</code>.</p>\n",
    "<p>If you call the function with arguments being <code>[1,3,5]</code> and <code>2</code>, the returned value is <code>1</code> ( 2 is not in the list [1,3,5], if we insert 2 in order, the list would be [1,2,3,5], the index of 2 is 1, so 1 is returned).</p>\n",
    "<p>If you call the function with arguments being <code>[1,3,5]</code> and <code>4</code>, the returned value is <code>2</code>.</p>\n",
    "</div>"
   ]
  },
  {
   "cell_type": "code",
   "execution_count": 42,
   "metadata": {
    "deletable": false
   },
   "outputs": [
    {
     "data": {
      "text/plain": [
       "1"
      ]
     },
     "execution_count": 42,
     "metadata": {},
     "output_type": "execute_result"
    }
   ],
   "source": [
    "###ANSWER(10). \n",
    "# Please write your code here.\n",
    "def insert_pos(x,y):\n",
    "    if y in x:\n",
    "        return x.index(y)\n",
    "    else:\n",
    "        for i in x:\n",
    "            if y < i:\n",
    "                break \n",
    "        return x.index(i)\n",
    "    \n",
    "insert_pos([1,3,5],2)"
   ]
  },
  {
   "cell_type": "code",
   "execution_count": null,
   "metadata": {
    "deletable": false,
    "editable": false
   },
   "outputs": [],
   "source": [
    "#Please leave this cell blank."
   ]
  }
 ],
 "metadata": {
  "kernelspec": {
   "display_name": "Python 3 (ipykernel)",
   "language": "python",
   "name": "python3"
  },
  "language_info": {
   "codemirror_mode": {
    "name": "ipython",
    "version": 3
   },
   "file_extension": ".py",
   "mimetype": "text/x-python",
   "name": "python",
   "nbconvert_exporter": "python",
   "pygments_lexer": "ipython3",
   "version": "3.9.13"
  }
 },
 "nbformat": 4,
 "nbformat_minor": 4
}
