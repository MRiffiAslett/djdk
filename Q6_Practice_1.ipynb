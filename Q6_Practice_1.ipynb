{
 "cells": [
  {
   "cell_type": "markdown",
   "metadata": {
    "nbgrader": {
     "grade": false,
     "grade_id": "cell-a009c2b9e8ab32fd",
     "locked": true,
     "schema_version": 3,
     "solution": false,
     "task": false
    }
   },
   "source": [
    "<div class=\"image\">\n",
    "\n",
    "  <img style=\"float: right;\" src=\"https://dx5i3n065oxey.cloudfront.net/platform/4186/assets/logo.png?v=2e76f927-9482-4bfb-9092-d9a0b595cd2c\" width=\"45%\" align=\"right\">\n",
    "      <h4>\n",
    "          <p style=\"font-size:20pt\">Programming for Business Analytics</p>\n",
    "          <p style=\"font-size:15pt\">Q6 Practice 1</p>\n",
    "      </h4>\n",
    "</div>\n",
    "\n",
    "- Make sure you have executed the code in the cell below.\n",
    "- Make sure you read the questions carefully and follow the instructions.\n",
    "- Make sure you put the answers in the Answer cells.\n",
    "- Please do not put your answers in comments (after #).\n",
    "- Please do not add any new cells between the Question and Answer cells.\n",
    "- Please do not change the names of the variables in Answer cells.\n",
    "- Please do not assign the expected result directly to the variable.\n",
    "- Please do not change the pre-defined variables."
   ]
  },
  {
   "cell_type": "code",
   "execution_count": 1,
   "metadata": {
    "nbgrader": {
     "grade": false,
     "grade_id": "cell-76d86cd6522bf16a",
     "locked": true,
     "schema_version": 3,
     "solution": false,
     "task": false
    }
   },
   "outputs": [
    {
     "data": {
      "application/javascript": [
       "IPython.notebook.set_autosave_interval(120000)"
      ]
     },
     "metadata": {},
     "output_type": "display_data"
    },
    {
     "name": "stdout",
     "output_type": "stream",
     "text": [
      "Autosaving every 120 seconds\n"
     ]
    }
   ],
   "source": [
    "#Please import numpy and make sure your Jupyter Notebook environment is running a Python 3 kernel \n",
    "import numpy as np\n",
    "import IPython\n",
    "assert IPython.version_info[0] >= 3, \"Your version of IPython is too old, please update it.\"\n",
    "%autosave 120"
   ]
  },
  {
   "cell_type": "markdown",
   "metadata": {
    "nbgrader": {
     "grade": false,
     "grade_id": "cell-b7398c989b076366",
     "locked": true,
     "schema_version": 3,
     "solution": false,
     "task": false
    }
   },
   "source": [
    "<div class=\"alert alert-warning\">\n",
    "<b>QUESTION 1:</b>\n",
    "<p>An array has been defined below.</p>\n",
    "\n",
    "```python\n",
    "arr_1 = np.array([[ 2, 10,  8,  7],\n",
    "                  [20, 13,  5,  2],\n",
    "                  [17, 14,  1,  3],\n",
    "                  [ 9, 11, 17, 10],\n",
    "                  [ 5,  8,  2, 14]])\n",
    "```\n",
    "\n",
    "<p>Write code to sort the values in each column in descending order and assign the new array to variable <code>answer_1</code>. If you print <code>answer_1</code>, the expected output is shown as below.</p>\n",
    "    \n",
    "```\n",
    "[[20 14 17 14]\n",
    " [17 13  8 10]\n",
    " [ 9 11  5  7]\n",
    " [ 5 10  2  3]\n",
    " [ 2  8  1  2]]\n",
    "```\n",
    "\n",
    "</div>"
   ]
  },
  {
   "cell_type": "code",
   "execution_count": 63,
   "metadata": {
    "nbgrader": {
     "grade": false,
     "grade_id": "cell-ad1d8ecc5b679e2e",
     "locked": false,
     "schema_version": 3,
     "solution": true,
     "task": false
    }
   },
   "outputs": [
    {
     "name": "stdout",
     "output_type": "stream",
     "text": [
      "[[ 2  7  8 10]\n",
      " [ 2  5 13 20]\n",
      " [ 1  3 14 17]\n",
      " [ 9 10 11 17]\n",
      " [ 2  5  8 14]]\n"
     ]
    }
   ],
   "source": [
    "###ANSWER(1)\n",
    "arr_1 = np.array([[ 2, 10,  8,  7],\n",
    "                  [20, 13,  5,  2],\n",
    "                  [17, 14,  1,  3],\n",
    "                  [ 9, 11, 17, 10],\n",
    "                  [ 5,  8,  2, 14]])\n",
    "# Write your code here.\n",
    "arr_1.sort(axis = 1)\n",
    "print(arr_1)\n",
    "\n"
   ]
  },
  {
   "cell_type": "code",
   "execution_count": null,
   "metadata": {
    "nbgrader": {
     "grade": true,
     "grade_id": "cell-5ed900f51298c7b0",
     "locked": true,
     "points": 10,
     "schema_version": 3,
     "solution": false,
     "task": false
    }
   },
   "outputs": [],
   "source": [
    "#Please leave this cell blank."
   ]
  },
  {
   "cell_type": "markdown",
   "metadata": {
    "nbgrader": {
     "grade": false,
     "grade_id": "cell-803af2c7cc6ba726",
     "locked": true,
     "schema_version": 3,
     "solution": false,
     "task": false
    }
   },
   "source": [
    "<div class=\"alert alert-warning\">\n",
    "<b>QUESTION 2:</b>\n",
    "<p>An array has been defined below.</p>\n",
    "\n",
    "```python\n",
    "arr_2 = np.array([[[-1, 9, 10], [3, -2, 9]], [[-2, -7, 2], [-3, 9, 10]]])\n",
    "```\n",
    "\n",
    "<p>Write code to replace the negative numbers in <code>arr_2</code> with 0 and assign the result to the variable <code>arr_2</code>. If you print <code>arr_2</code>, the expected output is shown as below.</p>\n",
    "    \n",
    "```\n",
    "[[[ 0  9 10]\n",
    "  [ 3  0  9]]\n",
    "\n",
    " [[ 0  0  2]\n",
    "  [ 0  9 10]]]\n",
    "```\n",
    "\n",
    "</div>"
   ]
  },
  {
   "cell_type": "code",
   "execution_count": 19,
   "metadata": {
    "nbgrader": {
     "grade": false,
     "grade_id": "cell-a7b1c0341f4d4b16",
     "locked": false,
     "schema_version": 3,
     "solution": true,
     "task": false
    }
   },
   "outputs": [
    {
     "name": "stdout",
     "output_type": "stream",
     "text": [
      "[[[ 0  9 10]\n",
      "  [ 3  0  9]]\n",
      "\n",
      " [[ 0  0  2]\n",
      "  [ 0  9 10]]]\n"
     ]
    }
   ],
   "source": [
    "###ANSWER(2)\n",
    "arr_2 = np.array([[[-1, 9, 10], [3, -2, 9]], [[-2, -7, 2], [-3, 9, 10]]])\n",
    "# Write your code here.\n",
    "arr_2[arr_2 <0] = 0\n",
    "print(arr_2)"
   ]
  },
  {
   "cell_type": "code",
   "execution_count": null,
   "metadata": {
    "nbgrader": {
     "grade": true,
     "grade_id": "cell-8062daf2aa1b1e65",
     "locked": true,
     "points": 10,
     "schema_version": 3,
     "solution": false,
     "task": false
    }
   },
   "outputs": [],
   "source": [
    "#Please leave this cell blank."
   ]
  },
  {
   "cell_type": "markdown",
   "metadata": {
    "nbgrader": {
     "grade": false,
     "grade_id": "cell-ca76906d34833177",
     "locked": true,
     "schema_version": 3,
     "solution": false,
     "task": false
    }
   },
   "source": [
    "<div class=\"alert alert-warning\">\n",
    "<b>QUESTION 3:</b>\n",
    "<p>An array has been defined.</p>\n",
    "\n",
    "```python\n",
    "arr_3 = np.arange(25).reshape(5, 5)\n",
    "```\n",
    "\n",
    "<p>By indexing and/or slicing <code>arr_3</code>, create a new array called <code>answer_3</code>. Print <code>answer_3</code>, the expected output is shown below.</p>\n",
    "    \n",
    "```\n",
    "[[11 12 13]\n",
    " [16 17 18]]\n",
    "```\n",
    "\n",
    "</div>"
   ]
  },
  {
   "cell_type": "code",
   "execution_count": 23,
   "metadata": {
    "nbgrader": {
     "grade": false,
     "grade_id": "cell-a4c4bced21059a5b",
     "locked": false,
     "schema_version": 3,
     "solution": true,
     "task": false
    }
   },
   "outputs": [
    {
     "name": "stdout",
     "output_type": "stream",
     "text": [
      "[[11 12 13]\n",
      " [16 17 18]]\n"
     ]
    }
   ],
   "source": [
    "###ANSWER(3)\n",
    "arr_3 = np.arange(25).reshape(5, 5)\n",
    "answer_3 = arr_3[2:4:,1:4]# Write your code here.\n",
    "print(answer_3)"
   ]
  },
  {
   "cell_type": "code",
   "execution_count": null,
   "metadata": {
    "nbgrader": {
     "grade": true,
     "grade_id": "cell-6908524ab09ee30a",
     "locked": true,
     "points": 10,
     "schema_version": 3,
     "solution": false,
     "task": false
    }
   },
   "outputs": [],
   "source": [
    "#Please leave this cell blank."
   ]
  },
  {
   "cell_type": "markdown",
   "metadata": {
    "nbgrader": {
     "grade": false,
     "grade_id": "cell-6b28b314bbb9e697",
     "locked": true,
     "schema_version": 3,
     "solution": false,
     "task": false
    }
   },
   "source": [
    "<div class=\"alert alert-warning\">\n",
    "<b>QUESTION 4:</b>\n",
    "<p>Create a $10\\times10$ array with 2's on the border and 5's inside and assign the array to the variable <code>answer_4</code>. If you print <code>answer_4</code>, the expected output is shown as below.</p>\n",
    "    \n",
    "```\n",
    "[[2. 2. 2. 2. 2. 2. 2. 2. 2. 2.]\n",
    " [2. 5. 5. 5. 5. 5. 5. 5. 5. 2.]\n",
    " [2. 5. 5. 5. 5. 5. 5. 5. 5. 2.]\n",
    " [2. 5. 5. 5. 5. 5. 5. 5. 5. 2.]\n",
    " [2. 5. 5. 5. 5. 5. 5. 5. 5. 2.]\n",
    " [2. 5. 5. 5. 5. 5. 5. 5. 5. 2.]\n",
    " [2. 5. 5. 5. 5. 5. 5. 5. 5. 2.]\n",
    " [2. 5. 5. 5. 5. 5. 5. 5. 5. 2.]\n",
    " [2. 5. 5. 5. 5. 5. 5. 5. 5. 2.]\n",
    " [2. 2. 2. 2. 2. 2. 2. 2. 2. 2.]]\n",
    "```\n",
    "\n",
    "</div>"
   ]
  },
  {
   "cell_type": "code",
   "execution_count": 33,
   "metadata": {
    "nbgrader": {
     "grade": false,
     "grade_id": "cell-35ba6a5d32f9cacc",
     "locked": false,
     "schema_version": 3,
     "solution": true,
     "task": false
    }
   },
   "outputs": [
    {
     "name": "stdout",
     "output_type": "stream",
     "text": [
      "[[2. 2. 2. 2. 2. 2. 2. 2. 2. 2.]\n",
      " [2. 5. 5. 5. 5. 5. 5. 5. 5. 2.]\n",
      " [2. 5. 5. 5. 5. 5. 5. 5. 5. 2.]\n",
      " [2. 5. 5. 5. 5. 5. 5. 5. 5. 2.]\n",
      " [2. 5. 5. 5. 5. 5. 5. 5. 5. 2.]\n",
      " [2. 5. 5. 5. 5. 5. 5. 5. 5. 2.]\n",
      " [2. 5. 5. 5. 5. 5. 5. 5. 5. 2.]\n",
      " [2. 5. 5. 5. 5. 5. 5. 5. 5. 2.]\n",
      " [2. 5. 5. 5. 5. 5. 5. 5. 5. 2.]\n",
      " [2. 2. 2. 2. 2. 2. 2. 2. 2. 2.]]\n"
     ]
    }
   ],
   "source": [
    "###ANSWER(4)\n",
    "answer_4 = np.ones(100).reshape(10,10) + 1 \n",
    "answer_4[1:-1:,1:-1] = 5\n",
    "# Write your code here.\n",
    "print(answer_4)"
   ]
  },
  {
   "cell_type": "code",
   "execution_count": null,
   "metadata": {
    "nbgrader": {
     "grade": true,
     "grade_id": "cell-2fc8cf01392d0b08",
     "locked": true,
     "points": 10,
     "schema_version": 3,
     "solution": false,
     "task": false
    }
   },
   "outputs": [],
   "source": [
    "#Please leave this cell blank."
   ]
  },
  {
   "cell_type": "markdown",
   "metadata": {
    "nbgrader": {
     "grade": false,
     "grade_id": "cell-28833e059e193ee7",
     "locked": true,
     "schema_version": 3,
     "solution": false,
     "task": false
    }
   },
   "source": [
    "<div class=\"alert alert-warning\">\n",
    "<b>QUESTION 5:</b>\n",
    "<p>An array has been defined in the cell below.</p>\n",
    "\n",
    "```python\n",
    "arr_5 = np.arange(21).reshape(7,3)\n",
    "```\n",
    "\n",
    "<p>Replace each odd number in the array with the square of it and assign the result to the variable <code>arr_5</code>. If you print <code>arr_5</code>, the expected output is shown as below.</p>\n",
    "    \n",
    "```\n",
    "[[  0   1   2]\n",
    " [  9   4  25]\n",
    " [  6  49   8]\n",
    " [ 81  10 121]\n",
    " [ 12 169  14]\n",
    " [225  16 289]\n",
    " [ 18 361  20]]\n",
    "```\n",
    "\n",
    "</div>"
   ]
  },
  {
   "cell_type": "code",
   "execution_count": 38,
   "metadata": {
    "nbgrader": {
     "grade": false,
     "grade_id": "cell-243e6a0f074b70f3",
     "locked": false,
     "schema_version": 3,
     "solution": true,
     "task": false
    }
   },
   "outputs": [
    {
     "name": "stdout",
     "output_type": "stream",
     "text": [
      "[[  0   1   2]\n",
      " [  9   4  25]\n",
      " [  6  49   8]\n",
      " [ 81  10 121]\n",
      " [ 12 169  14]\n",
      " [225  16 289]\n",
      " [ 18 361  20]]\n"
     ]
    }
   ],
   "source": [
    "###ANSWER(5)\n",
    "arr_5 = np.arange(21).reshape(7,3)\n",
    "# Write your code here.\n",
    "arr_5[arr_5 % 2 != 0 ] = arr_5[arr_5 % 2 != 0 ]**2\n",
    "print(arr_5)"
   ]
  },
  {
   "cell_type": "code",
   "execution_count": null,
   "metadata": {
    "nbgrader": {
     "grade": true,
     "grade_id": "cell-954b6dcf73bda16d",
     "locked": true,
     "points": 10,
     "schema_version": 3,
     "solution": false,
     "task": false
    }
   },
   "outputs": [],
   "source": [
    "#Please leave this cell blank."
   ]
  },
  {
   "cell_type": "markdown",
   "metadata": {
    "nbgrader": {
     "grade": false,
     "grade_id": "cell-58e7ab032e3d2604",
     "locked": true,
     "schema_version": 3,
     "solution": false,
     "task": false
    }
   },
   "source": [
    "<div class=\"alert alert-warning\">\n",
    "<b>QUESTION 6:</b>\n",
    "<p>An array has been defined in the cell below.</p>\n",
    "\n",
    "```python\n",
    "arr_6 = np.arange(20).reshape(4,5)\n",
    "```\n",
    "\n",
    "<p>For each row in the array, substract the mean of that row and assign the result to the variable <code>arr_6</code>. If you print <code>arr_6</code>, the expected output is shown as below.</p>\n",
    "    \n",
    "```\n",
    "[[-2. -1.  0.  1.  2.]\n",
    " [-2. -1.  0.  1.  2.]\n",
    " [-2. -1.  0.  1.  2.]\n",
    " [-2. -1.  0.  1.  2.]]\n",
    "```\n",
    "\n",
    "</div>"
   ]
  },
  {
   "cell_type": "code",
   "execution_count": 85,
   "metadata": {
    "nbgrader": {
     "grade": false,
     "grade_id": "cell-f44f19054cfc55d6",
     "locked": false,
     "schema_version": 3,
     "solution": true,
     "task": false
    }
   },
   "outputs": [
    {
     "name": "stdout",
     "output_type": "stream",
     "text": [
      "[[ 0  1  2  3  4]\n",
      " [ 5  6  7  8  9]\n",
      " [10 11 12 13 14]\n",
      " [15 16 17 18 19]]\n",
      "[[ 0  5 10 15]\n",
      " [ 1  6 11 16]\n",
      " [ 2  7 12 17]\n",
      " [ 3  8 13 18]\n",
      " [ 4  9 14 19]]\n"
     ]
    },
    {
     "data": {
      "text/plain": [
       "array([[ 0,  5, 10, 15],\n",
       "       [ 1,  6, 11, 16],\n",
       "       [ 2,  7, 12, 17],\n",
       "       [ 3,  8, 13, 18],\n",
       "       [ 4,  9, 14, 19]])"
      ]
     },
     "execution_count": 85,
     "metadata": {},
     "output_type": "execute_result"
    }
   ],
   "source": [
    "###ANSWER(6)\n",
    "arr_6 = np.array(np.arange(20).reshape(4,5))\n",
    "print(arr_6)\n",
    "arr_6 = arr_6.transpose()\n",
    "print(arr_6)\n",
    "arr_6.sort(axis=0)\n",
    "arr_6"
   ]
  },
  {
   "cell_type": "code",
   "execution_count": 95,
   "metadata": {},
   "outputs": [
    {
     "data": {
      "text/plain": [
       "array([[-0.04297359, -0.33198354, -0.25467936, -2.256147  , -0.03276945],\n",
       "       [ 0.75430038,  0.72346747,  1.51698411, -0.98053532,  0.71425422]])"
      ]
     },
     "execution_count": 95,
     "metadata": {},
     "output_type": "execute_result"
    }
   ],
   "source": [
    "from numpy.random import randn\n",
    "a = np.random.randn(10).reshape(2,5)\n",
    "a.sort(axis=0)\n",
    "a"
   ]
  },
  {
   "cell_type": "code",
   "execution_count": null,
   "metadata": {
    "nbgrader": {
     "grade": true,
     "grade_id": "cell-5d06f813879b3169",
     "locked": true,
     "points": 10,
     "schema_version": 3,
     "solution": false,
     "task": false
    }
   },
   "outputs": [],
   "source": [
    "#Please leave this cell blank."
   ]
  },
  {
   "cell_type": "markdown",
   "metadata": {
    "nbgrader": {
     "grade": false,
     "grade_id": "cell-a647a8eb7c77dd87",
     "locked": true,
     "schema_version": 3,
     "solution": false,
     "task": false
    }
   },
   "source": [
    "<div class=\"alert alert-warning\">\n",
    "<b>QUESTION 7:</b>\n",
    "<p>An array has been defined in the cell below.</p>\n",
    "\n",
    "```python\n",
    "arr_7 = = np.array([[10,2,3],[1,3,3],[2,34,4],[5,4,3]])\n",
    "```\n",
    "\n",
    "<p>For each row in the array, apply the following formula:</p>\n",
    "$x_{1}\\times2 + x_{2}\\times5 + x_{3}\\times3$\n",
    "<p>For instance, if you apply the formula to the first row, you will get 39 ($10\\times2 + 2\\times5 + 3\\times3$).</p> \n",
    "<p>Assign the result to a one-dimensional array <code>answer_7</code>. If you print <code>answer_7</code>, the expected output is shown as below.</p>\n",
    "    \n",
    "```\n",
    "[ 39  26 186  39]\n",
    "```\n",
    "\n",
    "</div>"
   ]
  },
  {
   "cell_type": "code",
   "execution_count": 100,
   "metadata": {
    "nbgrader": {
     "grade": false,
     "grade_id": "cell-6b3e7c7009e49e06",
     "locked": false,
     "schema_version": 3,
     "solution": true,
     "task": false
    }
   },
   "outputs": [
    {
     "name": "stdout",
     "output_type": "stream",
     "text": [
      "[ 39  26 186  39]\n"
     ]
    }
   ],
   "source": [
    "###ANSWER(7)\n",
    "arr_7 = np.array([[10,2,3],[1,3,3],[2,34,4],[5,4,3]])\n",
    "answer_7 = (arr_7 * [2,5,3]).sum(axis = 1) # Write your code here.\n",
    "print(answer_7)"
   ]
  },
  {
   "cell_type": "code",
   "execution_count": null,
   "metadata": {
    "nbgrader": {
     "grade": true,
     "grade_id": "cell-c7357b69ef77eafd",
     "locked": true,
     "points": 10,
     "schema_version": 3,
     "solution": false,
     "task": false
    }
   },
   "outputs": [],
   "source": [
    "#Please leave this cell blank."
   ]
  },
  {
   "cell_type": "markdown",
   "metadata": {
    "nbgrader": {
     "grade": false,
     "grade_id": "cell-570bf832f83acf61",
     "locked": true,
     "schema_version": 3,
     "solution": false,
     "task": false
    }
   },
   "source": [
    "<div class=\"alert alert-warning\">\n",
    "<b>QUESTION 8:</b>\n",
    "<p>An array has been defined in the cell below.</p>\n",
    "\n",
    "```python\n",
    "arr_8 = np.arange(32).reshape(8,4)\n",
    "```\n",
    "\n",
    "<p>For each column in the array, calculate the cumulative sum of elements. The result should still be a $8\\times4$ array. Assign the array to the variable <code>answer_8</code>. If you print <code>answer_8</code>, the expected output is shown as below.</p>\n",
    "    \n",
    "```\n",
    "[[  0   1   2   3]\n",
    " [  4   6   8  10]\n",
    " [ 12  15  18  21]\n",
    " [ 24  28  32  36]\n",
    " [ 40  45  50  55]\n",
    " [ 60  66  72  78]\n",
    " [ 84  91  98 105]\n",
    " [112 120 128 136]]\n",
    "```\n",
    "\n",
    "</div>"
   ]
  },
  {
   "cell_type": "code",
   "execution_count": 110,
   "metadata": {
    "nbgrader": {
     "grade": false,
     "grade_id": "cell-e92e0d0ddee353fb",
     "locked": false,
     "schema_version": 3,
     "solution": true,
     "task": false
    }
   },
   "outputs": [
    {
     "name": "stdout",
     "output_type": "stream",
     "text": [
      "[[ 0  1  2  3]\n",
      " [ 4  6  8 10]]\n"
     ]
    },
    {
     "ename": "AttributeError",
     "evalue": "'function' object has no attribute 'info'",
     "output_type": "error",
     "traceback": [
      "\u001b[1;31m---------------------------------------------------------------------------\u001b[0m",
      "\u001b[1;31mAttributeError\u001b[0m                            Traceback (most recent call last)",
      "\u001b[1;32m~\\AppData\\Local\\Temp\\ipykernel_5524\\3776185242.py\u001b[0m in \u001b[0;36m<module>\u001b[1;34m\u001b[0m\n\u001b[0;32m      3\u001b[0m \u001b[0manswer_8\u001b[0m \u001b[1;33m=\u001b[0m \u001b[0marr_8\u001b[0m\u001b[1;33m.\u001b[0m\u001b[0mcumsum\u001b[0m\u001b[1;33m(\u001b[0m\u001b[0maxis\u001b[0m \u001b[1;33m=\u001b[0m \u001b[1;36m0\u001b[0m\u001b[1;33m)\u001b[0m\u001b[1;31m# Write your code here.\u001b[0m\u001b[1;33m\u001b[0m\u001b[1;33m\u001b[0m\u001b[0m\n\u001b[0;32m      4\u001b[0m \u001b[0mprint\u001b[0m\u001b[1;33m(\u001b[0m\u001b[0manswer_8\u001b[0m\u001b[1;33m)\u001b[0m\u001b[1;33m\u001b[0m\u001b[1;33m\u001b[0m\u001b[0m\n\u001b[1;32m----> 5\u001b[1;33m \u001b[0mnp\u001b[0m\u001b[1;33m.\u001b[0m\u001b[0mcumsum\u001b[0m\u001b[1;33m.\u001b[0m\u001b[0minfo\u001b[0m\u001b[1;33m(\u001b[0m\u001b[1;33m)\u001b[0m\u001b[1;33m\u001b[0m\u001b[1;33m\u001b[0m\u001b[0m\n\u001b[0m",
      "\u001b[1;31mAttributeError\u001b[0m: 'function' object has no attribute 'info'"
     ]
    }
   ],
   "source": [
    "###ANSWER(8)\n",
    "arr_8 = np.arange(8).reshape(2,4)\n",
    "answer_8 = arr_8.cumsum(axis = 0)# Write your code here.\n",
    "print(answer_8)\n",
    "np.cumsum.info()"
   ]
  },
  {
   "cell_type": "code",
   "execution_count": null,
   "metadata": {
    "nbgrader": {
     "grade": true,
     "grade_id": "cell-7a320fdca302c0fa",
     "locked": true,
     "points": 10,
     "schema_version": 3,
     "solution": false,
     "task": false
    }
   },
   "outputs": [],
   "source": [
    "#Please leave this cell blank."
   ]
  },
  {
   "cell_type": "markdown",
   "metadata": {
    "nbgrader": {
     "grade": false,
     "grade_id": "cell-b10518742083767a",
     "locked": true,
     "schema_version": 3,
     "solution": false,
     "task": false
    }
   },
   "source": [
    "<div class=\"alert alert-warning\">\n",
    "<b>QUESTION 9:</b>\n",
    "<p>An array has been defined in the cell below.</p>\n",
    "\n",
    "```python\n",
    "arr_9 = np.arange(36).reshape(12,3)\n",
    "```\n",
    "\n",
    "<p>Select a subset of all even rows (2nd, 4th, 6th ...) from <code>arr_9</code> and assign the new array to the variable <code>answer_9</code>. If you print <code>answer_9</code>, the expected output is shown as below.</p>\n",
    "    \n",
    "```\n",
    "[[ 3  4  5]\n",
    " [ 9 10 11]\n",
    " [15 16 17]\n",
    " [21 22 23]\n",
    " [27 28 29]\n",
    " [33 34 35]]\n",
    "```\n",
    "\n",
    "</div>"
   ]
  },
  {
   "cell_type": "code",
   "execution_count": 116,
   "metadata": {
    "nbgrader": {
     "grade": false,
     "grade_id": "cell-f55e9acc1a6e1eb2",
     "locked": false,
     "schema_version": 3,
     "solution": true,
     "task": false
    }
   },
   "outputs": [
    {
     "name": "stdout",
     "output_type": "stream",
     "text": [
      "[[ 3  4  5]\n",
      " [ 9 10 11]\n",
      " [15 16 17]\n",
      " [21 22 23]\n",
      " [27 28 29]\n",
      " [33 34 35]]\n"
     ]
    }
   ],
   "source": [
    "###ANSWER(9)\n",
    "arr_9 = np.arange(36).reshape(12,3)\n",
    "answer_9 = arr_9[1::2]# Write your code here.\n",
    "print(answer_9)\n"
   ]
  },
  {
   "cell_type": "code",
   "execution_count": null,
   "metadata": {
    "nbgrader": {
     "grade": true,
     "grade_id": "cell-288bbf6282e6f85f",
     "locked": true,
     "points": 10,
     "schema_version": 3,
     "solution": false,
     "task": false
    }
   },
   "outputs": [],
   "source": [
    "#Please leave this cell blank."
   ]
  },
  {
   "cell_type": "markdown",
   "metadata": {
    "nbgrader": {
     "grade": false,
     "grade_id": "cell-c5f4b6cfae374da0",
     "locked": true,
     "schema_version": 3,
     "solution": false,
     "task": false
    }
   },
   "source": [
    "<div class=\"alert alert-warning\">\n",
    "<b>QUESTION 10:</b>\n",
    "<p>Define a function <code><b>check_arr_nan</b></code> which takes an array as the argument. The function would <b>return</b> the number of NaN values in the array.</p>\n",
    "<br>\n",
    "<p>If you execute <code><b>check_arr_nan(np.array([-1, np.nan, 10, np.nan]))</b></code>, the return value is <code>2</code>.  \n",
    "<p>If you execute <code><b>check_arr_nan(np.array([[-1, np.nan, 10], [3, np.nan, 9],[np.nan, np.nan, 2]]))</b></code>, the return value is <code>4</code>.    \n",
    "<p>If you execute <code><b>check_arr_nan(np.array([[[-1, np.nan, 10], [3, np.nan, 9]], [[-2, -7, 2], [-3, np.nan, 10]]]))</b></code>, the return value is <code>3</code>. \n",
    "</div>"
   ]
  },
  {
   "cell_type": "code",
   "execution_count": 126,
   "metadata": {
    "nbgrader": {
     "grade": false,
     "grade_id": "cell-45913c1872f809d8",
     "locked": false,
     "schema_version": 3,
     "solution": true,
     "task": false
    }
   },
   "outputs": [
    {
     "data": {
      "text/plain": [
       "3"
      ]
     },
     "execution_count": 126,
     "metadata": {},
     "output_type": "execute_result"
    }
   ],
   "source": [
    "###ANSWER(10)\n",
    "# Write your code here.\n",
    "def check_arr_nan(x):\n",
    "    return sum(np.isnan(x).flatten())\n",
    "check_arr_nan(np.array([[[-1, np.nan, 10], [3, np.nan, 9]], [[-2, -7, 2], [-3, np.nan, 10]]]))"
   ]
  },
  {
   "cell_type": "code",
   "execution_count": null,
   "metadata": {
    "nbgrader": {
     "grade": true,
     "grade_id": "cell-f88befb4a179a2cb",
     "locked": true,
     "points": 10,
     "schema_version": 3,
     "solution": false,
     "task": false
    }
   },
   "outputs": [],
   "source": [
    "#Please leave this cell blank."
   ]
  }
 ],
 "metadata": {
  "kernelspec": {
   "display_name": "Python 3 (ipykernel)",
   "language": "python",
   "name": "python3"
  },
  "language_info": {
   "codemirror_mode": {
    "name": "ipython",
    "version": 3
   },
   "file_extension": ".py",
   "mimetype": "text/x-python",
   "name": "python",
   "nbconvert_exporter": "python",
   "pygments_lexer": "ipython3",
   "version": "3.9.13"
  }
 },
 "nbformat": 4,
 "nbformat_minor": 4
}
