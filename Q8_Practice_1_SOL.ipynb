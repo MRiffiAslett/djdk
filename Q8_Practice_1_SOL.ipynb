{
 "cells": [
  {
   "cell_type": "markdown",
   "metadata": {
    "nbgrader": {
     "grade": false,
     "grade_id": "cell-23a484e92c82d7ce",
     "locked": true,
     "schema_version": 3,
     "solution": false,
     "task": false
    }
   },
   "source": [
    "<div class=\"image\">\n",
    "\n",
    "  <img style=\"float: right;\" src=\"https://dx5i3n065oxey.cloudfront.net/platform/4186/assets/logo.png?v=2e76f927-9482-4bfb-9092-d9a0b595cd2c\" width=\"45%\" align=\"right\">\n",
    "      <h4>\n",
    "          <p style=\"font-size:20pt\">Programming for Business Analytics</p>\n",
    "          <p style=\"font-size:15pt\">Q8 Practice 1</p>\n",
    "      </h4>\n",
    "</div>\n",
    "\n",
    "- Make sure you have executed the code in the cell below.\n",
    "- Make sure you read the questions carefully and follow the instructions.\n",
    "- Make sure you put the answers in the Answer cells.\n",
    "- Please do not put your answers in comments (after #).\n",
    "- Please do not add any new cells between the Question and Answer cells.\n",
    "- Please do not change the names of the variables in Answer cells.\n",
    "- Please do not assign the expected result directly to the variable.\n",
    "- Please do not change the pre-defined variables."
   ]
  },
  {
   "cell_type": "code",
   "execution_count": 3,
   "metadata": {
    "nbgrader": {
     "grade": false,
     "grade_id": "cell-b43da51c6220747a",
     "locked": true,
     "schema_version": 3,
     "solution": false,
     "task": false
    }
   },
   "outputs": [
    {
     "data": {
      "application/javascript": [
       "IPython.notebook.set_autosave_interval(120000)"
      ]
     },
     "metadata": {},
     "output_type": "display_data"
    },
    {
     "name": "stdout",
     "output_type": "stream",
     "text": [
      "Autosaving every 120 seconds\n"
     ]
    }
   ],
   "source": [
    "#Please import packages and make sure your Jupyter Notebook environment is running a Python 3 kernel \n",
    "import numpy as np\n",
    "import pandas as pd\n",
    "import IPython\n",
    "assert IPython.version_info[0] >= 3, \"Your version of IPython is too old, please update it.\"\n",
    "%autosave 120"
   ]
  },
  {
   "cell_type": "markdown",
   "metadata": {
    "nbgrader": {
     "grade": false,
     "grade_id": "cell-45d4957c9dc55458",
     "locked": true,
     "schema_version": 3,
     "solution": false,
     "task": false
    }
   },
   "source": [
    "<div class=\"alert alert-warning\"> \n",
    "<b>QUESTION 1:</b> \n",
    "<p>Which two of the following data types are both <b>Unordered</b>? </p>\n",
    "<p> a) List & Set </p>\n",
    "<p> b) List & Tuple </p>\n",
    "<p> c) Tuple & Dictionary</p>\n",
    "<p> d) Dictionary & Set</p>\n",
    "\n",
    "</div>"
   ]
  },
  {
   "cell_type": "code",
   "execution_count": null,
   "metadata": {
    "nbgrader": {
     "grade": false,
     "grade_id": "cell-697b9422d481ae31",
     "locked": false,
     "schema_version": 3,
     "solution": true,
     "task": false
    }
   },
   "outputs": [],
   "source": [
    "###ANSWER(1). Please assign the letter representing the correct answer to the variable \n",
    "### (write it down between the \"\")\n",
    "answer_1 = \"d\""
   ]
  },
  {
   "cell_type": "code",
   "execution_count": null,
   "metadata": {
    "nbgrader": {
     "grade": true,
     "grade_id": "cell-474ae9dab51c7e9e",
     "locked": true,
     "points": 5,
     "schema_version": 3,
     "solution": false,
     "task": false
    }
   },
   "outputs": [],
   "source": [
    "#Please leave this cell blank."
   ]
  },
  {
   "cell_type": "markdown",
   "metadata": {
    "nbgrader": {
     "grade": false,
     "grade_id": "cell-07aa15adaafb4608",
     "locked": true,
     "schema_version": 3,
     "solution": false,
     "task": false
    }
   },
   "source": [
    "<div class=\"alert alert-warning\">\n",
    "<b>QUESTION 2:</b>\n",
    "<p>Two sets have been defined. </p>\n",
    "\n",
    "```python\n",
    "first_set = {1,2,3,4,5,6}\n",
    "second_set = {2,4,6,7,8}    \n",
    "```\n",
    "    \n",
    "<p>Find elements that only appear in <code>first_set</code>, not in <code>second_set</code> and assign the results to a new list <code>new_list</code>. Print <code>new_list</code>, the expected output is <code>[1, 3, 5]</code>.</p>\n",
    "</div>"
   ]
  },
  {
   "cell_type": "code",
   "execution_count": 1,
   "metadata": {
    "nbgrader": {
     "grade": false,
     "grade_id": "cell-654cb047a40f078e",
     "locked": false,
     "schema_version": 3,
     "solution": true,
     "task": false
    }
   },
   "outputs": [
    {
     "name": "stdout",
     "output_type": "stream",
     "text": [
      "[1, 3, 5]\n"
     ]
    }
   ],
   "source": [
    "###ANSWER(2)\n",
    "first_set = {1,2,3,4,5,6}\n",
    "second_set = {2,4,6,7,8}\n",
    "new_list = list(first_set-second_set) # Write your code here\n",
    "print(new_list)"
   ]
  },
  {
   "cell_type": "code",
   "execution_count": null,
   "metadata": {
    "nbgrader": {
     "grade": true,
     "grade_id": "cell-c6c6c29a0b2dc093",
     "locked": true,
     "points": 5,
     "schema_version": 3,
     "solution": false,
     "task": false
    }
   },
   "outputs": [],
   "source": [
    "#Please leave this cell blank."
   ]
  },
  {
   "cell_type": "markdown",
   "metadata": {
    "nbgrader": {
     "grade": false,
     "grade_id": "cell-6bee9b71e7fea6b8",
     "locked": true,
     "schema_version": 3,
     "solution": false,
     "task": false
    }
   },
   "source": [
    "<div class=\"alert alert-warning\">\n",
    "<b>QUESTION 3:</b>\n",
    "<p>Two arrays have been defined. </p>\n",
    "\n",
    "```python\n",
    "arr_1 = np.array([[1, 3, 5], [7, 9, 11]])\n",
    "arr_2 = np.array([[2, 4, 6], [8, 10, 12]])    \n",
    "```    \n",
    "    \n",
    "<p>Add <code>arr_1</code> and <code>arr_2</code> element by element and assign the new array <code>arr_3</code>. Print <code>arr_3</code>, the expected output is shown below.</p>\n",
    "\n",
    "``` \n",
    "[[ 3  7 11]\n",
    " [15 19 23]]\n",
    "```\n",
    "</div>"
   ]
  },
  {
   "cell_type": "code",
   "execution_count": 4,
   "metadata": {
    "nbgrader": {
     "grade": false,
     "grade_id": "cell-596ecb5098ed18c9",
     "locked": false,
     "schema_version": 3,
     "solution": true,
     "task": false
    }
   },
   "outputs": [
    {
     "name": "stdout",
     "output_type": "stream",
     "text": [
      "[[ 3  7 11]\n",
      " [15 19 23]]\n"
     ]
    }
   ],
   "source": [
    "###ANSWER(3)\n",
    "arr_1 = np.array([[1, 3, 5], [7, 9, 11]])\n",
    "arr_2 = np.array([[2, 4, 6], [8, 10, 12]])\n",
    "arr_3 = arr_1 + arr_2 # Write your code here\n",
    "print(arr_3)"
   ]
  },
  {
   "cell_type": "code",
   "execution_count": null,
   "metadata": {
    "nbgrader": {
     "grade": true,
     "grade_id": "cell-7f96f493eeaf6a32",
     "locked": true,
     "points": 5,
     "schema_version": 3,
     "solution": false,
     "task": false
    }
   },
   "outputs": [],
   "source": [
    "#Please leave this cell blank."
   ]
  },
  {
   "cell_type": "markdown",
   "metadata": {
    "nbgrader": {
     "grade": false,
     "grade_id": "cell-a4ab748e28f6f315",
     "locked": true,
     "schema_version": 3,
     "solution": false,
     "task": false
    }
   },
   "source": [
    "<div class=\"alert alert-warning\">\n",
    "<b>QUESTION 4: </b> \n",
    "<p>Define a function called <code><b>function_4</b></code> which takes a positive integer <code>n</code> as the argument. The function would calculate the value of $ \\prod_{x=1}^{n} \\frac{1}{x} $ and <b>return</b> the result.</p>\n",
    "<p>$ \\prod_{x=1}^{n} \\frac{1}{x} = \\underbrace{1 \\cdot  \\frac{1}{2} \\cdot \\frac{1}{3} \\cdot \\frac{1}{4} \\cdot \\frac{1}{5} \\cdots}_{\\text {from 1/1 to 1/n}} $</p>\n",
    "<br>\n",
    "<p>Execute <code><b>function_4(1)</b></code>, the expected output is <code>1</code>.</p>\n",
    "<p>Execute <code><b>function_4(4)</b></code>, the expected output is as below:</p>\n",
    "<p>$ \\prod_{n=1}^{4} \\frac{1}{n} = 1 \\cdot  \\frac{1}{2} \\cdot \\frac{1}{3} \\cdot \\frac{1}{4}=0.041666666666666664 $\n",
    "</p>\n",
    "</div>"
   ]
  },
  {
   "cell_type": "code",
   "execution_count": null,
   "metadata": {
    "nbgrader": {
     "grade": false,
     "grade_id": "cell-9e5851416fb79950",
     "locked": false,
     "schema_version": 3,
     "solution": true,
     "task": false
    }
   },
   "outputs": [],
   "source": [
    "###ANSWER(4)\n",
    "# Write your code here\n",
    "def function_4(n):\n",
    "    if n < 2:\n",
    "        return 1\n",
    "    else:\n",
    "        return 1 / n * (function_4(n - 1))"
   ]
  },
  {
   "cell_type": "code",
   "execution_count": null,
   "metadata": {
    "nbgrader": {
     "grade": true,
     "grade_id": "cell-24c640288d32f5ac",
     "locked": true,
     "points": 5,
     "schema_version": 3,
     "solution": false,
     "task": false
    }
   },
   "outputs": [],
   "source": [
    "#Please leave this cell blank."
   ]
  },
  {
   "cell_type": "markdown",
   "metadata": {
    "nbgrader": {
     "grade": false,
     "grade_id": "cell-c7824948b9ff45ae",
     "locked": true,
     "schema_version": 3,
     "solution": false,
     "task": false
    }
   },
   "source": [
    "<div class=\"alert alert-warning\">\n",
    "<b>QUESTION 5: </b> \n",
    "<p>Define a function called <code><b>test_palindrome</b></code> which takes a string as the argument. The function would <b>print</b> <code>Palindrome!</code> if its argument is a palindrome and <b>print</b> <code>Not a palindrome!</code> otherwise.</p>\n",
    "<br>\n",
    "<p>Execute <code><b>test_palindrome('Kik')</b></code>, the expected output is <code>Palindrome!</code>.</p>  \n",
    "<p>Execute <code><b>test_palindrome('abcd')</b></code>, the expected output is <code>Not a palindrome!</code>.</p> \n",
    "<br>\n",
    "<p>*Note: Palindrome is a word that reads the same backwords and forwards, such as <code>Kik</code>, <code>MadAm</code> or <code>kayak</code>. You should disregard the case of the string in the problem. </p>\n",
    "</div>"
   ]
  },
  {
   "cell_type": "code",
   "execution_count": null,
   "metadata": {
    "nbgrader": {
     "grade": false,
     "grade_id": "cell-d4d91bae8126ad4d",
     "locked": false,
     "schema_version": 3,
     "solution": true,
     "task": false
    }
   },
   "outputs": [],
   "source": [
    "###ANSWER(5)\n",
    "# Write your code here\n",
    "def test_palindrome(x):\n",
    "    if x.lower() == x.lower()[::-1]:\n",
    "        print('Palindrome!')\n",
    "    else:\n",
    "        print('Not a palindrome!')  "
   ]
  },
  {
   "cell_type": "code",
   "execution_count": null,
   "metadata": {
    "nbgrader": {
     "grade": true,
     "grade_id": "cell-4f6fc596a8cf8ad2",
     "locked": true,
     "points": 5,
     "schema_version": 3,
     "solution": false,
     "task": false
    }
   },
   "outputs": [],
   "source": [
    "#Please leave this cell blank."
   ]
  },
  {
   "cell_type": "markdown",
   "metadata": {
    "nbgrader": {
     "grade": false,
     "grade_id": "cell-3d1b13323bfe9361",
     "locked": true,
     "schema_version": 3,
     "solution": false,
     "task": false
    }
   },
   "source": [
    "<div class=\"alert alert-warning\">\n",
    "<b>QUESTION 6: </b> \n",
    "<p>Using a <code>while</code> loop, calculate the sum of the positive integers which are less than or equal to 1000 and can't be divided by 7 without a remainder. Assign the result to <code>answer_6</code>. Print <code>answer_6</code>, the expected output is <code>429429</code>.</p>\n",
    "</div>"
   ]
  },
  {
   "cell_type": "code",
   "execution_count": 5,
   "metadata": {
    "nbgrader": {
     "grade": false,
     "grade_id": "cell-148e597dfdc24030",
     "locked": false,
     "schema_version": 3,
     "solution": true,
     "task": false
    }
   },
   "outputs": [
    {
     "name": "stdout",
     "output_type": "stream",
     "text": [
      "429429\n"
     ]
    }
   ],
   "source": [
    "###ANSWER(6)\n",
    "# Write your code here\n",
    "i = 1\n",
    "answer_6 = 0\n",
    "while i <= 1000:\n",
    "    if i % 7 != 0:\n",
    "        answer_6 += i\n",
    "    i += 1\n",
    "print(answer_6)"
   ]
  },
  {
   "cell_type": "code",
   "execution_count": null,
   "metadata": {
    "nbgrader": {
     "grade": true,
     "grade_id": "cell-6dad9b8e3396c574",
     "locked": true,
     "points": 5,
     "schema_version": 3,
     "solution": false,
     "task": false
    }
   },
   "outputs": [],
   "source": [
    "#Please leave this cell blank."
   ]
  },
  {
   "cell_type": "markdown",
   "metadata": {
    "nbgrader": {
     "grade": false,
     "grade_id": "cell-772c33305351d345",
     "locked": true,
     "schema_version": 3,
     "solution": false,
     "task": false
    }
   },
   "source": [
    "<div class=\"alert alert-warning\">\n",
    "<b>QUESTION 7:</b>\n",
    "<p>A string has been defined. </p>\n",
    "    \n",
    "```python\n",
    "names = 'Olivia, Amelia; Isla, Ava; Grace'  \n",
    "```\n",
    "    \n",
    "<p>Write <b>ONE LINE</b> of code to split the names in the string and turn it into a list <code>name_list</code>. Print <code>name_list</code>, the expected output is <code>['Olivia', 'Amelia', 'Isla', 'Ava', 'Grace']</code>.</p>\n",
    "</div>"
   ]
  },
  {
   "cell_type": "code",
   "execution_count": 6,
   "metadata": {
    "nbgrader": {
     "grade": false,
     "grade_id": "cell-8f0b9b549bf5dcdf",
     "locked": false,
     "schema_version": 3,
     "solution": true,
     "task": false
    }
   },
   "outputs": [
    {
     "name": "stdout",
     "output_type": "stream",
     "text": [
      "['Olivia', 'Amelia', 'Isla', 'Ava', 'Grace']\n"
     ]
    }
   ],
   "source": [
    "###ANSWER(7)\n",
    "names = 'Olivia, Amelia; Isla, Ava; Grace'\n",
    "name_list = names.replace(',','').replace(';','').split() # Write your code here\n",
    "print(name_list)"
   ]
  },
  {
   "cell_type": "code",
   "execution_count": null,
   "metadata": {
    "nbgrader": {
     "grade": true,
     "grade_id": "cell-2446572be555a6f9",
     "locked": true,
     "points": 5,
     "schema_version": 3,
     "solution": false,
     "task": false
    }
   },
   "outputs": [],
   "source": [
    "#Please leave this cell blank."
   ]
  },
  {
   "cell_type": "markdown",
   "metadata": {
    "nbgrader": {
     "grade": false,
     "grade_id": "cell-c86ce384a7c7f9ef",
     "locked": true,
     "schema_version": 3,
     "solution": false,
     "task": false
    }
   },
   "source": [
    "<div class=\"alert alert-warning\">\n",
    "<b>QUESTION 8:</b>\n",
    "\n",
    "<p>Create a $7\\times3$ array called <code>arr_8</code> with integers ranging from 200 to 0 with a step of 10 (in descending order). Print <code>arr_8</code>, the expected output is shown below.</p>\n",
    "\n",
    "```\n",
    "[[200 190 180]\n",
    " [170 160 150]\n",
    " [140 130 120]\n",
    " [110 100  90]\n",
    " [ 80  70  60]\n",
    " [ 50  40  30]\n",
    " [ 20  10   0]]\n",
    "```\n",
    "</div>"
   ]
  },
  {
   "cell_type": "code",
   "execution_count": 7,
   "metadata": {
    "nbgrader": {
     "grade": false,
     "grade_id": "cell-2d98d13d98bddb16",
     "locked": false,
     "schema_version": 3,
     "solution": true,
     "task": false
    }
   },
   "outputs": [
    {
     "name": "stdout",
     "output_type": "stream",
     "text": [
      "[[200 190 180]\n",
      " [170 160 150]\n",
      " [140 130 120]\n",
      " [110 100  90]\n",
      " [ 80  70  60]\n",
      " [ 50  40  30]\n",
      " [ 20  10   0]]\n"
     ]
    }
   ],
   "source": [
    "###ANSWER(8)\n",
    "arr_8 = np.arange(200,-1,-10).reshape(7,3) # Write your code here\n",
    "print(arr_8)"
   ]
  },
  {
   "cell_type": "code",
   "execution_count": null,
   "metadata": {
    "nbgrader": {
     "grade": true,
     "grade_id": "cell-1a4b8f21390f6b35",
     "locked": true,
     "points": 5,
     "schema_version": 3,
     "solution": false,
     "task": false
    }
   },
   "outputs": [],
   "source": [
    "#Please leave this cell blank."
   ]
  },
  {
   "cell_type": "markdown",
   "metadata": {
    "nbgrader": {
     "grade": false,
     "grade_id": "cell-584d5d4f4f281a6c",
     "locked": true,
     "schema_version": 3,
     "solution": false,
     "task": false
    }
   },
   "source": [
    "<div class=\"alert alert-warning\">\n",
    "<b>QUESTION 9:</b>\n",
    "\n",
    "<p>A list has been defined. </p>\n",
    "    \n",
    "```python\n",
    "countries = ['afghanistan', 'Barbados', 'bahrain', 'China', 'cameroon', 'Lesotho', 'Colombia']    \n",
    "```\n",
    "    \n",
    "<p>Write <b>ONE LINE</b> of code to find the indices of the items in <code>countries</code> that start with <code>c</code> or <code>C</code> and assign the result to <code>tar_index</code>. Print <code>tar_index</code>, the expected output is <code>[3, 4, 6]</code>.</p>\n",
    "</div>"
   ]
  },
  {
   "cell_type": "code",
   "execution_count": 8,
   "metadata": {
    "nbgrader": {
     "grade": false,
     "grade_id": "cell-93511a3a7257687f",
     "locked": false,
     "schema_version": 3,
     "solution": true,
     "task": false
    }
   },
   "outputs": [
    {
     "name": "stdout",
     "output_type": "stream",
     "text": [
      "[3, 4, 6]\n"
     ]
    }
   ],
   "source": [
    "###ANSWER(9)\n",
    "countries = ['afghanistan', 'Barbados', 'bahrain', 'China', 'cameroon', 'Lesotho', 'Colombia']\n",
    "tar_index = [idx for idx, val in enumerate(countries) if val.lower().startswith('c')] # Write your code here\n",
    "print(tar_index)"
   ]
  },
  {
   "cell_type": "code",
   "execution_count": null,
   "metadata": {
    "nbgrader": {
     "grade": true,
     "grade_id": "cell-dcfb8d78dc8d8148",
     "locked": true,
     "points": 5,
     "schema_version": 3,
     "solution": false,
     "task": false
    }
   },
   "outputs": [],
   "source": [
    "#Please leave this cell blank."
   ]
  },
  {
   "cell_type": "markdown",
   "metadata": {
    "nbgrader": {
     "grade": false,
     "grade_id": "cell-7fe32685d4e9a927",
     "locked": true,
     "schema_version": 3,
     "solution": false,
     "task": false
    }
   },
   "source": [
    "<div class=\"alert alert-warning\">\n",
    "<b>QUESTION 10:</b>\n",
    "\n",
    "<p>Two dictionaries have been defined. </p>\n",
    "\n",
    "```python\n",
    "dict_1 = {'A':1, 'B':2, 'C':4}\n",
    "dict_2 = {'B':2, 'C':2, 'D':3}    \n",
    "```\n",
    "    \n",
    "<p>Write code to merge the two dictionaries. For the items that have the same keys, you should calculate the sum of the values. Assign the result to <code>dict_merged</code>. Print <code>dict_merged</code>, the expected output is <code>{'A': 1, 'B': 4, 'C': 6, 'D': 3}</code>.</p>\n",
    "</div>"
   ]
  },
  {
   "cell_type": "code",
   "execution_count": 9,
   "metadata": {
    "nbgrader": {
     "grade": false,
     "grade_id": "cell-6737851281512b11",
     "locked": false,
     "schema_version": 3,
     "solution": true,
     "task": false
    }
   },
   "outputs": [
    {
     "name": "stdout",
     "output_type": "stream",
     "text": [
      "{'A': 1, 'B': 4, 'C': 6, 'D': 3}\n"
     ]
    }
   ],
   "source": [
    "###ANSWER(10)\n",
    "dict_1 = {'A':1, 'B':2, 'C':4}\n",
    "dict_2 = {'B':2, 'C':2, 'D':3}\n",
    "dict_merged = dict_1\n",
    "for key, value in dict_2.items():\n",
    "    if key in dict_merged:\n",
    "        dict_merged[key] = dict_merged[key] + dict_2[key]\n",
    "    else:\n",
    "        dict_merged[key] = dict_2[key]\n",
    "print(dict_merged)"
   ]
  },
  {
   "cell_type": "code",
   "execution_count": null,
   "metadata": {
    "nbgrader": {
     "grade": true,
     "grade_id": "cell-05aa1c95fdc4ea6e",
     "locked": true,
     "points": 5,
     "schema_version": 3,
     "solution": false,
     "task": false
    }
   },
   "outputs": [],
   "source": [
    "#Please leave this cell blank."
   ]
  },
  {
   "cell_type": "markdown",
   "metadata": {
    "nbgrader": {
     "grade": false,
     "grade_id": "cell-04782bb7631e6163",
     "locked": true,
     "schema_version": 3,
     "solution": false,
     "task": false
    }
   },
   "source": [
    "<div class=\"alert alert-warning\">\n",
    "<b>QUESTION 11:</b>\n",
    "\n",
    "<p>Three lists have been defined. </p>\n",
    "    \n",
    "```python\n",
    "list_a = [1,32,54,8,9,23,6,98,43,2,7,98]\n",
    "list_b = [32,3,1,7,98,6,4,6,43,2,13,4]\n",
    "list_c = [21,4,7,58,12,79,13,34,69,12,4,5]   \n",
    "```\n",
    "    \n",
    "<p>Write <b>ONE LINE</b> of code to find the sum of the elements at the same position in the three lists and assign the result to <code>list_sum</code>. Print <code>list_sum</code>, the expected output is <code>[54, 39, 62, 73, 119, 108, 23, 138, 155, 16, 24, 107]</code>.</p>\n",
    "</div>"
   ]
  },
  {
   "cell_type": "code",
   "execution_count": 11,
   "metadata": {
    "nbgrader": {
     "grade": false,
     "grade_id": "cell-614afec37db81c81",
     "locked": false,
     "schema_version": 3,
     "solution": true,
     "task": false
    }
   },
   "outputs": [
    {
     "name": "stdout",
     "output_type": "stream",
     "text": [
      "[54, 39, 62, 73, 119, 108, 23, 138, 155, 16, 24, 107]\n"
     ]
    }
   ],
   "source": [
    "###ANSWER(11)\n",
    "list_a = [1,32,54,8,9,23,6,98,43,2,7,98]\n",
    "list_b = [32,3,1,7,98,6,4,6,43,2,13,4]\n",
    "list_c = [21,4,7,58,12,79,13,34,69,12,4,5]\n",
    "list_sum = [a+b+c for a,b,c in zip(list_a,list_b,list_c)] # Write your code here\n",
    "print(list_sum)"
   ]
  },
  {
   "cell_type": "code",
   "execution_count": null,
   "metadata": {
    "nbgrader": {
     "grade": true,
     "grade_id": "cell-41cbfcaef3e415df",
     "locked": true,
     "points": 5,
     "schema_version": 3,
     "solution": false,
     "task": false
    }
   },
   "outputs": [],
   "source": [
    "#Please leave this cell blank."
   ]
  },
  {
   "cell_type": "markdown",
   "metadata": {
    "nbgrader": {
     "grade": false,
     "grade_id": "cell-7f0758f3842e4f09",
     "locked": true,
     "schema_version": 3,
     "solution": false,
     "task": false
    }
   },
   "source": [
    "<div class=\"alert alert-warning\">\n",
    "<b>QUESTION 12:</b>\n",
    "\n",
    "<p>A list called <code>letters</code> has been defined. </p>\n",
    "    \n",
    "```python\n",
    "letters = ['A','U','B','C','D','A','B','D','A','D','B','A','B','D','L','A','B','B','A','B']    \n",
    "```    \n",
    "    \n",
    "<p>Write <b>ONE LINE</b> of code to find all the elements from <code>letters</code> except <code>'A'</code>, <code>'B'</code> and <code>'D'</code> and assign the result to <code>letters_new</code>. Print <code>letters_new</code>, the expected output is <code>['U', 'C', 'L']</code>.</p>\n",
    "</div>"
   ]
  },
  {
   "cell_type": "code",
   "execution_count": 12,
   "metadata": {
    "nbgrader": {
     "grade": false,
     "grade_id": "cell-2c685953502a19a0",
     "locked": false,
     "schema_version": 3,
     "solution": true,
     "task": false
    }
   },
   "outputs": [
    {
     "name": "stdout",
     "output_type": "stream",
     "text": [
      "['U', 'C', 'L']\n"
     ]
    }
   ],
   "source": [
    "###ANSWER(12)\n",
    "letters = ['A','U','B','C','D','A','B','D','A','D','B','A','B','D','L','A','B','B','A','B']\n",
    "letters_new = [i for i in letters if i not in ['A','B','D']] # Write your code here\n",
    "print(letters_new)"
   ]
  },
  {
   "cell_type": "code",
   "execution_count": null,
   "metadata": {
    "nbgrader": {
     "grade": true,
     "grade_id": "cell-06fbaeb0ca64bc97",
     "locked": true,
     "points": 5,
     "schema_version": 3,
     "solution": false,
     "task": false
    }
   },
   "outputs": [],
   "source": [
    "#Please leave this cell blank."
   ]
  },
  {
   "cell_type": "markdown",
   "metadata": {
    "nbgrader": {
     "grade": false,
     "grade_id": "cell-4313aedb3f50e851",
     "locked": true,
     "schema_version": 3,
     "solution": false,
     "task": false
    }
   },
   "source": [
    "<div class=\"alert alert-warning\">\n",
    "<b>QUESTION 13:</b>\n",
    "<p>Some codes have been given. </p>\n",
    "    \n",
    "```python\n",
    "nums = [2.3233, 1.2355, 3.3371]\n",
    "msg = \"Numbers: { } { } { }\".format(nums[0],nums[1],nums[2])   \n",
    "```    \n",
    "<p>Fill the gaps in the code so that when printing <code>msg</code>, the expected output is <code>Numbers: 1.24 2.3233 3.3371</code>.</p>\n",
    "</div>"
   ]
  },
  {
   "cell_type": "code",
   "execution_count": 13,
   "metadata": {
    "nbgrader": {
     "grade": false,
     "grade_id": "cell-b497b0258e9d748d",
     "locked": false,
     "schema_version": 3,
     "solution": true,
     "task": false
    }
   },
   "outputs": [
    {
     "name": "stdout",
     "output_type": "stream",
     "text": [
      "Numbers: 1.24 2.3233 3.3371\n"
     ]
    }
   ],
   "source": [
    "###ANSWER(13)\n",
    "# Please fill the gaps in the code\n",
    "nums = [2.3233, 1.2355, 3.3371]\n",
    "msg = \"Numbers: {1:.2f} {0} {2}\".format(nums[0],nums[1],nums[2])\n",
    "print(msg)"
   ]
  },
  {
   "cell_type": "code",
   "execution_count": null,
   "metadata": {
    "nbgrader": {
     "grade": true,
     "grade_id": "cell-cdb36a43593e2cc9",
     "locked": true,
     "points": 5,
     "schema_version": 3,
     "solution": false,
     "task": false
    }
   },
   "outputs": [],
   "source": [
    "#Please leave this cell blank."
   ]
  },
  {
   "cell_type": "markdown",
   "metadata": {
    "nbgrader": {
     "grade": false,
     "grade_id": "cell-516a918431bc9bfa",
     "locked": true,
     "schema_version": 3,
     "solution": false,
     "task": false
    }
   },
   "source": [
    "<div class=\"alert alert-warning\">\n",
    "<b>QUESTION 14:</b>\n",
    "<p>The factorial of a number is represented by $n!$, which is the product of all the integers from 1 to that number. The equation of calculating the factorial is $n!=1*2*3*...*(n-1)*n$.</p>\n",
    "<p>For example, $4!=1*2*3*4=24$, $3!=1*2*3=6$.</p> \n",
    "<p>$1!=0!=1$.</p>\n",
    "<br>\n",
    "<p>Define a function called <code>factorial</code> which takes an integer as the arugment. The function would <b> return</b> the factorial of the argument. If the function is called with a negative integer, it would raise an <code>AssertionError</code> with the message <code>Please call the function with a non-negative integer</code>.</p>\n",
    "<br>\n",
    "<p>Execute <code><b>factorial(1)</b></code>, the expected output is <code>1</code>.</p> \n",
    "<p>Execute <code><b>factorial(3)</b></code>, the expected output is <code>6</code>.</p> \n",
    "<p>Execute <code><b>factorial(-1)</b></code>, an <code>AssertionError</code> is raised with the message <code>Please call the function with a non-negative integer</code>.</p>\n",
    "</div>"
   ]
  },
  {
   "cell_type": "code",
   "execution_count": null,
   "metadata": {
    "nbgrader": {
     "grade": false,
     "grade_id": "cell-49cbdaed1cfef5e0",
     "locked": false,
     "schema_version": 3,
     "solution": true,
     "task": false
    }
   },
   "outputs": [],
   "source": [
    "###ANSWER(14)\n",
    "# Write your code here\n",
    "def factorial(num):\n",
    "    assert num>=0, 'Please call the function with a non-negative integer'\n",
    "    fac = 1\n",
    "    if num == 0:\n",
    "        return 1\n",
    "    else:\n",
    "        while num>=1:\n",
    "            fac *= num\n",
    "            num -= 1\n",
    "        return fac  "
   ]
  },
  {
   "cell_type": "code",
   "execution_count": null,
   "metadata": {
    "nbgrader": {
     "grade": true,
     "grade_id": "cell-79903ea777df7989",
     "locked": true,
     "points": 5,
     "schema_version": 3,
     "solution": false,
     "task": false
    }
   },
   "outputs": [],
   "source": [
    "#Please leave this cell blank."
   ]
  },
  {
   "cell_type": "markdown",
   "metadata": {
    "nbgrader": {
     "grade": false,
     "grade_id": "cell-1ed39cea2a219613",
     "locked": true,
     "schema_version": 3,
     "solution": false,
     "task": false
    }
   },
   "source": [
    "<div class=\"alert alert-warning\">\n",
    "<b>QUESTION 15:</b>\n",
    "\n",
    "<p>A list called <code>int_nums</code> has been defined. </p>\n",
    "    \n",
    "```python\n",
    "int_nums = [2, 3, 5, 6, 8, 9, 11, 12, 15, 18]    \n",
    "```\n",
    "\n",
    "<p>Use <code><b>filter</b></code> function to remove the even numbers from the list and assign the result to <code>int_nums</code>. Print <code>int_nums</code>, the expected output is <code>[3, 5, 9, 11, 15]</code>.</p>\n",
    "</div>"
   ]
  },
  {
   "cell_type": "code",
   "execution_count": 14,
   "metadata": {
    "nbgrader": {
     "grade": false,
     "grade_id": "cell-51a63ddced7d1ce3",
     "locked": false,
     "schema_version": 3,
     "solution": true,
     "task": false
    }
   },
   "outputs": [
    {
     "name": "stdout",
     "output_type": "stream",
     "text": [
      "[3, 5, 9, 11, 15]\n"
     ]
    }
   ],
   "source": [
    "###ANSWER(15)\n",
    "int_nums = [2, 3, 5, 6, 8, 9, 11, 12, 15, 18]\n",
    "int_nums = list(filter(lambda x:x%2!=0, int_nums)) # Write your code here\n",
    "print(int_nums)"
   ]
  },
  {
   "cell_type": "code",
   "execution_count": null,
   "metadata": {
    "nbgrader": {
     "grade": true,
     "grade_id": "cell-66288833ac7c1328",
     "locked": true,
     "points": 5,
     "schema_version": 3,
     "solution": false,
     "task": false
    }
   },
   "outputs": [],
   "source": [
    "#Please leave this cell blank."
   ]
  },
  {
   "cell_type": "markdown",
   "metadata": {
    "nbgrader": {
     "grade": false,
     "grade_id": "cell-d43cac086661fbb2",
     "locked": true,
     "schema_version": 3,
     "solution": false,
     "task": false
    }
   },
   "source": [
    "<div class=\"alert alert-warning\">\n",
    "<b>QUESTION 16:</b>\n",
    "<p>A list called <code>nums</code> has been defined in the cell below.</p> \n",
    "\n",
    "```python\n",
    "nums = [1, 3, 5, 6, 8]    \n",
    "```\n",
    "    \n",
    "<p>Write <b>ONE LINE</b> of code to sort the list with the ascending order of the absolute difference between the element and number <code>5</code> and assign the result to <code>nums</code>. Print <code>nums</code>, the expected output is <code>[5, 6, 3, 8, 1]</code>.</p>\n",
    "</div>"
   ]
  },
  {
   "cell_type": "code",
   "execution_count": 15,
   "metadata": {
    "nbgrader": {
     "grade": false,
     "grade_id": "cell-2124c070d97bd8fa",
     "locked": false,
     "schema_version": 3,
     "solution": true,
     "task": false
    }
   },
   "outputs": [
    {
     "name": "stdout",
     "output_type": "stream",
     "text": [
      "[5, 6, 3, 8, 1]\n"
     ]
    }
   ],
   "source": [
    "###ANSWER(16)\n",
    "nums = [1, 3, 5, 6, 8]\n",
    "nums = sorted(nums, key=lambda x:abs(5-x)) # Write your code here\n",
    "print(nums)"
   ]
  },
  {
   "cell_type": "code",
   "execution_count": null,
   "metadata": {
    "nbgrader": {
     "grade": true,
     "grade_id": "cell-892a9f8a26c4b55c",
     "locked": true,
     "points": 5,
     "schema_version": 3,
     "solution": false,
     "task": false
    }
   },
   "outputs": [],
   "source": [
    "#Please leave this cell blank."
   ]
  },
  {
   "cell_type": "markdown",
   "metadata": {
    "nbgrader": {
     "grade": false,
     "grade_id": "cell-cca49e66e4a9cc44",
     "locked": true,
     "schema_version": 3,
     "solution": false,
     "task": false
    }
   },
   "source": [
    "<div class=\"alert alert-warning\">\n",
    "<b>QUESTION 17:</b>\n",
    "<p>A DataFrame <code>df_sale</code> that contains sales information has been. </p>\n",
    "    \n",
    "```python\n",
    "df_sale = pd.DataFrame(data = {'MANAGER':['Anna', 'Anna', 'Martin', 'Anna', 'Martin', 'Martin', \n",
    "                                          'Anna', 'Martin'],\n",
    "                               'CLIENTS':[2, 7, 5, 5, 4, 5, 8, 5],\n",
    "                               'AMOUNT':[80.1, 10.2, 10., 80.3, 70., 100.2, 30., 40.5],\n",
    "                               'SALESPERSON':['Ben', 'Andrew',  'Elisa', 'Kat', 'Tom', 'Bet', \n",
    "                                              'Elenore', 'Steve'],\n",
    "                               'ACTIVE':['Y', 'Y', 'N', 'N', 'Y', 'Y', 'N', 'N']},\n",
    "                       index = pd.DatetimeIndex(['2020-03-01', '2020-05-01', '2020-03-01', '2020-04-01', \n",
    "                                                 '2020-04-01', '2020-05-01', '2020-06-01', '2020-06-01'])) \n",
    "```\n",
    "    \n",
    "<p>Create a new column called <code>MAN_EMPL_EARNINGS</code> that will show both names of the manager and salesperson next to each other, separated by <code>-</code> and amount of earnings preceded by a <code>+</code> sign, e.g. <code>Anna-Ben+80.0</code>. Display <code>df_sale</code>, the expected output is shown below.</p>\n",
    "\n",
    "<img src=\"./Quiz8_files_1/Question17.png\" width=\"60%\">\n",
    "\n",
    "</div>"
   ]
  },
  {
   "cell_type": "code",
   "execution_count": 16,
   "metadata": {
    "nbgrader": {
     "grade": false,
     "grade_id": "cell-2e1fbbb21efb2098",
     "locked": false,
     "schema_version": 3,
     "solution": true,
     "task": false
    }
   },
   "outputs": [
    {
     "data": {
      "text/html": [
       "<div>\n",
       "<style scoped>\n",
       "    .dataframe tbody tr th:only-of-type {\n",
       "        vertical-align: middle;\n",
       "    }\n",
       "\n",
       "    .dataframe tbody tr th {\n",
       "        vertical-align: top;\n",
       "    }\n",
       "\n",
       "    .dataframe thead th {\n",
       "        text-align: right;\n",
       "    }\n",
       "</style>\n",
       "<table border=\"1\" class=\"dataframe\">\n",
       "  <thead>\n",
       "    <tr style=\"text-align: right;\">\n",
       "      <th></th>\n",
       "      <th>MANAGER</th>\n",
       "      <th>CLIENTS</th>\n",
       "      <th>AMOUNT</th>\n",
       "      <th>SALESPERSON</th>\n",
       "      <th>ACTIVE</th>\n",
       "      <th>MAN_EMPL_EARNINGS</th>\n",
       "    </tr>\n",
       "  </thead>\n",
       "  <tbody>\n",
       "    <tr>\n",
       "      <th>2020-03-01</th>\n",
       "      <td>Anna</td>\n",
       "      <td>2</td>\n",
       "      <td>80.1</td>\n",
       "      <td>Ben</td>\n",
       "      <td>Y</td>\n",
       "      <td>Anna-Ben+80.1</td>\n",
       "    </tr>\n",
       "    <tr>\n",
       "      <th>2020-05-01</th>\n",
       "      <td>Anna</td>\n",
       "      <td>7</td>\n",
       "      <td>10.2</td>\n",
       "      <td>Andrew</td>\n",
       "      <td>Y</td>\n",
       "      <td>Anna-Andrew+10.2</td>\n",
       "    </tr>\n",
       "    <tr>\n",
       "      <th>2020-03-01</th>\n",
       "      <td>Martin</td>\n",
       "      <td>5</td>\n",
       "      <td>10.0</td>\n",
       "      <td>Elisa</td>\n",
       "      <td>N</td>\n",
       "      <td>Martin-Elisa+10.0</td>\n",
       "    </tr>\n",
       "    <tr>\n",
       "      <th>2020-04-01</th>\n",
       "      <td>Anna</td>\n",
       "      <td>5</td>\n",
       "      <td>80.3</td>\n",
       "      <td>Kat</td>\n",
       "      <td>N</td>\n",
       "      <td>Anna-Kat+80.3</td>\n",
       "    </tr>\n",
       "    <tr>\n",
       "      <th>2020-04-01</th>\n",
       "      <td>Martin</td>\n",
       "      <td>4</td>\n",
       "      <td>70.0</td>\n",
       "      <td>Tom</td>\n",
       "      <td>Y</td>\n",
       "      <td>Martin-Tom+70.0</td>\n",
       "    </tr>\n",
       "    <tr>\n",
       "      <th>2020-05-01</th>\n",
       "      <td>Martin</td>\n",
       "      <td>5</td>\n",
       "      <td>100.2</td>\n",
       "      <td>Bet</td>\n",
       "      <td>Y</td>\n",
       "      <td>Martin-Bet+100.2</td>\n",
       "    </tr>\n",
       "    <tr>\n",
       "      <th>2020-06-01</th>\n",
       "      <td>Anna</td>\n",
       "      <td>8</td>\n",
       "      <td>30.0</td>\n",
       "      <td>Elenore</td>\n",
       "      <td>N</td>\n",
       "      <td>Anna-Elenore+30.0</td>\n",
       "    </tr>\n",
       "    <tr>\n",
       "      <th>2020-06-01</th>\n",
       "      <td>Martin</td>\n",
       "      <td>5</td>\n",
       "      <td>40.5</td>\n",
       "      <td>Steve</td>\n",
       "      <td>N</td>\n",
       "      <td>Martin-Steve+40.5</td>\n",
       "    </tr>\n",
       "  </tbody>\n",
       "</table>\n",
       "</div>"
      ],
      "text/plain": [
       "           MANAGER  CLIENTS  AMOUNT SALESPERSON ACTIVE  MAN_EMPL_EARNINGS\n",
       "2020-03-01    Anna        2    80.1         Ben      Y      Anna-Ben+80.1\n",
       "2020-05-01    Anna        7    10.2      Andrew      Y   Anna-Andrew+10.2\n",
       "2020-03-01  Martin        5    10.0       Elisa      N  Martin-Elisa+10.0\n",
       "2020-04-01    Anna        5    80.3         Kat      N      Anna-Kat+80.3\n",
       "2020-04-01  Martin        4    70.0         Tom      Y    Martin-Tom+70.0\n",
       "2020-05-01  Martin        5   100.2         Bet      Y   Martin-Bet+100.2\n",
       "2020-06-01    Anna        8    30.0     Elenore      N  Anna-Elenore+30.0\n",
       "2020-06-01  Martin        5    40.5       Steve      N  Martin-Steve+40.5"
      ]
     },
     "metadata": {},
     "output_type": "display_data"
    }
   ],
   "source": [
    "###ANSWER(17)\n",
    "df_sale = pd.DataFrame(data = {'MANAGER':['Anna', 'Anna', 'Martin', 'Anna', 'Martin', 'Martin', \n",
    "                                          'Anna', 'Martin'],\n",
    "                               'CLIENTS':[2, 7, 5, 5, 4, 5, 8, 5],\n",
    "                               'AMOUNT':[80.1, 10.2, 10., 80.3, 70., 100.2, 30., 40.5],\n",
    "                               'SALESPERSON':['Ben', 'Andrew',  'Elisa', 'Kat', 'Tom', 'Bet', \n",
    "                                              'Elenore', 'Steve'],\n",
    "                               'ACTIVE':['Y', 'Y', 'N', 'N', 'Y', 'Y', 'N', 'N']},\n",
    "                       index = pd.DatetimeIndex(['2020-03-01', '2020-05-01', '2020-03-01', '2020-04-01', \n",
    "                                                 '2020-04-01', '2020-05-01', '2020-06-01', '2020-06-01']))\n",
    "\n",
    "# Write your code here\n",
    "df_sale['MAN_EMPL_EARNINGS'] = df_sale['MANAGER'] + '-' + df_sale['SALESPERSON'] + '+' + df_sale['AMOUNT'].map(str)\n",
    "display(df_sale)"
   ]
  },
  {
   "cell_type": "code",
   "execution_count": null,
   "metadata": {
    "nbgrader": {
     "grade": true,
     "grade_id": "cell-56d70338ccce481d",
     "locked": true,
     "points": 5,
     "schema_version": 3,
     "solution": false,
     "task": false
    }
   },
   "outputs": [],
   "source": [
    "#Please leave this cell blank."
   ]
  },
  {
   "cell_type": "markdown",
   "metadata": {
    "nbgrader": {
     "grade": false,
     "grade_id": "cell-c5ec11f74560cca9",
     "locked": true,
     "schema_version": 3,
     "solution": false,
     "task": false
    }
   },
   "source": [
    "<div class=\"alert alert-warning\">\n",
    "<b>QUESTION 18:</b>\n",
    "<p>A DataFrame has been defined in the cell below. </p>\n",
    "\n",
    "```python\n",
    "df_sale = pd.DataFrame(data = {'MANAGER':['Anna', 'Anna', 'Martin', 'Anna', 'Martin', 'Martin', \n",
    "                                          'Anna', 'Martin'],\n",
    "                               'CLIENTS':[2, 7, 5, 5, 4, 5, 8, 5],\n",
    "                               'AMOUNT':[80.1, 10.2, 10., 80.3, 70., 100.2, 30., 40.5],\n",
    "                               'SALESPERSON':['Ben', 'Andrew',  'Elisa', 'Kat', 'Tom', 'Bet', \n",
    "                                              'Elenore', 'Steve'],\n",
    "                               'ACTIVE':['Y', 'Y', 'N', 'N', 'Y', 'Y', 'N', 'N']},\n",
    "                       index = pd.DatetimeIndex(['2020-03-01', '2020-05-01', '2020-03-01', '2020-04-01', \n",
    "                                                 '2020-04-01', '2020-05-01', '2020-06-01', '2020-06-01']))\n",
    "```\n",
    "    \n",
    "<p>Covert the column names from upper cases to lower cases. Display <code>df_sale</code>, the expected output is shown below.</p>\n",
    "    \n",
    "<img src=\"./Quiz8_files_1/Question18.png\" width=\"40%\">\n",
    "    \n",
    "<br>    \n",
    "<p>Please <b>DON'T</b> rename the columns with a list of lower cased column names, e.g. <code>df_sale.columns = ['manager', 'clients', 'amount', 'salesperson', 'active']</code> or rename the column names one by one. </p>\n",
    "\n",
    "</div>"
   ]
  },
  {
   "cell_type": "code",
   "execution_count": 17,
   "metadata": {
    "nbgrader": {
     "grade": false,
     "grade_id": "cell-4e91516e89777d0d",
     "locked": false,
     "schema_version": 3,
     "solution": true,
     "task": false
    }
   },
   "outputs": [
    {
     "data": {
      "text/html": [
       "<div>\n",
       "<style scoped>\n",
       "    .dataframe tbody tr th:only-of-type {\n",
       "        vertical-align: middle;\n",
       "    }\n",
       "\n",
       "    .dataframe tbody tr th {\n",
       "        vertical-align: top;\n",
       "    }\n",
       "\n",
       "    .dataframe thead th {\n",
       "        text-align: right;\n",
       "    }\n",
       "</style>\n",
       "<table border=\"1\" class=\"dataframe\">\n",
       "  <thead>\n",
       "    <tr style=\"text-align: right;\">\n",
       "      <th></th>\n",
       "      <th>manager</th>\n",
       "      <th>clients</th>\n",
       "      <th>amount</th>\n",
       "      <th>salesperson</th>\n",
       "      <th>active</th>\n",
       "    </tr>\n",
       "  </thead>\n",
       "  <tbody>\n",
       "    <tr>\n",
       "      <th>2020-03-01</th>\n",
       "      <td>Anna</td>\n",
       "      <td>2</td>\n",
       "      <td>80.1</td>\n",
       "      <td>Ben</td>\n",
       "      <td>Y</td>\n",
       "    </tr>\n",
       "    <tr>\n",
       "      <th>2020-05-01</th>\n",
       "      <td>Anna</td>\n",
       "      <td>7</td>\n",
       "      <td>10.2</td>\n",
       "      <td>Andrew</td>\n",
       "      <td>Y</td>\n",
       "    </tr>\n",
       "    <tr>\n",
       "      <th>2020-03-01</th>\n",
       "      <td>Martin</td>\n",
       "      <td>5</td>\n",
       "      <td>10.0</td>\n",
       "      <td>Elisa</td>\n",
       "      <td>N</td>\n",
       "    </tr>\n",
       "    <tr>\n",
       "      <th>2020-04-01</th>\n",
       "      <td>Anna</td>\n",
       "      <td>5</td>\n",
       "      <td>80.3</td>\n",
       "      <td>Kat</td>\n",
       "      <td>N</td>\n",
       "    </tr>\n",
       "    <tr>\n",
       "      <th>2020-04-01</th>\n",
       "      <td>Martin</td>\n",
       "      <td>4</td>\n",
       "      <td>70.0</td>\n",
       "      <td>Tom</td>\n",
       "      <td>Y</td>\n",
       "    </tr>\n",
       "    <tr>\n",
       "      <th>2020-05-01</th>\n",
       "      <td>Martin</td>\n",
       "      <td>5</td>\n",
       "      <td>100.2</td>\n",
       "      <td>Bet</td>\n",
       "      <td>Y</td>\n",
       "    </tr>\n",
       "    <tr>\n",
       "      <th>2020-06-01</th>\n",
       "      <td>Anna</td>\n",
       "      <td>8</td>\n",
       "      <td>30.0</td>\n",
       "      <td>Elenore</td>\n",
       "      <td>N</td>\n",
       "    </tr>\n",
       "    <tr>\n",
       "      <th>2020-06-01</th>\n",
       "      <td>Martin</td>\n",
       "      <td>5</td>\n",
       "      <td>40.5</td>\n",
       "      <td>Steve</td>\n",
       "      <td>N</td>\n",
       "    </tr>\n",
       "  </tbody>\n",
       "</table>\n",
       "</div>"
      ],
      "text/plain": [
       "           manager  clients  amount salesperson active\n",
       "2020-03-01    Anna        2    80.1         Ben      Y\n",
       "2020-05-01    Anna        7    10.2      Andrew      Y\n",
       "2020-03-01  Martin        5    10.0       Elisa      N\n",
       "2020-04-01    Anna        5    80.3         Kat      N\n",
       "2020-04-01  Martin        4    70.0         Tom      Y\n",
       "2020-05-01  Martin        5   100.2         Bet      Y\n",
       "2020-06-01    Anna        8    30.0     Elenore      N\n",
       "2020-06-01  Martin        5    40.5       Steve      N"
      ]
     },
     "metadata": {},
     "output_type": "display_data"
    }
   ],
   "source": [
    "###ANSWER(18)\n",
    "df_sale = pd.DataFrame(data = {'MANAGER':['Anna', 'Anna', 'Martin', 'Anna', 'Martin', 'Martin', \n",
    "                                          'Anna', 'Martin'],\n",
    "                               'CLIENTS':[2, 7, 5, 5, 4, 5, 8, 5],\n",
    "                               'AMOUNT':[80.1, 10.2, 10., 80.3, 70., 100.2, 30., 40.5],\n",
    "                               'SALESPERSON':['Ben', 'Andrew',  'Elisa', 'Kat', 'Tom', 'Bet', \n",
    "                                              'Elenore', 'Steve'],\n",
    "                               'ACTIVE':['Y', 'Y', 'N', 'N', 'Y', 'Y', 'N', 'N']},\n",
    "                       index = pd.DatetimeIndex(['2020-03-01', '2020-05-01', '2020-03-01', '2020-04-01', \n",
    "                                                 '2020-04-01', '2020-05-01', '2020-06-01', '2020-06-01']))\n",
    "\n",
    "# Write your code here\n",
    "df_sale.columns = map(str.lower, df_sale.columns)\n",
    "display(df_sale)"
   ]
  },
  {
   "cell_type": "code",
   "execution_count": null,
   "metadata": {
    "nbgrader": {
     "grade": true,
     "grade_id": "cell-66c14f7d2c0805f6",
     "locked": true,
     "points": 5,
     "schema_version": 3,
     "solution": false,
     "task": false
    }
   },
   "outputs": [],
   "source": [
    "#Please leave this cell blank."
   ]
  },
  {
   "cell_type": "markdown",
   "metadata": {
    "nbgrader": {
     "grade": false,
     "grade_id": "cell-70a52ea9f7c41b03",
     "locked": true,
     "schema_version": 3,
     "solution": false,
     "task": false
    }
   },
   "source": [
    "<div class=\"alert alert-warning\">\n",
    "<b>QUESTION 19:</b>\n",
    "<p>A DataFrame has been defined in the cell below. </p>\n",
    "\n",
    "```python\n",
    "df_sale = pd.DataFrame(data = {'MANAGER':['Anna', 'Anna', 'Martin', 'Anna', 'Martin', 'Martin', \n",
    "                                          'Anna', 'Martin'],\n",
    "                               'CLIENTS':[2, 7, 5, 5, 4, 5, 8, 5],\n",
    "                               'AMOUNT':[80.1, 10.2, 10., 80.3, 70., 100.2, 30., 40.5],\n",
    "                               'SALESPERSON':['Ben', 'Andrew',  'Elisa', 'Kat', 'Tom', 'Bet', \n",
    "                                              'Elenore', 'Steve'],\n",
    "                               'ACTIVE':['Y', 'Y', 'N', 'N', 'Y', 'Y', 'N', 'N']},\n",
    "                       index = pd.DatetimeIndex(['2020-03-01', '2020-05-01', '2020-03-01', '2020-04-01', \n",
    "                                                 '2020-04-01', '2020-05-01', '2020-06-01', '2020-06-01'])) \n",
    "```\n",
    "    \n",
    "<p>Replace the column <code>AMOUNT</code> with a new column called <code>AMOUNT_PERCENTAGE</code> which contains the percentage of amount (rounded to the <b>second</b> decimal) for each row. Please make sure the order of columns remains the same. Display <code>df_sale</code>, the expected output is shown below.</p>\n",
    "\n",
    "<img src=\"./Quiz8_files_1/Question19.png\" width=\"50%\">\n",
    "\n",
    "</div>"
   ]
  },
  {
   "cell_type": "code",
   "execution_count": 18,
   "metadata": {
    "nbgrader": {
     "grade": false,
     "grade_id": "cell-a08a34286ee80365",
     "locked": false,
     "schema_version": 3,
     "solution": true,
     "task": false
    }
   },
   "outputs": [
    {
     "data": {
      "text/html": [
       "<div>\n",
       "<style scoped>\n",
       "    .dataframe tbody tr th:only-of-type {\n",
       "        vertical-align: middle;\n",
       "    }\n",
       "\n",
       "    .dataframe tbody tr th {\n",
       "        vertical-align: top;\n",
       "    }\n",
       "\n",
       "    .dataframe thead th {\n",
       "        text-align: right;\n",
       "    }\n",
       "</style>\n",
       "<table border=\"1\" class=\"dataframe\">\n",
       "  <thead>\n",
       "    <tr style=\"text-align: right;\">\n",
       "      <th></th>\n",
       "      <th>MANAGER</th>\n",
       "      <th>CLIENTS</th>\n",
       "      <th>AMOUNT_PERCENTAGE</th>\n",
       "      <th>SALESPERSON</th>\n",
       "      <th>ACTIVE</th>\n",
       "    </tr>\n",
       "  </thead>\n",
       "  <tbody>\n",
       "    <tr>\n",
       "      <th>2020-03-01</th>\n",
       "      <td>Anna</td>\n",
       "      <td>2</td>\n",
       "      <td>0.19%</td>\n",
       "      <td>Ben</td>\n",
       "      <td>Y</td>\n",
       "    </tr>\n",
       "    <tr>\n",
       "      <th>2020-05-01</th>\n",
       "      <td>Anna</td>\n",
       "      <td>7</td>\n",
       "      <td>0.02%</td>\n",
       "      <td>Andrew</td>\n",
       "      <td>Y</td>\n",
       "    </tr>\n",
       "    <tr>\n",
       "      <th>2020-03-01</th>\n",
       "      <td>Martin</td>\n",
       "      <td>5</td>\n",
       "      <td>0.02%</td>\n",
       "      <td>Elisa</td>\n",
       "      <td>N</td>\n",
       "    </tr>\n",
       "    <tr>\n",
       "      <th>2020-04-01</th>\n",
       "      <td>Anna</td>\n",
       "      <td>5</td>\n",
       "      <td>0.19%</td>\n",
       "      <td>Kat</td>\n",
       "      <td>N</td>\n",
       "    </tr>\n",
       "    <tr>\n",
       "      <th>2020-04-01</th>\n",
       "      <td>Martin</td>\n",
       "      <td>4</td>\n",
       "      <td>0.17%</td>\n",
       "      <td>Tom</td>\n",
       "      <td>Y</td>\n",
       "    </tr>\n",
       "    <tr>\n",
       "      <th>2020-05-01</th>\n",
       "      <td>Martin</td>\n",
       "      <td>5</td>\n",
       "      <td>0.24%</td>\n",
       "      <td>Bet</td>\n",
       "      <td>Y</td>\n",
       "    </tr>\n",
       "    <tr>\n",
       "      <th>2020-06-01</th>\n",
       "      <td>Anna</td>\n",
       "      <td>8</td>\n",
       "      <td>0.07%</td>\n",
       "      <td>Elenore</td>\n",
       "      <td>N</td>\n",
       "    </tr>\n",
       "    <tr>\n",
       "      <th>2020-06-01</th>\n",
       "      <td>Martin</td>\n",
       "      <td>5</td>\n",
       "      <td>0.10%</td>\n",
       "      <td>Steve</td>\n",
       "      <td>N</td>\n",
       "    </tr>\n",
       "  </tbody>\n",
       "</table>\n",
       "</div>"
      ],
      "text/plain": [
       "           MANAGER  CLIENTS AMOUNT_PERCENTAGE SALESPERSON ACTIVE\n",
       "2020-03-01    Anna        2             0.19%         Ben      Y\n",
       "2020-05-01    Anna        7             0.02%      Andrew      Y\n",
       "2020-03-01  Martin        5             0.02%       Elisa      N\n",
       "2020-04-01    Anna        5             0.19%         Kat      N\n",
       "2020-04-01  Martin        4             0.17%         Tom      Y\n",
       "2020-05-01  Martin        5             0.24%         Bet      Y\n",
       "2020-06-01    Anna        8             0.07%     Elenore      N\n",
       "2020-06-01  Martin        5             0.10%       Steve      N"
      ]
     },
     "metadata": {},
     "output_type": "display_data"
    }
   ],
   "source": [
    "###ANSWER(19)\n",
    "df_sale = pd.DataFrame(data = {'MANAGER':['Anna', 'Anna', 'Martin', 'Anna', 'Martin', 'Martin', \n",
    "                                          'Anna', 'Martin'],\n",
    "                               'CLIENTS':[2, 7, 5, 5, 4, 5, 8, 5],\n",
    "                               'AMOUNT':[80.1, 10.2, 10., 80.3, 70., 100.2, 30., 40.5],\n",
    "                               'SALESPERSON':['Ben', 'Andrew',  'Elisa', 'Kat', 'Tom', 'Bet', \n",
    "                                              'Elenore', 'Steve'],\n",
    "                               'ACTIVE':['Y', 'Y', 'N', 'N', 'Y', 'Y', 'N', 'N']},\n",
    "                       index = pd.DatetimeIndex(['2020-03-01', '2020-05-01', '2020-03-01', '2020-04-01', \n",
    "                                                 '2020-04-01', '2020-05-01', '2020-06-01', '2020-06-01']))\n",
    "\n",
    "# Write your code here\n",
    "df_sale.AMOUNT = df_sale.AMOUNT.apply(lambda x:'{:.2f}%'.format(x/df_sale.AMOUNT.sum()))\n",
    "df_sale = df_sale.rename(columns={'AMOUNT':'AMOUNT_PERCENTAGE'})\n",
    "display(df_sale)"
   ]
  },
  {
   "cell_type": "code",
   "execution_count": null,
   "metadata": {
    "nbgrader": {
     "grade": true,
     "grade_id": "cell-04c6996e395fa019",
     "locked": true,
     "points": 5,
     "schema_version": 3,
     "solution": false,
     "task": false
    }
   },
   "outputs": [],
   "source": [
    "#Please leave this cell blank."
   ]
  },
  {
   "cell_type": "markdown",
   "metadata": {
    "nbgrader": {
     "grade": false,
     "grade_id": "cell-70f4341516375d50",
     "locked": true,
     "schema_version": 3,
     "solution": false,
     "task": false
    }
   },
   "source": [
    "<div class=\"alert alert-warning\">\n",
    "<b>QUESTION 20:</b>\n",
    "<p>A DataFrame <code>df_quiz</code> which contains the grades from Quiz_1 to Quiz_6 has been defined in the cell below. </p>\n",
    "\n",
    "```python\n",
    "df_quiz = pd.DataFrame(data = {'NAME':['Ben', 'Elisa', 'Kat', 'Tom', 'Diego', 'Xiaoming', 'Yun', 'Sofia'],\n",
    "                               'Quiz_1': [90, 80, 70, 90, 40, 60, 77, 80],\n",
    "                               'Quiz_2': [80, 64, 30, 80, 60, 42, 90, 43],\n",
    "                               'Quiz_3': [64, 60, 68, 88, 70, 53, 88, 50],\n",
    "                               'Quiz_4': [73, 93, 80, 94, 73, 60, 80, 87],\n",
    "                               'Quiz_5': [68, 64, 55, 77, 61, 93, 54, 63],\n",
    "                               'Quiz_6': [88, 74, 66, 74, 75, 60, 83, 77]})    \n",
    "```\n",
    "    \n",
    "<p>When calculating the final grade, the 2 lowest grades will be dropped, and the average grade of the remaining 4 quizzes will be the final grade. Assign the result to a new column called <code>FINAL_GRADE</code> and calculate the final grade (rounded to the <b>first</b> decimal) for each student. Display <code>df_quiz</code>, the expected output is shown below.</p>\n",
    "\n",
    "<img src=\"./Quiz8_files_1/Question20.png\" width=\"50%\">\n",
    "\n",
    "</div>"
   ]
  },
  {
   "cell_type": "code",
   "execution_count": 19,
   "metadata": {
    "nbgrader": {
     "grade": false,
     "grade_id": "cell-bb1399dc535a82fd",
     "locked": false,
     "schema_version": 3,
     "solution": true,
     "task": false
    }
   },
   "outputs": [
    {
     "data": {
      "text/html": [
       "<div>\n",
       "<style scoped>\n",
       "    .dataframe tbody tr th:only-of-type {\n",
       "        vertical-align: middle;\n",
       "    }\n",
       "\n",
       "    .dataframe tbody tr th {\n",
       "        vertical-align: top;\n",
       "    }\n",
       "\n",
       "    .dataframe thead th {\n",
       "        text-align: right;\n",
       "    }\n",
       "</style>\n",
       "<table border=\"1\" class=\"dataframe\">\n",
       "  <thead>\n",
       "    <tr style=\"text-align: right;\">\n",
       "      <th></th>\n",
       "      <th>NAME</th>\n",
       "      <th>Quiz_1</th>\n",
       "      <th>Quiz_2</th>\n",
       "      <th>Quiz_3</th>\n",
       "      <th>Quiz_4</th>\n",
       "      <th>Quiz_5</th>\n",
       "      <th>Quiz_6</th>\n",
       "      <th>FINAL_GRADE</th>\n",
       "    </tr>\n",
       "  </thead>\n",
       "  <tbody>\n",
       "    <tr>\n",
       "      <th>0</th>\n",
       "      <td>Ben</td>\n",
       "      <td>90</td>\n",
       "      <td>80</td>\n",
       "      <td>64</td>\n",
       "      <td>73</td>\n",
       "      <td>68</td>\n",
       "      <td>88</td>\n",
       "      <td>82.8</td>\n",
       "    </tr>\n",
       "    <tr>\n",
       "      <th>1</th>\n",
       "      <td>Elisa</td>\n",
       "      <td>80</td>\n",
       "      <td>64</td>\n",
       "      <td>60</td>\n",
       "      <td>93</td>\n",
       "      <td>64</td>\n",
       "      <td>74</td>\n",
       "      <td>77.8</td>\n",
       "    </tr>\n",
       "    <tr>\n",
       "      <th>2</th>\n",
       "      <td>Kat</td>\n",
       "      <td>70</td>\n",
       "      <td>30</td>\n",
       "      <td>68</td>\n",
       "      <td>80</td>\n",
       "      <td>55</td>\n",
       "      <td>66</td>\n",
       "      <td>71.0</td>\n",
       "    </tr>\n",
       "    <tr>\n",
       "      <th>3</th>\n",
       "      <td>Tom</td>\n",
       "      <td>90</td>\n",
       "      <td>80</td>\n",
       "      <td>88</td>\n",
       "      <td>94</td>\n",
       "      <td>77</td>\n",
       "      <td>74</td>\n",
       "      <td>88.0</td>\n",
       "    </tr>\n",
       "    <tr>\n",
       "      <th>4</th>\n",
       "      <td>Diego</td>\n",
       "      <td>40</td>\n",
       "      <td>60</td>\n",
       "      <td>70</td>\n",
       "      <td>73</td>\n",
       "      <td>61</td>\n",
       "      <td>75</td>\n",
       "      <td>69.8</td>\n",
       "    </tr>\n",
       "    <tr>\n",
       "      <th>5</th>\n",
       "      <td>Xiaoming</td>\n",
       "      <td>60</td>\n",
       "      <td>42</td>\n",
       "      <td>53</td>\n",
       "      <td>60</td>\n",
       "      <td>93</td>\n",
       "      <td>60</td>\n",
       "      <td>68.2</td>\n",
       "    </tr>\n",
       "    <tr>\n",
       "      <th>6</th>\n",
       "      <td>Yun</td>\n",
       "      <td>77</td>\n",
       "      <td>90</td>\n",
       "      <td>88</td>\n",
       "      <td>80</td>\n",
       "      <td>54</td>\n",
       "      <td>83</td>\n",
       "      <td>85.2</td>\n",
       "    </tr>\n",
       "    <tr>\n",
       "      <th>7</th>\n",
       "      <td>Sofia</td>\n",
       "      <td>80</td>\n",
       "      <td>43</td>\n",
       "      <td>50</td>\n",
       "      <td>87</td>\n",
       "      <td>63</td>\n",
       "      <td>77</td>\n",
       "      <td>76.8</td>\n",
       "    </tr>\n",
       "  </tbody>\n",
       "</table>\n",
       "</div>"
      ],
      "text/plain": [
       "       NAME  Quiz_1  Quiz_2  Quiz_3  Quiz_4  Quiz_5  Quiz_6  FINAL_GRADE\n",
       "0       Ben      90      80      64      73      68      88         82.8\n",
       "1     Elisa      80      64      60      93      64      74         77.8\n",
       "2       Kat      70      30      68      80      55      66         71.0\n",
       "3       Tom      90      80      88      94      77      74         88.0\n",
       "4     Diego      40      60      70      73      61      75         69.8\n",
       "5  Xiaoming      60      42      53      60      93      60         68.2\n",
       "6       Yun      77      90      88      80      54      83         85.2\n",
       "7     Sofia      80      43      50      87      63      77         76.8"
      ]
     },
     "metadata": {},
     "output_type": "display_data"
    }
   ],
   "source": [
    "###ANSWER(20)\n",
    "df_quiz = pd.DataFrame(data = {'NAME':['Ben', 'Elisa', 'Kat', 'Tom', 'Diego', 'Xiaoming', 'Yun', 'Sofia'],\n",
    "                               'Quiz_1': [90, 80, 70, 90, 40, 60, 77, 80],\n",
    "                               'Quiz_2': [80, 64, 30, 80, 60, 42, 90, 43],\n",
    "                               'Quiz_3': [64, 60, 68, 88, 70, 53, 88, 50],\n",
    "                               'Quiz_4': [73, 93, 80, 94, 73, 60, 80, 87],\n",
    "                               'Quiz_5': [68, 64, 55, 77, 61, 93, 54, 63],\n",
    "                               'Quiz_6': [88, 74, 66, 74, 75, 60, 83, 77]})\n",
    "\n",
    "# Write your code here\n",
    "df_quiz['FINAL_GRADE'] = np.round(np.sort(df_quiz.set_index('NAME').values,axis=1)[:,2:].mean(axis=1),1)\n",
    "display(df_quiz)"
   ]
  },
  {
   "cell_type": "code",
   "execution_count": null,
   "metadata": {
    "nbgrader": {
     "grade": true,
     "grade_id": "cell-339f130acff80bd6",
     "locked": true,
     "points": 5,
     "schema_version": 3,
     "solution": false,
     "task": false
    }
   },
   "outputs": [],
   "source": [
    "#Please leave this cell blank."
   ]
  }
 ],
 "metadata": {
  "kernelspec": {
   "display_name": "Python 3",
   "language": "python",
   "name": "python3"
  },
  "language_info": {
   "codemirror_mode": {
    "name": "ipython",
    "version": 3
   },
   "file_extension": ".py",
   "mimetype": "text/x-python",
   "name": "python",
   "nbconvert_exporter": "python",
   "pygments_lexer": "ipython3",
   "version": "3.8.3"
  }
 },
 "nbformat": 4,
 "nbformat_minor": 4
}
