{
 "cells": [
  {
   "cell_type": "markdown",
   "metadata": {
    "nbgrader": {
     "grade": false,
     "grade_id": "cell-23a484e92c82d7ce",
     "locked": true,
     "schema_version": 3,
     "solution": false,
     "task": false
    }
   },
   "source": [
    "<div class=\"image\">\n",
    "\n",
    "  <img style=\"float: right;\" src=\"https://dx5i3n065oxey.cloudfront.net/platform/4186/assets/logo.png?v=2e76f927-9482-4bfb-9092-d9a0b595cd2c\" width=\"45%\" align=\"right\">\n",
    "      <h4>\n",
    "          <p style=\"font-size:20pt\">Programming for Business Analytics</p>\n",
    "          <p style=\"font-size:15pt\">Q8 Practice 2</p>\n",
    "      </h4>\n",
    "</div>\n",
    "\n",
    "- Make sure you have executed the code in the cell below.\n",
    "- Make sure you read the questions carefully and follow the instructions.\n",
    "- Make sure you put the answers in the Answer cells.\n",
    "- Please do not put your answers in comments (after #).\n",
    "- Please do not add any new cells between the Question and Answer cells.\n",
    "- Please do not change the names of the variables in Answer cells.\n",
    "- Please do not assign the expected result directly to the variable.\n",
    "- Please do not change the pre-defined variables."
   ]
  },
  {
   "cell_type": "code",
   "execution_count": null,
   "metadata": {
    "nbgrader": {
     "grade": false,
     "grade_id": "cell-b43da51c6220747a",
     "locked": true,
     "schema_version": 3,
     "solution": false,
     "task": false
    }
   },
   "outputs": [],
   "source": [
    "#Please import packages and make sure your Jupyter Notebook environment is running a Python 3 kernel \n",
    "import numpy as np\n",
    "import pandas as pd\n",
    "import IPython\n",
    "assert IPython.version_info[0] >= 3, \"Your version of IPython is too old, please update it.\"\n",
    "%autosave 120"
   ]
  },
  {
   "cell_type": "markdown",
   "metadata": {
    "nbgrader": {
     "grade": false,
     "grade_id": "cell-45d4957c9dc55458",
     "locked": true,
     "schema_version": 3,
     "solution": false,
     "task": false
    }
   },
   "source": [
    "<div class=\"alert alert-warning\"> \n",
    "<b>QUESTION 1:</b> \n",
    "    \n",
    "<p>Which one of the following statements is wrong?</p>\n",
    "<p> a) Tuples are immutable objects. </p>\n",
    "<p> b) Sets can be indexed. </p>\n",
    "<p> c) A pure function would return values that depend only on its arguments. </p>\n",
    "<p> d) A DataFrame can be transposed. </p>\n",
    "\n",
    "</div>"
   ]
  },
  {
   "cell_type": "code",
   "execution_count": null,
   "metadata": {
    "nbgrader": {
     "grade": false,
     "grade_id": "cell-697b9422d481ae31",
     "locked": false,
     "schema_version": 3,
     "solution": true,
     "task": false
    }
   },
   "outputs": [],
   "source": [
    "###ANSWER(1). Please assign the letter representing the correct answer to the variable \n",
    "### (write it down between the \"\")\n",
    "answer_1 = \"b\""
   ]
  },
  {
   "cell_type": "code",
   "execution_count": null,
   "metadata": {
    "nbgrader": {
     "grade": true,
     "grade_id": "cell-474ae9dab51c7e9e",
     "locked": true,
     "points": 5,
     "schema_version": 3,
     "solution": false,
     "task": false
    }
   },
   "outputs": [],
   "source": [
    "#Please leave this cell blank."
   ]
  },
  {
   "cell_type": "markdown",
   "metadata": {
    "nbgrader": {
     "grade": false,
     "grade_id": "cell-07aa15adaafb4608",
     "locked": true,
     "schema_version": 3,
     "solution": false,
     "task": false
    }
   },
   "source": [
    "<div class=\"alert alert-warning\">\n",
    "<b>QUESTION 2:</b>\n",
    "<p>A list called <code>nums</code> has been defined. </p>\n",
    "\n",
    "```python\n",
    "nums = [1, 2, 5, 7, -3, -9, 2, -10, 2, 7, 9, 3, -1, 2, 5, 8, 9, -2, 4, 5]    \n",
    "```\n",
    "    \n",
    "<p>Write <b>ONE LINE</b> of code to replace any positive number with its squared value and assign the result to <code>nums</code>. Print <code>nums</code>, the expected output is shown below. </p>\n",
    "\n",
    "```\n",
    "[1, 4, 25, 49, -3, -9, 4, -10, 4, 49, 81, 9, -1, 4, 25, 64, 81, -2, 16, 25]\n",
    "```\n",
    "</div>"
   ]
  },
  {
   "cell_type": "code",
   "execution_count": null,
   "metadata": {
    "nbgrader": {
     "grade": false,
     "grade_id": "cell-654cb047a40f078e",
     "locked": false,
     "schema_version": 3,
     "solution": true,
     "task": false
    }
   },
   "outputs": [],
   "source": [
    "###ANSWER(2)\n",
    "nums = [1, 2, 5, 7, -3, -9, 2, -10, 2, 7, 9, 3, -1, 2, 5, 8, 9, -2, 4, 5]\n",
    "# Write your code here\n",
    "nums = [i**2 if i>0 else i for i in nums]\n",
    "print(nums)"
   ]
  },
  {
   "cell_type": "code",
   "execution_count": null,
   "metadata": {
    "nbgrader": {
     "grade": true,
     "grade_id": "cell-c6c6c29a0b2dc093",
     "locked": true,
     "points": 5,
     "schema_version": 3,
     "solution": false,
     "task": false
    }
   },
   "outputs": [],
   "source": [
    "#Please leave this cell blank."
   ]
  },
  {
   "cell_type": "markdown",
   "metadata": {
    "nbgrader": {
     "grade": false,
     "grade_id": "cell-6bee9b71e7fea6b8",
     "locked": true,
     "schema_version": 3,
     "solution": false,
     "task": false
    }
   },
   "source": [
    "<div class=\"alert alert-warning\">\n",
    "<b>QUESTION 3:</b>\n",
    "<p>An array has been defined.</p>\n",
    "    \n",
    "```python\n",
    "arr_3 = np.array([6, 3, 4, 7, 9, 4, 7, 8, 9, 3, 4, 5, 7, 3, 5, 7, 7, 3, 2, 13]).reshape(4, 5)    \n",
    "```\n",
    "    \n",
    "<p>Calculate the cumulative sum of the elements over columns for each of the 4 rows, and assign the result to an array <code>answer_3</code>. If we print <code>answer_3</code>, the expected output is shown below.</p>\n",
    "    \n",
    "```\n",
    "[[ 6  9 13 20 29]\n",
    " [ 4 11 19 28 31]\n",
    " [ 4  9 16 19 24]\n",
    " [ 7 14 17 19 32]]\n",
    "```\n",
    "\n",
    "</div>"
   ]
  },
  {
   "cell_type": "code",
   "execution_count": null,
   "metadata": {
    "nbgrader": {
     "grade": false,
     "grade_id": "cell-596ecb5098ed18c9",
     "locked": false,
     "schema_version": 3,
     "solution": true,
     "task": false
    }
   },
   "outputs": [],
   "source": [
    "###ANSWER(3)\n",
    "arr_3 = np.array([6, 3, 4, 7, 9, 4, 7, 8, 9, 3, 4, 5, 7, 3, 5, 7, 7, 3, 2, 13]).reshape(4, 5)\n",
    "answer_3 = arr_3.cumsum(axis=1) # Write your code here\n",
    "print(answer_3)"
   ]
  },
  {
   "cell_type": "code",
   "execution_count": null,
   "metadata": {
    "nbgrader": {
     "grade": true,
     "grade_id": "cell-7f96f493eeaf6a32",
     "locked": true,
     "points": 5,
     "schema_version": 3,
     "solution": false,
     "task": false
    }
   },
   "outputs": [],
   "source": [
    "#Please leave this cell blank."
   ]
  },
  {
   "cell_type": "markdown",
   "metadata": {
    "nbgrader": {
     "grade": false,
     "grade_id": "cell-a4ab748e28f6f315",
     "locked": true,
     "schema_version": 3,
     "solution": false,
     "task": false
    }
   },
   "source": [
    "<div class=\"alert alert-warning\">\n",
    "<b>QUESTION 4: </b> \n",
    "<p>A list has been defined. </p>\n",
    " \n",
    "```python\n",
    "list_4 = [[3,8,5,7],[2,6,3],[7,8,9,5,6,3],[2,3,1],[7,8,4,9]]    \n",
    "```\n",
    "    \n",
    "<p>Write <b>ONE LINE</b> of code to sort each sublist in <b>descending</b> order and assign the result to <code>list_4</code>. Print <code>list_4</code>, the expected output is shown below. </p>\n",
    "\n",
    "```\n",
    "[[8, 7, 5, 3], [6, 3, 2], [9, 8, 7, 6, 5, 3], [3, 2, 1], [9, 8, 7, 4]]\n",
    "```\n",
    "</div>"
   ]
  },
  {
   "cell_type": "code",
   "execution_count": null,
   "metadata": {
    "nbgrader": {
     "grade": false,
     "grade_id": "cell-9e5851416fb79950",
     "locked": false,
     "schema_version": 3,
     "solution": true,
     "task": false
    }
   },
   "outputs": [],
   "source": [
    "###ANSWER(4)\n",
    "list_4 = [[3,8,5,7],[2,6,3],[7,8,9,5,6,3],[2,3,1],[7,8,4,9]]\n",
    "list_4 = [sorted(i, reverse=True) for i in list_4] # Write your code here\n",
    "print(list_4)"
   ]
  },
  {
   "cell_type": "code",
   "execution_count": null,
   "metadata": {
    "nbgrader": {
     "grade": true,
     "grade_id": "cell-24c640288d32f5ac",
     "locked": true,
     "points": 5,
     "schema_version": 3,
     "solution": false,
     "task": false
    }
   },
   "outputs": [],
   "source": [
    "#Please leave this cell blank."
   ]
  },
  {
   "cell_type": "markdown",
   "metadata": {
    "nbgrader": {
     "grade": false,
     "grade_id": "cell-c7824948b9ff45ae",
     "locked": true,
     "schema_version": 3,
     "solution": false,
     "task": false
    }
   },
   "source": [
    "<div class=\"alert alert-warning\">\n",
    "<b>QUESTION 5: </b> \n",
    "<p>A dictionary has been defined. </p>\n",
    "    \n",
    "```python\n",
    "dict_5 = {'a':300, 'b':150, 'c':250, 'd':134, 'e':156, 'f':199, 'g': 256, 'h':388, 'i':132, 'j':240}    \n",
    "```\n",
    "    \n",
    "<p>Write code to delete the elements where the corresponding values are larger than 200 and assign the result to <code>dict_5</code>. Print <code>dict_5</code>, the expected output is shown below.</p>\n",
    "\n",
    "```\n",
    "{'b': 150, 'd': 134, 'e': 156, 'f': 199, 'i': 132}\n",
    "```\n",
    "</div>"
   ]
  },
  {
   "cell_type": "code",
   "execution_count": null,
   "metadata": {
    "nbgrader": {
     "grade": false,
     "grade_id": "cell-d4d91bae8126ad4d",
     "locked": false,
     "schema_version": 3,
     "solution": true,
     "task": false
    }
   },
   "outputs": [],
   "source": [
    "###ANSWER(5)\n",
    "dict_5 = {'a':300, 'b':150, 'c':250, 'd':134, 'e':156, 'f':199, 'g': 256, 'h':388, 'i':132, 'j':240}\n",
    "# Write your code here\n",
    "dict_5 = {k:v for k,v in dict_5.items() if v<=200}\n",
    "print(dict_5)"
   ]
  },
  {
   "cell_type": "code",
   "execution_count": null,
   "metadata": {
    "nbgrader": {
     "grade": true,
     "grade_id": "cell-4f6fc596a8cf8ad2",
     "locked": true,
     "points": 5,
     "schema_version": 3,
     "solution": false,
     "task": false
    }
   },
   "outputs": [],
   "source": [
    "#Please leave this cell blank."
   ]
  },
  {
   "cell_type": "markdown",
   "metadata": {
    "nbgrader": {
     "grade": false,
     "grade_id": "cell-3d1b13323bfe9361",
     "locked": true,
     "schema_version": 3,
     "solution": false,
     "task": false
    }
   },
   "source": [
    "<div class=\"alert alert-warning\">\n",
    "<b>QUESTION 6: </b> \n",
    "<p>Create a $6\\times6$ array called <code>arr_6</code>. Print <code>arr_6</code>, the expected output is shown below.</p>\n",
    "    \n",
    "```\n",
    "[[6 0 0 0 0 6]\n",
    " [0 6 0 0 6 0]\n",
    " [0 0 6 6 0 0]\n",
    " [0 0 6 6 0 0]\n",
    " [0 6 0 0 6 0]\n",
    " [6 0 0 0 0 6]]\n",
    "```\n",
    "\n",
    "</div>"
   ]
  },
  {
   "cell_type": "code",
   "execution_count": null,
   "metadata": {
    "nbgrader": {
     "grade": false,
     "grade_id": "cell-148e597dfdc24030",
     "locked": false,
     "schema_version": 3,
     "solution": true,
     "task": false
    }
   },
   "outputs": [],
   "source": [
    "###ANSWER(6)\n",
    "arr_6 = (np.eye(6)[:,::-1]+np.eye(6)).astype(int)*6 # Write your code here\n",
    "print(arr_6)"
   ]
  },
  {
   "cell_type": "code",
   "execution_count": null,
   "metadata": {
    "nbgrader": {
     "grade": true,
     "grade_id": "cell-6dad9b8e3396c574",
     "locked": true,
     "points": 5,
     "schema_version": 3,
     "solution": false,
     "task": false
    }
   },
   "outputs": [],
   "source": [
    "#Please leave this cell blank."
   ]
  },
  {
   "cell_type": "markdown",
   "metadata": {
    "nbgrader": {
     "grade": false,
     "grade_id": "cell-772c33305351d345",
     "locked": true,
     "schema_version": 3,
     "solution": false,
     "task": false
    }
   },
   "source": [
    "<div class=\"alert alert-warning\">\n",
    "<b>QUESTION 7:</b>\n",
    "<p>An array has been defined.</p>\n",
    "    \n",
    "```python\n",
    "arr_7 = np.array([7, np.nan, 3, 1, np.nan, np.nan, 10, 7, 8, 3, np.nan, 9]).reshape(3, 4)\n",
    "```\n",
    "    \n",
    "<p>Fill the NaN values with the mean (integer) of all the other non-NaN values and assign the result to <code>arr_7</code>. Print <code>arr_7</code>, the expected output is shown below.</p>\n",
    "    \n",
    "```\n",
    "[[ 7  6  3  1]\n",
    " [ 6  6 10  7]\n",
    " [ 8  3  6  9]]\n",
    "```\n",
    "\n",
    "</div>"
   ]
  },
  {
   "cell_type": "code",
   "execution_count": null,
   "metadata": {
    "nbgrader": {
     "grade": false,
     "grade_id": "cell-8f0b9b549bf5dcdf",
     "locked": false,
     "schema_version": 3,
     "solution": true,
     "task": false
    }
   },
   "outputs": [],
   "source": [
    "###ANSWER(7)\n",
    "arr_7 = np.array([7, np.nan, 3, 1, np.nan, np.nan, 10, 7, 8, 3, np.nan, 9]).reshape(3, 4)\n",
    "# Write your code here\n",
    "arr_7[np.isnan(arr_7)] = np.mean(arr_7[~np.isnan(arr_7)])\n",
    "arr_7 = arr_7.astype(int)\n",
    "print(arr_7)"
   ]
  },
  {
   "cell_type": "code",
   "execution_count": null,
   "metadata": {
    "nbgrader": {
     "grade": true,
     "grade_id": "cell-2446572be555a6f9",
     "locked": true,
     "points": 5,
     "schema_version": 3,
     "solution": false,
     "task": false
    }
   },
   "outputs": [],
   "source": [
    "#Please leave this cell blank."
   ]
  },
  {
   "cell_type": "markdown",
   "metadata": {
    "nbgrader": {
     "grade": false,
     "grade_id": "cell-c86ce384a7c7f9ef",
     "locked": true,
     "schema_version": 3,
     "solution": false,
     "task": false
    }
   },
   "source": [
    "<div class=\"alert alert-warning\">\n",
    "<b>QUESTION 8:</b>\n",
    "<p>A list has been defined. </p>\n",
    "    \n",
    "```python\n",
    "list_8 = ['Birmingham', 'Shenzhen', 'San Francisco', 'Da Nang', 'Accra', 'Jerusalem', 'Tema', 'Urumqi']    \n",
    "```\n",
    "    \n",
    "<p>Write code to sort the list in descending order by the length of the strings. Print <code>list_8</code>, the expected output is shown below.</p>\n",
    "    \n",
    "```\n",
    "['San Francisco', 'Birmingham', 'Jerusalem', 'Shenzhen', 'Da Nang', 'Urumqi', 'Accra', 'Tema']\n",
    "```\n",
    "</div>"
   ]
  },
  {
   "cell_type": "code",
   "execution_count": null,
   "metadata": {
    "nbgrader": {
     "grade": false,
     "grade_id": "cell-2d98d13d98bddb16",
     "locked": false,
     "schema_version": 3,
     "solution": true,
     "task": false
    }
   },
   "outputs": [],
   "source": [
    "###ANSWER(8)\n",
    "list_8 = ['Birmingham', 'Shenzhen', 'San Francisco', 'Da Nang', 'Accra', 'Jerusalem', 'Tema', 'Urumqi']\n",
    "# Write your code here\n",
    "list_8.sort(reverse=True, key=lambda x:len(x))\n",
    "print(list_8)"
   ]
  },
  {
   "cell_type": "code",
   "execution_count": null,
   "metadata": {
    "nbgrader": {
     "grade": true,
     "grade_id": "cell-1a4b8f21390f6b35",
     "locked": true,
     "points": 5,
     "schema_version": 3,
     "solution": false,
     "task": false
    }
   },
   "outputs": [],
   "source": [
    "#Please leave this cell blank."
   ]
  },
  {
   "cell_type": "markdown",
   "metadata": {
    "nbgrader": {
     "grade": false,
     "grade_id": "cell-584d5d4f4f281a6c",
     "locked": true,
     "schema_version": 3,
     "solution": false,
     "task": false
    }
   },
   "source": [
    "<div class=\"alert alert-warning\">\n",
    "<b>QUESTION 9:</b>\n",
    "\n",
    "<p>A list has been defined. </p>\n",
    "\n",
    "```python\n",
    "list_9 = ['Finley', 'Minnie', 'Shadow', 'Crystal', 'Coral']    \n",
    "```\n",
    "    \n",
    "<p>Use <code><b>join</b></code> method to join the list of strings into a string, and assign the result to <code>str_9</code>. Print <code>str_9</code>, the expected output is shown below.</p>\n",
    "    \n",
    "```\n",
    "Finley, Minnie, Shadow, Crystal, Coral\n",
    "```\n",
    "</div>"
   ]
  },
  {
   "cell_type": "code",
   "execution_count": null,
   "metadata": {
    "nbgrader": {
     "grade": false,
     "grade_id": "cell-93511a3a7257687f",
     "locked": false,
     "schema_version": 3,
     "solution": true,
     "task": false
    }
   },
   "outputs": [],
   "source": [
    "###ANSWER(9)\n",
    "list_9 = ['Finley', 'Minnie', 'Shadow', 'Crystal', 'Coral']\n",
    "str_9 = ', '.join(list_9) # Write your code here\n",
    "print(str_9)"
   ]
  },
  {
   "cell_type": "code",
   "execution_count": null,
   "metadata": {
    "nbgrader": {
     "grade": true,
     "grade_id": "cell-dcfb8d78dc8d8148",
     "locked": true,
     "points": 5,
     "schema_version": 3,
     "solution": false,
     "task": false
    }
   },
   "outputs": [],
   "source": [
    "#Please leave this cell blank."
   ]
  },
  {
   "cell_type": "markdown",
   "metadata": {
    "nbgrader": {
     "grade": false,
     "grade_id": "cell-7fe32685d4e9a927",
     "locked": true,
     "schema_version": 3,
     "solution": false,
     "task": false
    }
   },
   "source": [
    "<div class=\"alert alert-warning\">\n",
    "<b>QUESTION 10:</b>\n",
    "<p>A dictionary has been defined. </p>\n",
    " \n",
    "```python\n",
    "dict_10 = {'Liam':20, 'Olivia':20, 'Emma':20, 'Charlotte':20, 'Elijah':20, 'William':20, 'Benjamin':20, \n",
    "           'Alexander':20, 'Anthony':20, 'Abigail':20, 'Beatrice':20, 'Ben':20, 'James':20, 'Sophia':20, \n",
    "           'Anna':20, 'Bella':20, 'Lucas':20, 'Connor':20}    \n",
    "```\n",
    "    \n",
    "<p>For items in the dictionary, if the key starts with <code>A</code>, <code>B</code> or <code>C</code>, increase the corresponding value by <code>1</code> and assign the result to <code>dict_10</code>. Print <code>dict_10</code>, the expected output is shown below. </p>\n",
    "    \n",
    "```    \n",
    "{'Liam': 20, 'Olivia': 20, 'Emma': 20, 'Charlotte': 21, 'Elijah': 20, 'William': 20, 'Benjamin': 21, 'Alexander': 21, 'Anthony': 21, 'Abigail': 21, 'Beatrice': 21, 'Ben': 21, 'James': 20, 'Sophia': 20, 'Anna': 21, 'Bella': 21, 'Lucas': 20, 'Connor': 21}\n",
    "```\n",
    "</div>"
   ]
  },
  {
   "cell_type": "code",
   "execution_count": null,
   "metadata": {
    "nbgrader": {
     "grade": false,
     "grade_id": "cell-6737851281512b11",
     "locked": false,
     "schema_version": 3,
     "solution": true,
     "task": false
    }
   },
   "outputs": [],
   "source": [
    "###ANSWER(10)\n",
    "dict_10 = {'Liam':20, 'Olivia':20, 'Emma':20, 'Charlotte':20, 'Elijah':20, 'William':20, 'Benjamin':20, \n",
    "           'Alexander':20, 'Anthony':20, 'Abigail':20, 'Beatrice':20, 'Ben':20, 'James':20, 'Sophia':20, \n",
    "           'Anna':20, 'Bella':20, 'Lucas':20, 'Connor':20}\n",
    "# Write your code here\n",
    "dict_10 = {k:v+1 if k[0] in ['A', 'B', 'C'] else v for k,v in dict_10.items()}\n",
    "print(dict_10)"
   ]
  },
  {
   "cell_type": "code",
   "execution_count": null,
   "metadata": {
    "nbgrader": {
     "grade": true,
     "grade_id": "cell-05aa1c95fdc4ea6e",
     "locked": true,
     "points": 5,
     "schema_version": 3,
     "solution": false,
     "task": false
    }
   },
   "outputs": [],
   "source": [
    "#Please leave this cell blank."
   ]
  },
  {
   "cell_type": "markdown",
   "metadata": {
    "nbgrader": {
     "grade": false,
     "grade_id": "cell-04782bb7631e6163",
     "locked": true,
     "schema_version": 3,
     "solution": false,
     "task": false
    }
   },
   "source": [
    "<div class=\"alert alert-warning\">\n",
    "<b>QUESTION 11:</b>\n",
    "\n",
    "<p>A list has been defined. </p>\n",
    "    \n",
    "```python\n",
    "list_11 = ['Liam', 'Olivia', 'Emma', 'Charlotte', 'Elijah', 'William', 'Benjamin', 'Alexander', \n",
    "           'Anthony', 'Abigail', 'Beatrice', 'Ben', 'James', 'Sophia', 'Anna', 'Bella', 'Lucas', 'Connor']    \n",
    "```\n",
    "    \n",
    "<p>Use <code><b>filter</b></code> function to remove the elements with length larger than <code>5</code> and assign the result to <code>list_11</code>. Print <code>list_11</code>, the expected output is <code>['Liam', 'Emma', 'Ben', 'James', 'Anna', 'Bella', 'Lucas']</code>.</p>\n",
    "</div>"
   ]
  },
  {
   "cell_type": "code",
   "execution_count": null,
   "metadata": {
    "nbgrader": {
     "grade": false,
     "grade_id": "cell-614afec37db81c81",
     "locked": false,
     "schema_version": 3,
     "solution": true,
     "task": false
    }
   },
   "outputs": [],
   "source": [
    "###ANSWER(11)\n",
    "list_11 = ['Liam', 'Olivia', 'Emma', 'Charlotte', 'Elijah', 'William', 'Benjamin', 'Alexander', \n",
    "           'Anthony', 'Abigail', 'Beatrice', 'Ben', 'James', 'Sophia', 'Anna', 'Bella', 'Lucas', 'Connor']\n",
    "list_11 = list(filter(lambda x:len(x)<=5, list_11)) # Write your code here\n",
    "print(list_11)"
   ]
  },
  {
   "cell_type": "code",
   "execution_count": null,
   "metadata": {
    "nbgrader": {
     "grade": true,
     "grade_id": "cell-41cbfcaef3e415df",
     "locked": true,
     "points": 5,
     "schema_version": 3,
     "solution": false,
     "task": false
    }
   },
   "outputs": [],
   "source": [
    "#Please leave this cell blank."
   ]
  },
  {
   "cell_type": "markdown",
   "metadata": {
    "nbgrader": {
     "grade": false,
     "grade_id": "cell-7f0758f3842e4f09",
     "locked": true,
     "schema_version": 3,
     "solution": false,
     "task": false
    }
   },
   "source": [
    "<div class=\"alert alert-warning\">\n",
    "<b>QUESTION 12:</b>\n",
    "<p>An array has been defined.</p>\n",
    "    \n",
    "```python\n",
    "arr_12  = np.array([[12,  6,  9,  4],\n",
    "                    [13,  7,  5,  8],\n",
    "                    [28, 14,  1,  3],\n",
    "                    [ 9, 10, 11, 11],\n",
    "                    [ 6,  8,  2, 25]])    \n",
    "```\n",
    "\n",
    "<p>Write code to sort the values in each column in descending order and assign the result to <code>arr_12</code>. Print <code>arr_12</code>, the expected output is shown below.</p>\n",
    "    \n",
    "```\n",
    "[[28 14 11 25]\n",
    " [13 10  9 11]\n",
    " [12  8  5  8]\n",
    " [ 9  7  2  4]\n",
    " [ 6  6  1  3]]\n",
    "```\n",
    "</div>"
   ]
  },
  {
   "cell_type": "code",
   "execution_count": null,
   "metadata": {
    "nbgrader": {
     "grade": false,
     "grade_id": "cell-2c685953502a19a0",
     "locked": false,
     "schema_version": 3,
     "solution": true,
     "task": false
    }
   },
   "outputs": [],
   "source": [
    "###ANSWER(12)\n",
    "arr_12  = np.array([[12,  6,  9,  4],\n",
    "                    [13,  7,  5,  8],\n",
    "                    [28, 14,  1,  3],\n",
    "                    [ 9, 10, 11, 11],\n",
    "                    [ 6,  8,  2, 25]])\n",
    "# Write your code here\n",
    "arr_12.sort(axis=0)\n",
    "arr_12 = arr_12[::-1]\n",
    "print(arr_12)"
   ]
  },
  {
   "cell_type": "code",
   "execution_count": null,
   "metadata": {
    "nbgrader": {
     "grade": true,
     "grade_id": "cell-06fbaeb0ca64bc97",
     "locked": true,
     "points": 5,
     "schema_version": 3,
     "solution": false,
     "task": false
    }
   },
   "outputs": [],
   "source": [
    "#Please leave this cell blank."
   ]
  },
  {
   "cell_type": "markdown",
   "metadata": {
    "nbgrader": {
     "grade": false,
     "grade_id": "cell-4313aedb3f50e851",
     "locked": true,
     "schema_version": 3,
     "solution": false,
     "task": false
    }
   },
   "source": [
    "<div class=\"alert alert-warning\">\n",
    "<b>QUESTION 13:</b>\n",
    "<p>Two lists have been defined. </p>\n",
    "    \n",
    "```python\n",
    "list_1 = [1, 3, 5, 7, 9, 7, 3, 6, 7, 8]\n",
    "list_2 = [1, 3, 7, 10, 21, 11, 3, 7, 14]    \n",
    "```\n",
    "    \n",
    "<p>Find the common items from <code>list_1</code> and <code>list_2</code> and assign the result to <code>list_3</code>. Print <code>list_3</code>, the expected output would is <code>[1, 3, 7]</code>.</p>\n",
    "</div>"
   ]
  },
  {
   "cell_type": "code",
   "execution_count": null,
   "metadata": {
    "nbgrader": {
     "grade": false,
     "grade_id": "cell-b497b0258e9d748d",
     "locked": false,
     "schema_version": 3,
     "solution": true,
     "task": false
    }
   },
   "outputs": [],
   "source": [
    "###ANSWER(13)\n",
    "list_1 = [1, 3, 5, 7, 9, 7, 3, 6, 7, 8]\n",
    "list_2 = [1, 3, 7, 10, 21, 11, 3, 7, 14]\n",
    "# Write your code here\n",
    "list_3 = list(set(list_1)&set(list_2))\n",
    "print(list_3)"
   ]
  },
  {
   "cell_type": "code",
   "execution_count": null,
   "metadata": {
    "nbgrader": {
     "grade": true,
     "grade_id": "cell-cdb36a43593e2cc9",
     "locked": true,
     "points": 5,
     "schema_version": 3,
     "solution": false,
     "task": false
    }
   },
   "outputs": [],
   "source": [
    "#Please leave this cell blank."
   ]
  },
  {
   "cell_type": "markdown",
   "metadata": {
    "nbgrader": {
     "grade": false,
     "grade_id": "cell-516a918431bc9bfa",
     "locked": true,
     "schema_version": 3,
     "solution": false,
     "task": false
    }
   },
   "source": [
    "<div class=\"alert alert-warning\">\n",
    "<b>QUESTION 14:</b>\n",
    "<p>Define a function called <code><b>remove_digits</b></code> which takes a string as the input argument. The function would remove all the numerical digits from the string and <b>return</b> the result. If the user attempts to call the function with the argument not being a string, the function should raise an <code>AssertionError</code> with the message <code>Invalid input</code>.</p>\n",
    "<br>\n",
    "<p>Execute <code><b>remove_digits('4a3ac')</b></code>, the expected output is <code>'aac'</code>.</p>\n",
    "<p>Execute <code><b>remove_digits('ano45th3e32r')</b></code>, the expected output is <code>'another'</code>.</p>\n",
    "<p>Execute <code><b>remove_digits(20)</b></code>, an <code>AssertionError</code> is raised with the message <code>Invalid input</code>.</p>\n",
    "</div>"
   ]
  },
  {
   "cell_type": "code",
   "execution_count": null,
   "metadata": {
    "nbgrader": {
     "grade": false,
     "grade_id": "cell-49cbdaed1cfef5e0",
     "locked": false,
     "schema_version": 3,
     "solution": true,
     "task": false
    }
   },
   "outputs": [],
   "source": [
    "###ANSWER(14)\n",
    "# Write your code here\n",
    "def remove_digits(string):\n",
    "    assert type(string)==str, 'Invalid input'\n",
    "    return ''.join([i for i in string if not i.isdigit()])"
   ]
  },
  {
   "cell_type": "code",
   "execution_count": null,
   "metadata": {
    "nbgrader": {
     "grade": true,
     "grade_id": "cell-79903ea777df7989",
     "locked": true,
     "points": 5,
     "schema_version": 3,
     "solution": false,
     "task": false
    }
   },
   "outputs": [],
   "source": [
    "#Please leave this cell blank."
   ]
  },
  {
   "cell_type": "markdown",
   "metadata": {
    "nbgrader": {
     "grade": false,
     "grade_id": "cell-1ed39cea2a219613",
     "locked": true,
     "schema_version": 3,
     "solution": false,
     "task": false
    }
   },
   "source": [
    "<div class=\"alert alert-warning\">\n",
    "<b>QUESTION 15:</b>\n",
    "<p>Define a function called <code><b>flatten_list</b></code> which takes a list as the input argument. The function would flatten the list until there is no sublist in it and <b>return</b> the list. </p>\n",
    "<br>\n",
    "<p>Execute <code><b>flatten_list([1,2,3,4,5,6,7,8,9,10])</b></code>, the expected output is <code>[1,2,3,4,5,6,7,8,9,10]</code>.</p>\n",
    "<p>Execute <code><b>flatten_list([1,[2],3,4,5,[6,7,8],9,10])</b></code>, the expected output is <code>[1,2,3,4,5,6,7,8,9,10]</code>.</p>\n",
    "<p>Execute <code><b>flatten_list([1,[2,3],4,[[5,[[6],7]],[8,9],10]])</b></code>, the expected output is <code>[1,2,3,4,5,6,7,8,9,10]</code>.</p>\n",
    "<br>\n",
    "<p>*Note: the function should be able to work with any levels of nested list.</p>\n",
    "</div>"
   ]
  },
  {
   "cell_type": "code",
   "execution_count": null,
   "metadata": {
    "nbgrader": {
     "grade": false,
     "grade_id": "cell-51a63ddced7d1ce3",
     "locked": false,
     "schema_version": 3,
     "solution": true,
     "task": false
    }
   },
   "outputs": [],
   "source": [
    "###ANSWER(15)\n",
    "# Write your code here\n",
    "def flatten_list(a_list):\n",
    "    if a_list ==[]:\n",
    "        return a_list\n",
    "    if isinstance(a_list[0], list):\n",
    "        return flatten_list(a_list[0]) + flatten_list(a_list[1:])\n",
    "    return a_list[:1]+flatten_list(a_list[1:])"
   ]
  },
  {
   "cell_type": "code",
   "execution_count": null,
   "metadata": {
    "nbgrader": {
     "grade": true,
     "grade_id": "cell-66288833ac7c1328",
     "locked": true,
     "points": 5,
     "schema_version": 3,
     "solution": false,
     "task": false
    }
   },
   "outputs": [],
   "source": [
    "#Please leave this cell blank."
   ]
  },
  {
   "cell_type": "markdown",
   "metadata": {
    "nbgrader": {
     "grade": false,
     "grade_id": "cell-d43cac086661fbb2",
     "locked": true,
     "schema_version": 3,
     "solution": false,
     "task": false
    }
   },
   "source": [
    "<div class=\"alert alert-warning\">\n",
    "<b>QUESTION 16:</b>\n",
    "<p>A DataFrame <code>df</code> has been defined by reading a CSV file. </p>\n",
    "\n",
    "```python\n",
    "df = pd.read_csv('./Quiz8_files/iris.csv')  \n",
    "```\n",
    "   \n",
    "<p>For each column name, replace the space between the two words with an underscore. Display the first 5 rows of <code>df</code>, the expected output is shown below.</p>\n",
    "<img src=\"./Quiz8_files_2/Q16.png\" width=\"40%\">\n",
    "    \n",
    "</div>"
   ]
  },
  {
   "cell_type": "code",
   "execution_count": null,
   "metadata": {
    "nbgrader": {
     "grade": false,
     "grade_id": "cell-2124c070d97bd8fa",
     "locked": false,
     "schema_version": 3,
     "solution": true,
     "task": false
    }
   },
   "outputs": [],
   "source": [
    "###ANSWER(16)\n",
    "df = pd.read_csv('./Quiz8_files_2/iris.csv')\n",
    "# Write your code here\n",
    "df.columns = [i.replace(' ','_') for i in df.columns]\n",
    "display(df.head())"
   ]
  },
  {
   "cell_type": "code",
   "execution_count": null,
   "metadata": {
    "nbgrader": {
     "grade": true,
     "grade_id": "cell-892a9f8a26c4b55c",
     "locked": true,
     "points": 5,
     "schema_version": 3,
     "solution": false,
     "task": false
    }
   },
   "outputs": [],
   "source": [
    "#Please leave this cell blank."
   ]
  },
  {
   "cell_type": "markdown",
   "metadata": {
    "nbgrader": {
     "grade": false,
     "grade_id": "cell-cca49e66e4a9cc44",
     "locked": true,
     "schema_version": 3,
     "solution": false,
     "task": false
    }
   },
   "source": [
    "<div class=\"alert alert-warning\">\n",
    "<b>QUESTION 17:</b>\n",
    "<p>The DataFrame <code>df</code> has been defined in the previous question. </p>\n",
    "<p>Create a new column called <code>Target</code> in which the first 50 rows are <code>setosa</code>, the second 50 rows are <code>versicolor</code> and the last 50 rows are <code>virginica</code>. Display the first 5 rows of <code>df</code>, the expected output is shown below.</p>\n",
    "<img src=\"./Quiz8_files_2/Q17.png\" width=\"40%\">\n",
    "    \n",
    "</div>"
   ]
  },
  {
   "cell_type": "code",
   "execution_count": null,
   "metadata": {
    "nbgrader": {
     "grade": false,
     "grade_id": "cell-2e1fbbb21efb2098",
     "locked": false,
     "schema_version": 3,
     "solution": true,
     "task": false
    }
   },
   "outputs": [],
   "source": [
    "###ANSWER(17)\n",
    "# Write your code here\n",
    "df['Target'] = ['setosa']*50 + ['versicolor']*50 + ['virginica']*50\n",
    "display(df.head())"
   ]
  },
  {
   "cell_type": "code",
   "execution_count": null,
   "metadata": {
    "nbgrader": {
     "grade": true,
     "grade_id": "cell-56d70338ccce481d",
     "locked": true,
     "points": 5,
     "schema_version": 3,
     "solution": false,
     "task": false
    }
   },
   "outputs": [],
   "source": [
    "#Please leave this cell blank."
   ]
  },
  {
   "cell_type": "markdown",
   "metadata": {
    "nbgrader": {
     "grade": false,
     "grade_id": "cell-c5ec11f74560cca9",
     "locked": true,
     "schema_version": 3,
     "solution": false,
     "task": false
    }
   },
   "source": [
    "<div class=\"alert alert-warning\">\n",
    "<b>QUESTION 18:</b>\n",
    "<p>The DataFrame <code>df</code> has been defined in the previous question. </p>\n",
    "<p>Fill the missing data in column <code>Sepal_Length</code> with the mean value (round to the <b>first</b> decimal place) of the corresponding <code>Target</code> class. Display the first 5 rows of <code>df</code>, the expected output is shown below.</p>\n",
    "<img src=\"./Quiz8_files_2/Q18.png\" width=\"40%\">\n",
    "\n",
    "</div>"
   ]
  },
  {
   "cell_type": "code",
   "execution_count": null,
   "metadata": {
    "nbgrader": {
     "grade": false,
     "grade_id": "cell-4e91516e89777d0d",
     "locked": false,
     "schema_version": 3,
     "solution": true,
     "task": false
    }
   },
   "outputs": [],
   "source": [
    "###ANSWER(18)\n",
    "# Write your code here\n",
    "for i in df.Target.unique():\n",
    "    df.loc[(df.Target==i)&(df.Sepal_Length.isnull()), 'Sepal_Length'] = round(\n",
    "        df[df.Target==i].Sepal_Length.mean(), 1)\n",
    "display(df.head())"
   ]
  },
  {
   "cell_type": "code",
   "execution_count": null,
   "metadata": {
    "nbgrader": {
     "grade": true,
     "grade_id": "cell-66c14f7d2c0805f6",
     "locked": true,
     "points": 5,
     "schema_version": 3,
     "solution": false,
     "task": false
    }
   },
   "outputs": [],
   "source": [
    "#Please leave this cell blank."
   ]
  },
  {
   "cell_type": "markdown",
   "metadata": {
    "nbgrader": {
     "grade": false,
     "grade_id": "cell-70a52ea9f7c41b03",
     "locked": true,
     "schema_version": 3,
     "solution": false,
     "task": false
    }
   },
   "source": [
    "<div class=\"alert alert-warning\">\n",
    "<b>QUESTION 19:</b>\n",
    "<p>The DataFrame <code>df</code> has been defined in the previous question. </p>\n",
    "<p>Separate the data in column <code>Petal_Length</code> into 3 bins: 0 to 3 (including 3), 3 to 5 (including 5) and 5 to 10 (including 10). The corresponding bin names are <code>S</code>, <code>M</code> and <code>L</code>. Replace the column with the bin names. Display the first 5 rows of <code>df</code>, the expected output is shown below.</p>\n",
    "<img src=\"./Quiz8_files_2/Q19.png\" width=\"40%\">\n",
    "\n",
    "</div>"
   ]
  },
  {
   "cell_type": "code",
   "execution_count": null,
   "metadata": {
    "nbgrader": {
     "grade": false,
     "grade_id": "cell-a08a34286ee80365",
     "locked": false,
     "schema_version": 3,
     "solution": true,
     "task": false
    }
   },
   "outputs": [],
   "source": [
    "###ANSWER(19)\n",
    "# Write your code here\n",
    "df.Petal_Length = pd.cut(df.Petal_Length, [0, 3, 5,10],labels=['S','M','L'])\n",
    "display(df.head())"
   ]
  },
  {
   "cell_type": "code",
   "execution_count": null,
   "metadata": {
    "nbgrader": {
     "grade": true,
     "grade_id": "cell-04c6996e395fa019",
     "locked": true,
     "points": 5,
     "schema_version": 3,
     "solution": false,
     "task": false
    }
   },
   "outputs": [],
   "source": [
    "#Please leave this cell blank."
   ]
  },
  {
   "cell_type": "markdown",
   "metadata": {
    "nbgrader": {
     "grade": false,
     "grade_id": "cell-70f4341516375d50",
     "locked": true,
     "schema_version": 3,
     "solution": false,
     "task": false
    }
   },
   "source": [
    "<div class=\"alert alert-warning\">\n",
    "<b>QUESTION 20:</b>\n",
    "<p>The DataFrame <code>df</code> has been defined in the previous question. </p>\n",
    "<p>Capitalize the <b>first 3</b> letters of the word from column <code>Target</code>. Display the first 5 rows of <code>df</code>, the expected output is shown below.</p>\n",
    "<img src=\"./Quiz8_files_2/Q20.png\" width=\"40%\">\n",
    "</div>"
   ]
  },
  {
   "cell_type": "code",
   "execution_count": null,
   "metadata": {
    "nbgrader": {
     "grade": false,
     "grade_id": "cell-bb1399dc535a82fd",
     "locked": false,
     "schema_version": 3,
     "solution": true,
     "task": false
    }
   },
   "outputs": [],
   "source": [
    "###ANSWER(20)\n",
    "# Write your code here\n",
    "df.Target = df.Target.apply(lambda x:x[:3].upper()+x[3:])\n",
    "display(df.head())"
   ]
  },
  {
   "cell_type": "code",
   "execution_count": null,
   "metadata": {
    "nbgrader": {
     "grade": true,
     "grade_id": "cell-339f130acff80bd6",
     "locked": true,
     "points": 5,
     "schema_version": 3,
     "solution": false,
     "task": false
    }
   },
   "outputs": [],
   "source": [
    "#Please leave this cell blank."
   ]
  }
 ],
 "metadata": {
  "kernelspec": {
   "display_name": "Python 3 (ipykernel)",
   "language": "python",
   "name": "python3"
  },
  "language_info": {
   "codemirror_mode": {
    "name": "ipython",
    "version": 3
   },
   "file_extension": ".py",
   "mimetype": "text/x-python",
   "name": "python",
   "nbconvert_exporter": "python",
   "pygments_lexer": "ipython3",
   "version": "3.9.13"
  }
 },
 "nbformat": 4,
 "nbformat_minor": 4
}
