{
 "cells": [
  {
   "cell_type": "markdown",
   "metadata": {
    "deletable": false,
    "editable": false
   },
   "source": [
    "<div class=\"image\">\n",
    "\n",
    "  <img style=\"float: right;\" src=\"https://dx5i3n065oxey.cloudfront.net/platform/4186/assets/logo.png?v=2e76f927-9482-4bfb-9092-d9a0b595cd2c\" width=\"45%\" align=\"right\">\n",
    "      <h4>\n",
    "          <p style=\"font-size:20pt\">Programming for Business Analytics</p>\n",
    "          <p style=\"font-size:15pt\">Q3 Practice 3</p>\n",
    "      </h4>\n",
    "</div>\n",
    "\n",
    "- Make sure you have executed the code in the cell below.\n",
    "- Make sure you read the questions carefully and follow the instructions.\n",
    "- Make sure you put the answers in the Answer cells.\n",
    "- Please do not put your answers in comments (after #).\n",
    "- Please do not add any new cells between the Question and Answer cells.\n",
    "- Please do not change the names of the variables in Answer cells.\n",
    "- Please do not assign the expected result directly to the variable."
   ]
  },
  {
   "cell_type": "code",
   "execution_count": null,
   "metadata": {
    "deletable": false
   },
   "outputs": [],
   "source": [
    "#Please make sure your Jupyter Notebook environment is running a Python 3 kernel \n",
    "import IPython\n",
    "assert IPython.version_info[0] >= 3, \"Your version of IPython is too old, please update it.\"\n",
    "%autosave 120"
   ]
  },
  {
   "cell_type": "markdown",
   "metadata": {
    "deletable": false,
    "editable": false
   },
   "source": [
    "<div class=\"alert alert-warning\">\n",
    "<b>QUESTION 1:</b>    \n",
    "<p>Which one of the following is <b>NOT</b> a built-in exception in Python?</p>\n",
    "<p> a) ReferenceError</p>\n",
    "<p> b) RecursionError</p>\n",
    "<p> c) SyntaxError</p>\n",
    "<p> d) DataTypeError</p>   \n",
    "</div>"
   ]
  },
  {
   "cell_type": "code",
   "execution_count": null,
   "metadata": {
    "deletable": false
   },
   "outputs": [],
   "source": [
    "###ANSWER(1). Please assign the letter representing the correct answer to the variable \n",
    "### (write it down between the \"\")\n",
    "\n",
    "answer_1 = \"\" # YOUR CODE SHOULD BE BETWEEN \"\""
   ]
  },
  {
   "cell_type": "code",
   "execution_count": null,
   "metadata": {
    "deletable": false,
    "editable": false
   },
   "outputs": [],
   "source": [
    "#Please leave this cell blank."
   ]
  },
  {
   "cell_type": "markdown",
   "metadata": {
    "deletable": false,
    "editable": false
   },
   "source": [
    "<div class=\"alert alert-warning\"> \n",
    "<b>QUESTION 2:</b> \n",
    "<p>Create a function called <code><b>is_overlap</b></code> which takes two lists as the arguments. Each input list contains two elements representing the start hour and end hour for an event. The function returns <code>True</code> if there is overlap between the two events and returns <code>False</code> otherwise.</p>\n",
    "<br>\n",
    "<p>Execute <code><b>is_overlap([9,11], [11,14])</b></code>, the expected output is <code>False</code>.</p>\n",
    "<p>Execute <code><b>is_overlap([10,12],[9,14])</b></code>, the expected output is <code>True</code>.</p>\n",
    "</div>"
   ]
  },
  {
   "cell_type": "code",
   "execution_count": null,
   "metadata": {
    "deletable": false
   },
   "outputs": [],
   "source": [
    "###ANSWER(2). \n",
    "# Please write your code here.\n",
    "def is_overlap\n"
   ]
  },
  {
   "cell_type": "code",
   "execution_count": null,
   "metadata": {
    "deletable": false,
    "editable": false
   },
   "outputs": [],
   "source": [
    "#Please leave this cell blank."
   ]
  },
  {
   "cell_type": "markdown",
   "metadata": {
    "deletable": false,
    "editable": false
   },
   "source": [
    "<div class=\"alert alert-warning\"> \n",
    "<b>QUESTION 3:</b> \n",
    "<p>Create a txt file (<code>note.txt</code>) in the current directory and write <code>I am writing a note.</code> to the file. Then close and re-open it and append the text <code>Note1: remember to finish the quiz.</code> to a new line.</p>\n",
    "</div>"
   ]
  },
  {
   "cell_type": "code",
   "execution_count": 3,
   "metadata": {
    "deletable": false
   },
   "outputs": [
    {
     "name": "stdout",
     "output_type": "stream",
     "text": [
      "I am writing a note.extra text\n"
     ]
    }
   ],
   "source": [
    "###ANSWER(3). \n",
    "# Please write your code here.\n",
    "with open('file.txt','w') as file:\n",
    "    file.write('I am writing a note.')\n",
    "    file.close()\n",
    "with open('file.txt','a') as file:\n",
    "    file.write(\"extra text\")\n",
    "    file.close()\n",
    "\n",
    "with open('file.txt','r') as file:\n",
    "    for i in file:\n",
    "        print(i)\n",
    "    "
   ]
  },
  {
   "cell_type": "code",
   "execution_count": 5,
   "metadata": {
    "deletable": false,
    "editable": false
   },
   "outputs": [],
   "source": [
    "#Please leave this cell blank."
   ]
  },
  {
   "cell_type": "markdown",
   "metadata": {
    "deletable": false,
    "editable": false
   },
   "source": [
    "<div class=\"alert alert-warning\"> \n",
    "<b>QUESTION 4:</b> \n",
    "<p>Create a function called <code><b>power</b></code> that takes two arguments. It raises the first argument to the power of the second argument. Round the result to the nearest 2 decimal places and return it.</p>\n",
    "<br>\n",
    "<p>Execute <code><b>power(4, 2)</b></code>, the expected output is <code>16</code>.</p>\n",
    "<p>Execute <code><b>power(6.66, 2)</b></code>, the expected output is <code>44.36</code>.</p>\n",
    "</div>"
   ]
  },
  {
   "cell_type": "code",
   "execution_count": 5,
   "metadata": {
    "deletable": false
   },
   "outputs": [
    {
     "data": {
      "text/plain": [
       "16"
      ]
     },
     "execution_count": 5,
     "metadata": {},
     "output_type": "execute_result"
    }
   ],
   "source": [
    "###ANSWER(4). \n",
    "# Please write your code here.\n",
    "def power(x,y):\n",
    "    return x**y\n",
    "power(4, 2)"
   ]
  },
  {
   "cell_type": "code",
   "execution_count": 18,
   "metadata": {
    "deletable": false,
    "editable": false
   },
   "outputs": [],
   "source": [
    "#Please leave this cell blank."
   ]
  },
  {
   "cell_type": "markdown",
   "metadata": {
    "deletable": false,
    "editable": false
   },
   "source": [
    "<div class=\"alert alert-warning\"> \n",
    "<b>QUESTION 5:</b> \n",
    "<p>Create a function called <code><b>sum_int_to(n)</b></code> which takes one argument. If the input argument is a positive integer, the function returns the sum from 0 to the integer (inclusive). If the input argument is a positive float number, the function returns the sum from 0 to the largest integer that is smaller than the given float. if the input argument is a negative number or any other data type, the function returns <code>Not a positive number!</code> </p>\n",
    "<br>\n",
    "<p>Execute <code><b>sum_int_to(2)</b></code>, the expected output is <code>3</code>.</p>\n",
    "<p>Execute <code><b>sum_int_to(3.1)</b></code>, the expected output is <code>6</code>.</p>\n",
    "<p>Execute <code><b>sum_int_to(\"sunny\")</b></code>, the expected output is <code>Not a positive number!</code>.</p>\n",
    "</div>"
   ]
  },
  {
   "cell_type": "code",
   "execution_count": 14,
   "metadata": {
    "deletable": false
   },
   "outputs": [
    {
     "data": {
      "text/plain": [
       "6"
      ]
     },
     "execution_count": 14,
     "metadata": {},
     "output_type": "execute_result"
    }
   ],
   "source": [
    "###ANSWER(5). \n",
    "# Please write your code here.\n",
    "def sum_int_to(x):\n",
    "    assert x > 0, \"not an positive integer\"\n",
    "    c = 0\n",
    "    for i in range(int(x+1)):\n",
    "        c += i\n",
    "    return c\n",
    "sum_int_to(3)"
   ]
  },
  {
   "cell_type": "code",
   "execution_count": null,
   "metadata": {
    "deletable": false,
    "editable": false
   },
   "outputs": [],
   "source": [
    "#Please leave this cell blank."
   ]
  },
  {
   "cell_type": "markdown",
   "metadata": {
    "deletable": false,
    "editable": false
   },
   "source": [
    "<div class=\"alert alert-warning\"> \n",
    "<b>QUESTION 6:</b> \n",
    "<p>Create a function called <code><b>validParentheses</b></code> which takes a string that only consists of arbitrary numbers of <code>(</code> and <code>)</code> as the argument. The function returns <code>True</code> if the parentheses in the string are valid and returns <code>False</code> otherwise.</p>\n",
    "<br>\n",
    "<p>Execute <code><b>validParentheses(\"()\")</b></code>, the expected output is <code>True</code>. </p>\n",
    "<p>Execute <code><b>validParentheses(\"(())\")</b></code>, the expected output is <code>True</code>. </p>\n",
    "<p>Execute <code><b>validParentheses(\"(()\")</b></code>, the expected output is <code>False</code>. </p>\n",
    "<p>Execute <code><b>validParentheses(\")(\")</b></code>, the expected output is <code>False</code>. </p>\n",
    "</div>"
   ]
  },
  {
   "cell_type": "code",
   "execution_count": 45,
   "metadata": {
    "deletable": false
   },
   "outputs": [
    {
     "data": {
      "text/plain": [
       "False"
      ]
     },
     "execution_count": 45,
     "metadata": {},
     "output_type": "execute_result"
    }
   ],
   "source": [
    "###ANSWER(6). \n",
    "# Please write your code here.\n",
    "def validParentheses(x):\n",
    "    if len(x) % 2 == 0:\n",
    "        if all([i == '(' for i in x[:int((len(x)/2))]]) and all([i == ')' for i in x[int((len(x)/2)):]]):\n",
    "            return True\n",
    "        else:\n",
    "            return False\n",
    "    else:\n",
    "        return False\n",
    "\n",
    "validParentheses(')())')"
   ]
  },
  {
   "cell_type": "code",
   "execution_count": 31,
   "metadata": {},
   "outputs": [
    {
     "data": {
      "text/plain": [
       "False"
      ]
     },
     "execution_count": 31,
     "metadata": {},
     "output_type": "execute_result"
    }
   ],
   "source": [
    "all([i == '(' for i in x[:int((len(x)/2)-1)]])"
   ]
  },
  {
   "cell_type": "code",
   "execution_count": 24,
   "metadata": {},
   "outputs": [
    {
     "data": {
      "text/plain": [
       "[1, 2]"
      ]
     },
     "execution_count": 24,
     "metadata": {},
     "output_type": "execute_result"
    }
   ],
   "source": [
    "x = [1,2,3,4,5,2]\n",
    "x[:int((len(x)/2)-1)]\n",
    "#(len(x)/2)-1"
   ]
  },
  {
   "cell_type": "code",
   "execution_count": 100,
   "metadata": {
    "deletable": false,
    "editable": false
   },
   "outputs": [],
   "source": [
    "#Please leave this cell blank."
   ]
  },
  {
   "cell_type": "markdown",
   "metadata": {
    "deletable": false,
    "editable": false
   },
   "source": [
    "<div class=\"alert alert-warning\">\n",
    "<b>QUESTION 7: </b>\n",
    "<p>Create a function called <code><b>check_prime</b></code> which takes a number as the argument. The function returns <code>True</code> if the number is a <b>prime number</b>, and returns <code>False</code> otherwise. If the function is called with the a number less than 2, it raises <b>AssertionError</b> with the message <code>Prime numbers are greater than 1!</code>.</p>\n",
    "\n",
    "<br>\n",
    "<p>Execute <code><b>check_prime(3)</b></code>, the expected output is <code>True</code>.</p>\n",
    "<p>Execute <code><b>check_prime(9)</b></code>, the expected output is <code>False</code>.</p>\n",
    "<p>Execute <code><b>check_prime(1)</b></code>, an <code>AssertionError</code> is raised.</p>\n",
    "<p>Execute <code><b>check_prime(-1)</b></code>, an <code>AssertionError</code> is raised.</p>\n",
    "\n",
    "&ast; A prime number has to be a positive integer, which is divisible by exactly $2$ integers ($1$ and itself), also $1$ is not a prime number.\n",
    "</div>"
   ]
  },
  {
   "cell_type": "code",
   "execution_count": 52,
   "metadata": {
    "deletable": false
   },
   "outputs": [
    {
     "data": {
      "text/plain": [
       "True"
      ]
     },
     "execution_count": 52,
     "metadata": {},
     "output_type": "execute_result"
    }
   ],
   "source": [
    "###ANSWER(7). \n",
    "# Please write your code here.\n",
    "def check_prime(x):\n",
    "    for i in range(2,x):\n",
    "        if x % i == 0:\n",
    "            return False\n",
    "    return True\n",
    "check_prime(7)"
   ]
  },
  {
   "cell_type": "code",
   "execution_count": null,
   "metadata": {
    "deletable": false,
    "editable": false
   },
   "outputs": [],
   "source": [
    "#Please leave this cell blank."
   ]
  },
  {
   "cell_type": "markdown",
   "metadata": {
    "deletable": false,
    "editable": false
   },
   "source": [
    "<div class=\"alert alert-warning\"> \n",
    "<b>QUESTION 8:</b> \n",
    "<p>Create a function called <code><b>max_profit</b></code> which takes a list of daily stock prices as the argument. The function returns the maximum profit you can achieve when you choose to buy and sell <b>one share</b> of the stock  only <b>once</b>.</p>\n",
    "<br>\n",
    "<p>Execute <code><b>max_profit([7,1,5,3,6,4,3])</b></code>, the expected output is <code>5</code>, since you can buy the stock when its price is 1 and sell it later when its price is 6. </p>\n",
    "<p>Execute <code><b>max_profit([9,8,7,6])</b></code>, the expected output is <code>0</code>.</p>\n",
    "</div>"
   ]
  },
  {
   "cell_type": "code",
   "execution_count": 61,
   "metadata": {
    "deletable": false
   },
   "outputs": [
    {
     "data": {
      "text/plain": [
       "0"
      ]
     },
     "execution_count": 61,
     "metadata": {},
     "output_type": "execute_result"
    }
   ],
   "source": [
    "###ANSWER(8). \n",
    "# Please write your code here.\n",
    "def max_profit(x):\n",
    "    con = 0\n",
    "    for i in x:\n",
    "        if max(x[x.index(i)::]) - i > con: \n",
    "            con = max(x[x.index(i)::]) - i\n",
    "    return con \n",
    "        \n",
    "    \n",
    "max_profit([9,8,7,6])"
   ]
  },
  {
   "cell_type": "code",
   "execution_count": 58,
   "metadata": {},
   "outputs": [
    {
     "data": {
      "text/plain": [
       "[1]"
      ]
     },
     "execution_count": 58,
     "metadata": {},
     "output_type": "execute_result"
    }
   ],
   "source": [
    "x = [1,2,3]\n",
    "i = 2\n",
    "[x.index(i)]"
   ]
  },
  {
   "cell_type": "code",
   "execution_count": null,
   "metadata": {
    "deletable": false,
    "editable": false
   },
   "outputs": [],
   "source": [
    "#Please leave this cell blank."
   ]
  },
  {
   "cell_type": "markdown",
   "metadata": {
    "deletable": false,
    "editable": false
   },
   "source": [
    "<div class=\"alert alert-warning\">\n",
    "<b>QUESTION 9:</b>\n",
    "<p>Create a function called <code>fac</code> that takes a number as the argument. The function returns the factorial of the input number. If the function is called with a number less than 0, it will raise <b>AssertionError</b> with the message <code>Factorial does not exist for negative numbers!</code>. Note that zero factorial equals to one.</p>\n",
    "<br>\n",
    "<p>Execute <code><b>fac(0)</b></code>, the expected output is <code>0</code>.</p>\n",
    "<p>Execute <code><b>fac(5)</b></code>, the expected output is <code>120</code>.</p>\n",
    "<p>Execute <code><b>fac(-3)</b></code>, an <code>AssertionError</code> is raised.</p>\n",
    "<p>&ast; The factorial  means to multiply all whole numbers from the chosen number down to 1. </p>\n",
    "</div>"
   ]
  },
  {
   "cell_type": "code",
   "execution_count": 69,
   "metadata": {
    "deletable": false
   },
   "outputs": [
    {
     "data": {
      "text/plain": [
       "0"
      ]
     },
     "execution_count": 69,
     "metadata": {},
     "output_type": "execute_result"
    }
   ],
   "source": [
    "###ANSWER(9). \n",
    "# Please write your code here.\n",
    "def fac(x):\n",
    "    assert x >= 0, 'Factorial does not exist for negative numbers!'\n",
    "    num = 1\n",
    "    if x == 0:\n",
    "        return 0\n",
    "    for i in range(1,x+1):\n",
    "        num *= i\n",
    "    return num\n",
    "fac(0)"
   ]
  },
  {
   "cell_type": "code",
   "execution_count": 65,
   "metadata": {
    "deletable": false,
    "editable": false
   },
   "outputs": [],
   "source": [
    "#Please leave this cell blank."
   ]
  },
  {
   "cell_type": "markdown",
   "metadata": {
    "deletable": false,
    "editable": false
   },
   "source": [
    "<div class=\"alert alert-warning\">\n",
    "<b>QUESTION 10: </b>\n",
    "<p>Create a function called <code>sum_seq</code> which takes two integers <code>m</code> and <code>n</code> as arguments. Both integers are smaller than 10. The function calculates the sum of series up to <code>n</code> terms with the increasing numbers of digits for the given number <code>m</code>.</p>\n",
    "<br>\n",
    "<p>Execute <code>sum_seq(3, 5)</code>, the expected output is <code>37035</code> since $3 + 33 + 333 + 3333 + 33333 = 37035$.</p>   \n",
    "<p>Execute <code>sum_seq(9, 3)</code>, the expected output is <code>1107</code> since $9 + 99 + 999 = 1107$.</p>   \n",
    "</div>"
   ]
  },
  {
   "cell_type": "code",
   "execution_count": 77,
   "metadata": {
    "deletable": false,
    "scrolled": true
   },
   "outputs": [
    {
     "data": {
      "text/plain": [
       "1107"
      ]
     },
     "execution_count": 77,
     "metadata": {},
     "output_type": "execute_result"
    }
   ],
   "source": [
    "###ANSWER(10). \n",
    "# Please write your code here.\n",
    "def sum_seq(x,y):\n",
    "    num = 0\n",
    "    p = 0\n",
    "    for i in range(y):\n",
    "        i = int(str(p) + str(x))\n",
    "        p = i\n",
    "        num += p\n",
    "    return num\n",
    "sum_seq(9, 3)"
   ]
  },
  {
   "cell_type": "code",
   "execution_count": null,
   "metadata": {
    "deletable": false,
    "editable": false
   },
   "outputs": [],
   "source": [
    "#Please leave this cell blank."
   ]
  }
 ],
 "metadata": {
  "kernelspec": {
   "display_name": "Python 3 (ipykernel)",
   "language": "python",
   "name": "python3"
  },
  "language_info": {
   "codemirror_mode": {
    "name": "ipython",
    "version": 3
   },
   "file_extension": ".py",
   "mimetype": "text/x-python",
   "name": "python",
   "nbconvert_exporter": "python",
   "pygments_lexer": "ipython3",
   "version": "3.9.13"
  }
 },
 "nbformat": 4,
 "nbformat_minor": 4
}
