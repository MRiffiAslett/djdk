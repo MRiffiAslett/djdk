{
 "cells": [
  {
   "cell_type": "markdown",
   "metadata": {
    "nbgrader": {
     "grade": false,
     "grade_id": "cell-a009c2b9e8ab32fd",
     "locked": true,
     "schema_version": 3,
     "solution": false,
     "task": false
    }
   },
   "source": [
    "<div class=\"image\">\n",
    "\n",
    "  <img style=\"float: right;\" src=\"https://dx5i3n065oxey.cloudfront.net/platform/4186/assets/logo.png?v=2e76f927-9482-4bfb-9092-d9a0b595cd2c\" width=\"45%\" align=\"right\">\n",
    "      <h4>\n",
    "          <p style=\"font-size:20pt\">Programming for Business Analytics</p>\n",
    "          <p style=\"font-size:15pt\">Q6 Practice 2</p>\n",
    "      </h4>\n",
    "</div>\n",
    "\n",
    "- Make sure you have executed the code in the cell below.\n",
    "- Make sure you read the questions carefully and follow the instructions.\n",
    "- Make sure you put the answers in the Answer cells.\n",
    "- Please do not put your answers in comments (after #).\n",
    "- Please do not add any new cells between the Question and Answer cells.\n",
    "- Please do not change the names of the variables in Answer cells.\n",
    "- Please do not assign the expected result directly to the variable.\n",
    "- Please do not change the pre-defined variables."
   ]
  },
  {
   "cell_type": "code",
   "execution_count": null,
   "metadata": {
    "nbgrader": {
     "grade": false,
     "grade_id": "cell-76d86cd6522bf16a",
     "locked": true,
     "schema_version": 3,
     "solution": false,
     "task": false
    }
   },
   "outputs": [],
   "source": [
    "#Please import numpy and make sure your Jupyter Notebook environment is running a Python 3 kernel \n",
    "import numpy as np\n",
    "import IPython\n",
    "assert IPython.version_info[0] >= 3, \"Your version of IPython is too old, please update it.\"\n",
    "%autosave 120"
   ]
  },
  {
   "cell_type": "markdown",
   "metadata": {
    "nbgrader": {
     "grade": false,
     "grade_id": "cell-b7398c989b076366",
     "locked": true,
     "schema_version": 3,
     "solution": false,
     "task": false
    }
   },
   "source": [
    "<div class=\"alert alert-warning\">\n",
    "<b>QUESTION 1:</b>\n",
    "<p>Using <b>ONE LINE</b> of code, create an array called <code>arr_1</code>. If you print <code>arr_1</code>, the expected output is shown as below.</p>\n",
    "    \n",
    "```\n",
    "[[1 0 0 0 0 1 0 0]\n",
    " [0 0 1 0 0 0 0 1]]\n",
    "```\n",
    "\n",
    "</div>"
   ]
  },
  {
   "cell_type": "code",
   "execution_count": null,
   "metadata": {
    "nbgrader": {
     "grade": false,
     "grade_id": "cell-ad1d8ecc5b679e2e",
     "locked": false,
     "schema_version": 3,
     "solution": true,
     "task": false
    }
   },
   "outputs": [],
   "source": [
    "###ANSWER(1)\n",
    "arr_1 = np.eye(4).reshape(2,8).astype(int) # Write your code in one line\n",
    "print(arr_1)"
   ]
  },
  {
   "cell_type": "code",
   "execution_count": null,
   "metadata": {
    "nbgrader": {
     "grade": true,
     "grade_id": "cell-5ed900f51298c7b0",
     "locked": true,
     "points": 10,
     "schema_version": 3,
     "solution": false,
     "task": false
    }
   },
   "outputs": [],
   "source": [
    "#Please leave this cell blank."
   ]
  },
  {
   "cell_type": "markdown",
   "metadata": {
    "nbgrader": {
     "grade": false,
     "grade_id": "cell-803af2c7cc6ba726",
     "locked": true,
     "schema_version": 3,
     "solution": false,
     "task": false
    }
   },
   "source": [
    "<div class=\"alert alert-warning\">\n",
    "<b>QUESTION 2:</b>\n",
    "<p>An array has been defined in the cell below.</p>\n",
    "    \n",
    "```python\n",
    "arr_2 = np.array([2, 3, 4, 1, 8, 1, 7, 2, 4, 3, 6, 5, 7, 0, 5, 7, 9, 3, 2, 4]).reshape(4, 5)    \n",
    "```\n",
    "\n",
    "<p>For the elements in each column, subtract the second smallest value of the corresponding column and assign the result to the variable <code>arr_2</code>. If you print <code>arr_2</code>, the expected output is shown as below.</p>\n",
    "    \n",
    "```\n",
    "[[ 0 -2  1  0  4]\n",
    " [-1  2 -1  3 -1]\n",
    " [ 4  0  4 -1  1]\n",
    " [ 5  4  0  1  0]]\n",
    "```\n",
    "\n",
    "</div>"
   ]
  },
  {
   "cell_type": "code",
   "execution_count": 2,
   "metadata": {
    "nbgrader": {
     "grade": false,
     "grade_id": "cell-a7b1c0341f4d4b16",
     "locked": false,
     "schema_version": 3,
     "solution": true,
     "task": false
    }
   },
   "outputs": [
    {
     "name": "stdout",
     "output_type": "stream",
     "text": [
      "[[ 0 -2  1  0  4]\n",
      " [-1  2 -1  3 -1]\n",
      " [ 4  0  4 -1  1]\n",
      " [ 5  4  0  1  0]]\n"
     ]
    }
   ],
   "source": [
    "###ANSWER(2)\n",
    "import numpy as np\n",
    "arr_2 = np.array([2, 3, 4, 1, 8, 1, 7, 2, 4, 3, 6, 5, 7, 0, 5, 7, 9, 3, 2, 4]).reshape(4, 5)\n",
    "# Write your code here.\n",
    "arr_2 = arr_2 - np.sort(arr_2, axis=0)[1, :]\n",
    "print(arr_2)"
   ]
  },
  {
   "cell_type": "code",
   "execution_count": null,
   "metadata": {
    "nbgrader": {
     "grade": true,
     "grade_id": "cell-8062daf2aa1b1e65",
     "locked": true,
     "points": 10,
     "schema_version": 3,
     "solution": false,
     "task": false
    }
   },
   "outputs": [],
   "source": [
    "#Please leave this cell blank."
   ]
  },
  {
   "cell_type": "markdown",
   "metadata": {
    "nbgrader": {
     "grade": false,
     "grade_id": "cell-ca76906d34833177",
     "locked": true,
     "schema_version": 3,
     "solution": false,
     "task": false
    }
   },
   "source": [
    "<div class=\"alert alert-warning\">\n",
    "<b>QUESTION 3:</b>\n",
    "<p>An array has been defined in the cell below.</p>\n",
    "    \n",
    "```python\n",
    "arr_3 = np.arange(36).reshape(6, 6)\n",
    "```\n",
    "\n",
    "<p>Write the code to use the <b>Index</b> of <code>arr_3</code> to filter specific elements and assign the filtered elements to a new array <code>answer_3</code>. If you print <code>answer_3</code>, the expected output is shown as below.</p>\n",
    "    \n",
    "```\n",
    "[[15 16 17]\n",
    " [21 22 23]\n",
    " [27 28 29]]\n",
    "```\n",
    "\n",
    "</div>"
   ]
  },
  {
   "cell_type": "code",
   "execution_count": null,
   "metadata": {
    "nbgrader": {
     "grade": false,
     "grade_id": "cell-a4c4bced21059a5b",
     "locked": false,
     "schema_version": 3,
     "solution": true,
     "task": false
    }
   },
   "outputs": [],
   "source": [
    "###ANSWER(3)\n",
    "arr_3 = np.arange(36).reshape(6, 6)\n",
    "answer_3 = arr_3[2:5, 3:] # Write your code here.\n",
    "print(answer_3)"
   ]
  },
  {
   "cell_type": "code",
   "execution_count": null,
   "metadata": {
    "nbgrader": {
     "grade": true,
     "grade_id": "cell-6908524ab09ee30a",
     "locked": true,
     "points": 10,
     "schema_version": 3,
     "solution": false,
     "task": false
    }
   },
   "outputs": [],
   "source": [
    "#Please leave this cell blank."
   ]
  },
  {
   "cell_type": "markdown",
   "metadata": {
    "nbgrader": {
     "grade": false,
     "grade_id": "cell-6b28b314bbb9e697",
     "locked": true,
     "schema_version": 3,
     "solution": false,
     "task": false
    }
   },
   "source": [
    "<div class=\"alert alert-warning\">\n",
    "<b>QUESTION 4:</b>\n",
    "<p>Create a $6\\times6$ array and assign the result to an array <code>arr_4</code>. If you print <code>arr_4</code>, the expected output is shown as below.</p>\n",
    "    \n",
    "```\n",
    "[[1 0 0 0 0 1]\n",
    " [0 1 0 0 1 0]\n",
    " [0 0 1 1 0 0]\n",
    " [0 0 1 1 0 0]\n",
    " [0 1 0 0 1 0]\n",
    " [1 0 0 0 0 1]]\n",
    "```\n",
    "\n",
    "</div>"
   ]
  },
  {
   "cell_type": "code",
   "execution_count": null,
   "metadata": {
    "nbgrader": {
     "grade": false,
     "grade_id": "cell-35ba6a5d32f9cacc",
     "locked": false,
     "schema_version": 3,
     "solution": true,
     "task": false
    }
   },
   "outputs": [],
   "source": [
    "###ANSWER(4)\n",
    "arr_4 = (np.eye(6)[:,::-1]+np.eye(6)).astype(int)# Write your code here.\n",
    "print(arr_4)"
   ]
  },
  {
   "cell_type": "code",
   "execution_count": null,
   "metadata": {
    "nbgrader": {
     "grade": true,
     "grade_id": "cell-2fc8cf01392d0b08",
     "locked": true,
     "points": 10,
     "schema_version": 3,
     "solution": false,
     "task": false
    }
   },
   "outputs": [],
   "source": [
    "#Please leave this cell blank."
   ]
  },
  {
   "cell_type": "markdown",
   "metadata": {
    "nbgrader": {
     "grade": false,
     "grade_id": "cell-28833e059e193ee7",
     "locked": true,
     "schema_version": 3,
     "solution": false,
     "task": false
    }
   },
   "source": [
    "<div class=\"alert alert-warning\">\n",
    "<b>QUESTION 5:</b>\n",
    "<p>An array has been defined in the cell below.</p>\n",
    "\n",
    "```python\n",
    "arr_5 = np.array([2, 3, 4, 1, 8, 6, 7, 2, 4, 3, 6, 4]).reshape(3, 2, 2)    \n",
    "```\n",
    "    \n",
    "<p>Replace the numbers that are larger than 5 in the array with 1 and the numbers that are smaller than 5 with 0, and assign the result to the variable <code>arr_5</code>. If you print <code>arr_5</code>, the expected output is shown as below.</p>\n",
    "    \n",
    "```\n",
    "[[[0 0]\n",
    "  [0 0]]\n",
    "\n",
    " [[1 1]\n",
    "  [1 0]]\n",
    "\n",
    " [[0 0]\n",
    "  [1 0]]]\n",
    "```\n",
    "\n",
    "</div>"
   ]
  },
  {
   "cell_type": "code",
   "execution_count": null,
   "metadata": {
    "nbgrader": {
     "grade": false,
     "grade_id": "cell-243e6a0f074b70f3",
     "locked": false,
     "schema_version": 3,
     "solution": true,
     "task": false
    }
   },
   "outputs": [],
   "source": [
    "###ANSWER(5)\n",
    "arr_5 = np.array([2, 3, 4, 1, 8, 6, 7, 2, 4, 3, 6, 4]).reshape(3, 2, 2)\n",
    "# Write your code here.\n",
    "arr_5 = np.where(arr_5 > 5, 1, 0)\n",
    "print(arr_5)"
   ]
  },
  {
   "cell_type": "code",
   "execution_count": null,
   "metadata": {
    "nbgrader": {
     "grade": true,
     "grade_id": "cell-954b6dcf73bda16d",
     "locked": true,
     "points": 10,
     "schema_version": 3,
     "solution": false,
     "task": false
    }
   },
   "outputs": [],
   "source": [
    "#Please leave this cell blank."
   ]
  },
  {
   "cell_type": "markdown",
   "metadata": {
    "nbgrader": {
     "grade": false,
     "grade_id": "cell-58e7ab032e3d2604",
     "locked": true,
     "schema_version": 3,
     "solution": false,
     "task": false
    }
   },
   "source": [
    "<div class=\"alert alert-warning\">\n",
    "<b>QUESTION 6:</b>\n",
    "<p>An array has been defined in the cell below.</p>\n",
    "\n",
    "```python\n",
    "arr_6 = np.array([8, np.nan, 3, 1, np.nan, np.nan, 4, 6, 8, np.nan, np.nan, 4, 3, 4, 7]).reshape(3, 5)\n",
    "```    \n",
    "    \n",
    "<p>Fill the NaN values with 0 and assign the result to the variable <code>arr_6</code>. If you print <code>arr_6</code>, the expected output is shown as below.</p>\n",
    "    \n",
    "```\n",
    "[[8. 0. 3. 1. 0.]\n",
    " [0. 4. 6. 8. 0.]\n",
    " [0. 4. 3. 4. 7.]]\n",
    "```\n",
    "\n",
    "</div>"
   ]
  },
  {
   "cell_type": "code",
   "execution_count": null,
   "metadata": {
    "nbgrader": {
     "grade": false,
     "grade_id": "cell-f44f19054cfc55d6",
     "locked": false,
     "schema_version": 3,
     "solution": true,
     "task": false
    }
   },
   "outputs": [],
   "source": [
    "###ANSWER(6)\n",
    "arr_6 = np.array([8, np.nan, 3, 1, np.nan, np.nan, 4, 6, 8, np.nan, np.nan, 4, 3, 4, 7]).reshape(3, 5)\n",
    "# Write your code here.\n",
    "arr_6 = np.array([8, np.nan, 3, 1, np.nan, np.nan, 4, 6, 8, np.nan, np.nan, 4, 3, 4, 7]).reshape(3, 5)\n",
    "arr_6[np.isnan(arr_6)] = 0\n",
    "print(arr_6)"
   ]
  },
  {
   "cell_type": "code",
   "execution_count": null,
   "metadata": {
    "nbgrader": {
     "grade": true,
     "grade_id": "cell-5d06f813879b3169",
     "locked": true,
     "points": 10,
     "schema_version": 3,
     "solution": false,
     "task": false
    }
   },
   "outputs": [],
   "source": [
    "#Please leave this cell blank."
   ]
  },
  {
   "cell_type": "markdown",
   "metadata": {
    "nbgrader": {
     "grade": false,
     "grade_id": "cell-a647a8eb7c77dd87",
     "locked": true,
     "schema_version": 3,
     "solution": false,
     "task": false
    }
   },
   "source": [
    "<div class=\"alert alert-warning\">\n",
    "<b>QUESTION 7:</b>\n",
    "<p>An array has been defined in the cell below.</p>\n",
    "    \n",
    "```python\n",
    "arr_7 = np.array([-1, 3, -6, 6, -8, 5, 7, 2, -6, -3]).reshape(5,2)\n",
    "```\n",
    "\n",
    "<p>Replace each element with its absolute value and assign the result to the variable <code>arr_7</code>. If you print <code>arr_7</code>, the expected output is shown as below.</p>\n",
    "    \n",
    "```\n",
    "[[1 3]\n",
    " [6 6]\n",
    " [8 5]\n",
    " [7 2]\n",
    " [6 3]]\n",
    "```\n",
    "\n",
    "</div>"
   ]
  },
  {
   "cell_type": "code",
   "execution_count": null,
   "metadata": {
    "nbgrader": {
     "grade": false,
     "grade_id": "cell-6b3e7c7009e49e06",
     "locked": false,
     "schema_version": 3,
     "solution": true,
     "task": false
    }
   },
   "outputs": [],
   "source": [
    "###ANSWER(7)\n",
    "arr_7 = np.array([-1, 3, -6, 6, -8, 5, 7, 2, -6, -3]).reshape(5,2)\n",
    "# Write your code here.\n",
    "arr_7 = np.abs(arr_7)\n",
    "print(arr_7)"
   ]
  },
  {
   "cell_type": "code",
   "execution_count": null,
   "metadata": {
    "nbgrader": {
     "grade": true,
     "grade_id": "cell-c7357b69ef77eafd",
     "locked": true,
     "points": 10,
     "schema_version": 3,
     "solution": false,
     "task": false
    }
   },
   "outputs": [],
   "source": [
    "#Please leave this cell blank."
   ]
  },
  {
   "cell_type": "markdown",
   "metadata": {
    "nbgrader": {
     "grade": false,
     "grade_id": "cell-570bf832f83acf61",
     "locked": true,
     "schema_version": 3,
     "solution": false,
     "task": false
    }
   },
   "source": [
    "<div class=\"alert alert-warning\">\n",
    "<b>QUESTION 8:</b>\n",
    "<p>An array has been defined in the cell below.</p>\n",
    "    \n",
    "```python\n",
    "arr_8 = np.array([5, 12, 4, 7, 3, 12, 7, 8, 9, 3, 4, 5, 7, 14, 5, 7, 10, 3, 2, 13]).reshape(4, 5)    \n",
    "```\n",
    "    \n",
    "<p>For each row in <code>arr_8</code>, get the index of the maximum element, and assign the result to a 1-d array <code>answer_8</code>. If you print <code>answer_8</code>, the expected output is shown as below.</p>\n",
    "    \n",
    "```\n",
    "[1 0 3 4]\n",
    "```\n",
    "\n",
    "</div>"
   ]
  },
  {
   "cell_type": "code",
   "execution_count": null,
   "metadata": {
    "nbgrader": {
     "grade": false,
     "grade_id": "cell-e92e0d0ddee353fb",
     "locked": false,
     "schema_version": 3,
     "solution": true,
     "task": false
    }
   },
   "outputs": [],
   "source": [
    "###ANSWER(8)\n",
    "arr_8 = np.array([5, 12, 4, 7, 3, 12, 7, 8, 9, 3, 4, 5, 7, 14, 5, 7, 10, 3, 2, 13]).reshape(4, 5)\n",
    "answer_8 = np.argmax(arr_8, axis=1) # Write your code here.\n",
    "print(answer_8)"
   ]
  },
  {
   "cell_type": "code",
   "execution_count": null,
   "metadata": {
    "nbgrader": {
     "grade": true,
     "grade_id": "cell-7a320fdca302c0fa",
     "locked": true,
     "points": 10,
     "schema_version": 3,
     "solution": false,
     "task": false
    }
   },
   "outputs": [],
   "source": [
    "#Please leave this cell blank."
   ]
  },
  {
   "cell_type": "markdown",
   "metadata": {
    "nbgrader": {
     "grade": false,
     "grade_id": "cell-b10518742083767a",
     "locked": true,
     "schema_version": 3,
     "solution": false,
     "task": false
    }
   },
   "source": [
    "<div class=\"alert alert-warning\">\n",
    "<b>biatch 9:</b>\n",
    "<p>An array has been defined in the cell below.</p>\n",
    "    \n",
    "```python\n",
    "arr_9 = np.array([2, 3, 4, 1, 8, 9, 2, 2, 4, 3, 6, 9, 2, 3, 4, 6, 8, 9]).reshape(3, 6)    \n",
    "```\n",
    "<p>Extract the indices of columns with unequal numbers (i.e. not all elements in the column are the same) and assign the result to a 1-d array <code>answer_9</code>. If you print <code>answer_9</code>, the expected output is shown as below.</p>\n",
    "    \n",
    "```\n",
    "[0 2 5]\n",
    "```\n",
    "\n",
    "<p>*Please note that the starting index is <b>0</b> (i.e. the index for the first column is 0).</p>    \n",
    "</div>"
   ]
  },
  {
   "cell_type": "code",
   "execution_count": 10,
   "metadata": {
    "nbgrader": {
     "grade": false,
     "grade_id": "cell-f55e9acc1a6e1eb2",
     "locked": false,
     "schema_version": 3,
     "solution": true,
     "task": false
    }
   },
   "outputs": [
    {
     "name": "stdout",
     "output_type": "stream",
     "text": [
      "[[2 3 4 1 8 9]\n",
      " [2 2 4 3 6 9]\n",
      " [2 3 4 6 8 9]]\n"
     ]
    },
    {
     "data": {
      "text/plain": [
       "array([[2, 2, 2],\n",
       "       [3, 2, 3],\n",
       "       [4, 4, 4],\n",
       "       [1, 3, 6],\n",
       "       [8, 6, 8],\n",
       "       [9, 9, 9]])"
      ]
     },
     "execution_count": 10,
     "metadata": {},
     "output_type": "execute_result"
    }
   ],
   "source": [
    "###ANSWER(9)\n",
    "arr_9 = np.array([2, 3, 4, 1, 8, 9, 2, 2, 4, 3, 6, 9, 2, 3, 4, 6, 8, 9]).reshape(3, 6)\n",
    "answer_9 = np.where([len(np.unique(i))==1 for i in arr_9.transpose()])[0] \n",
    "\n",
    "arr_9 = np.array([2, 3, 4, 1, 8, 9, 2, 2, 4, 3, 6, 9, 2, 3, 4, 6, 8, 9]).reshape(3, 6)\n",
    "print(arr_9)\n",
    "\n",
    "arr_9.transpose()"
   ]
  },
  {
   "cell_type": "code",
   "execution_count": 11,
   "metadata": {
    "nbgrader": {
     "grade": true,
     "grade_id": "cell-288bbf6282e6f85f",
     "locked": true,
     "points": 10,
     "schema_version": 3,
     "solution": false,
     "task": false
    }
   },
   "outputs": [],
   "source": [
    "#Please leave this cell blank."
   ]
  },
  {
   "cell_type": "markdown",
   "metadata": {
    "nbgrader": {
     "grade": false,
     "grade_id": "cell-c5f4b6cfae374da0",
     "locked": true,
     "schema_version": 3,
     "solution": false,
     "task": false
    }
   },
   "source": [
    "<div class=\"alert alert-warning\">\n",
    "<b>QUESTION 10:</b>\n",
    "<p>Define a function <code><b>check_range</b></code> which takes three arguments: an array of numbers and two numbers (<code>num_1</code> and <code>num_2</code>). The function would <b>return</b> the number of elements in the array that are greater than or equal to <code>num_1</code> and smaller than or equal to <code>num_2</code>.</p>\n",
    "<br>\n",
    "<p>If you execute <code><b>check_range(np.array([3, 3, 5, 1, 7, 9, 2, 4, 4]).reshape(3, 3),3,6)</b></code>, the return value is <code>5</code>.     \n",
    "<p>If you execute <code><b>check_range(np.array([1, 2, 3, 4]),2,3)</b></code>, the return value is <code>2</code>.  \n",
    "<p>If you execute <code><b>check_range(np.array([[1, 2, 3, 4], [1, 2, 3, 4]]),2,3)</b></code>, the return value is <code>4</code>.\n",
    "</div>"
   ]
  },
  {
   "cell_type": "code",
   "execution_count": null,
   "metadata": {
    "nbgrader": {
     "grade": false,
     "grade_id": "cell-45913c1872f809d8",
     "locked": false,
     "schema_version": 3,
     "solution": true,
     "task": false
    }
   },
   "outputs": [],
   "source": [
    "###ANSWER(10)\n",
    "# Write your code here.\n",
    "def check_range(arr_num, int_1, int_2):\n",
    "    return ((arr_num>=int_1)&(arr_num<=int_2)).sum()"
   ]
  },
  {
   "cell_type": "code",
   "execution_count": null,
   "metadata": {
    "nbgrader": {
     "grade": true,
     "grade_id": "cell-f88befb4a179a2cb",
     "locked": true,
     "points": 10,
     "schema_version": 3,
     "solution": false,
     "task": false
    }
   },
   "outputs": [],
   "source": [
    "#Please leave this cell blank."
   ]
  }
 ],
 "metadata": {
  "kernelspec": {
   "display_name": "Python 3 (ipykernel)",
   "language": "python",
   "name": "python3"
  },
  "language_info": {
   "codemirror_mode": {
    "name": "ipython",
    "version": 3
   },
   "file_extension": ".py",
   "mimetype": "text/x-python",
   "name": "python",
   "nbconvert_exporter": "python",
   "pygments_lexer": "ipython3",
   "version": "3.9.13"
  }
 },
 "nbformat": 4,
 "nbformat_minor": 4
}
