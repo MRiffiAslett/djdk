{
 "cells": [
  {
   "cell_type": "markdown",
   "metadata": {
    "deletable": false,
    "editable": false
   },
   "source": [
    "<div class=\"image\">\n",
    "\n",
    "  <img style=\"float: right;\" src=\"https://dx5i3n065oxey.cloudfront.net/platform/4186/assets/logo.png?v=2e76f927-9482-4bfb-9092-d9a0b595cd2c\" width=\"45%\" align=\"right\">\n",
    "      <h4>\n",
    "          <p style=\"font-size:20pt\">Programming for Business Analytics</p>\n",
    "          <p style=\"font-size:15pt\">Q3 Practice 1</p>\n",
    "      </h4>\n",
    "</div>\n",
    "\n",
    "- Make sure you have executed the code in the cell below.\n",
    "- Make sure you read the questions carefully and follow the instructions.\n",
    "- Make sure you put the answers in the Answer cells.\n",
    "- Please do not put your answers in comments (after #).\n",
    "- Please do not add any new cells between the Question and Answer cells.\n",
    "- Please do not change the names of the variables in Answer cells.\n",
    "- Please do not assign the expected result directly to the variable."
   ]
  },
  {
   "cell_type": "code",
   "execution_count": null,
   "metadata": {
    "deletable": false
   },
   "outputs": [],
   "source": [
    "#Please make sure your Jupyter Notebook environment is running a Python 3 kernel \n",
    "import IPython\n",
    "assert IPython.version_info[0] >= 3, \"Your version of IPython is too old, please update it.\"\n",
    "%autosave 120"
   ]
  },
  {
   "cell_type": "markdown",
   "metadata": {
    "deletable": false,
    "editable": false
   },
   "source": [
    "<div class=\"alert alert-warning\"> \n",
    "<b>QUESTION 1:</b> What is an exception?<p>\n",
    "\n",
    "<p> a) An event that occurs due to incorrect code or input</p>\n",
    "<p> b) A function that does not run correctly</p>\n",
    "<p> c) A variable defined to identify bugs</p>\n",
    "<p> d) A bug in the code</p>\n",
    "</div>"
   ]
  },
  {
   "cell_type": "code",
   "execution_count": null,
   "metadata": {
    "deletable": false
   },
   "outputs": [],
   "source": [
    "###ANSWER(1). Please assign the letter representing the correct answer to the variable \n",
    "### (write it down between the \"\")\n",
    "\n",
    "answer_1 = \"\" # YOUR CODE SHOULD BE BETWEEN \"\""
   ]
  },
  {
   "cell_type": "code",
   "execution_count": null,
   "metadata": {
    "deletable": false,
    "editable": false
   },
   "outputs": [],
   "source": [
    "#Please leave this cell blank."
   ]
  },
  {
   "cell_type": "markdown",
   "metadata": {
    "deletable": false,
    "editable": false
   },
   "source": [
    "<div class=\"alert alert-warning\">\n",
    "<b>QUESTION 2:</b>\n",
    "\n",
    "<p>Write a function called <code>ReLU</code> which takes a number as the argument. The function would return 0 if the argument is less than or equal to 0, and return the same number if it's larger than 0.</p> \n",
    "<br>\n",
    "<p>If you call the function with argument being 10, the return value is <code>10</code>.</p>\n",
    "<p>If you call the function with argument being -10, the return value is <code>0</code>.</p>\n",
    "</div>"
   ]
  },
  {
   "cell_type": "code",
   "execution_count": 3,
   "metadata": {
    "deletable": false
   },
   "outputs": [],
   "source": [
    "###ANSWER(2). \n",
    "# Please write your code here.\n",
    "def ReLU(x):\n",
    "    if x <= 0:\n",
    "        return 0 \n",
    "    else:\n",
    "        return x"
   ]
  },
  {
   "cell_type": "code",
   "execution_count": 6,
   "metadata": {},
   "outputs": [
    {
     "data": {
      "text/plain": [
       "0"
      ]
     },
     "execution_count": 6,
     "metadata": {},
     "output_type": "execute_result"
    }
   ],
   "source": [
    "ReLU(-6)"
   ]
  },
  {
   "cell_type": "code",
   "execution_count": null,
   "metadata": {
    "deletable": false,
    "editable": false
   },
   "outputs": [],
   "source": [
    "#Please leave this cell blank."
   ]
  },
  {
   "cell_type": "markdown",
   "metadata": {
    "deletable": false,
    "editable": false
   },
   "source": [
    "<div class=\"alert alert-warning\">\n",
    "<b>QUESTION 3:</b> \n",
    "<p>Define a function which takes two arguments, the first one is $x$ and the second one is $y$, name it <code>radical</code>.</p>\n",
    "<p>It should <b>return</b> the result from below equation.</p>  \n",
    "        $\\sqrt[y]{x}$\n",
    "<p>Make sure you use <code>return</code>.</p>\n",
    "</div>"
   ]
  },
  {
   "cell_type": "code",
   "execution_count": 7,
   "metadata": {
    "deletable": false
   },
   "outputs": [],
   "source": [
    "###ANSWER(3). \n",
    "# Please write your code here.\n",
    "def radical(x):\n",
    "    return x**(1/y)\n"
   ]
  },
  {
   "cell_type": "code",
   "execution_count": null,
   "metadata": {
    "deletable": false,
    "editable": false
   },
   "outputs": [],
   "source": [
    "#Please leave this cell blank."
   ]
  },
  {
   "cell_type": "markdown",
   "metadata": {
    "deletable": false,
    "editable": false
   },
   "source": [
    "<div class=\"alert alert-warning\">\n",
    "<b>QUESTION 4:</b> \n",
    "<p>Create a file (<code>random.txt</code>) in the current directory and write <code>Random Text</code> to the file.</p>\n",
    "</div>"
   ]
  },
  {
   "cell_type": "code",
   "execution_count": 14,
   "metadata": {
    "deletable": false
   },
   "outputs": [
    {
     "ename": "ValueError",
     "evalue": "I/O operation on closed file.",
     "output_type": "error",
     "traceback": [
      "\u001b[1;31m---------------------------------------------------------------------------\u001b[0m",
      "\u001b[1;31mValueError\u001b[0m                                Traceback (most recent call last)",
      "\u001b[1;32m~\\AppData\\Local\\Temp\\ipykernel_14780\\1243408315.py\u001b[0m in \u001b[0;36m<module>\u001b[1;34m\u001b[0m\n\u001b[0;32m      6\u001b[0m \u001b[0mfile\u001b[0m\u001b[1;33m.\u001b[0m\u001b[0mclose\u001b[0m\u001b[1;33m(\u001b[0m\u001b[1;33m)\u001b[0m\u001b[1;33m\u001b[0m\u001b[1;33m\u001b[0m\u001b[0m\n\u001b[0;32m      7\u001b[0m \u001b[1;33m\u001b[0m\u001b[0m\n\u001b[1;32m----> 8\u001b[1;33m \u001b[1;32mfor\u001b[0m \u001b[0mi\u001b[0m \u001b[1;32min\u001b[0m \u001b[0mfile\u001b[0m\u001b[1;33m:\u001b[0m\u001b[1;33m\u001b[0m\u001b[1;33m\u001b[0m\u001b[0m\n\u001b[0m\u001b[0;32m      9\u001b[0m     \u001b[0mprint\u001b[0m\u001b[1;33m(\u001b[0m\u001b[0mi\u001b[0m\u001b[1;33m)\u001b[0m\u001b[1;33m\u001b[0m\u001b[1;33m\u001b[0m\u001b[0m\n",
      "\u001b[1;31mValueError\u001b[0m: I/O operation on closed file."
     ]
    }
   ],
   "source": [
    "###ANSWER(4). \n",
    "# Please write your code here.\n",
    "\n",
    "with open(\"random.txt\",\"w\") as file:\n",
    "    file.write(\"Hello its me\")\n",
    "file.close()\n",
    "\n",
    "for i in file:\n",
    "    print(i)"
   ]
  },
  {
   "cell_type": "code",
   "execution_count": null,
   "metadata": {
    "deletable": false,
    "editable": false
   },
   "outputs": [],
   "source": [
    "#Please leave this cell blank."
   ]
  },
  {
   "cell_type": "markdown",
   "metadata": {
    "deletable": false,
    "editable": false
   },
   "source": [
    "<div class=\"alert alert-warning\">\n",
    "<b>QUESTION 5:</b> \n",
    "    <p>Create a function called <code>divisor</code> which takes one numerical argument. The function would <b>return</b> the value of 100 divided by the argument. If the function is called with the argument being 0, it will raise <code>AssertionError</code> with the message <code>Can't divide by zero.</code>.</p>\n",
    "<br>\n",
    "<p>If you call the function with argument being 2, the return value is <code>50</code>.</p>\n",
    "</div>"
   ]
  },
  {
   "cell_type": "code",
   "execution_count": 19,
   "metadata": {
    "deletable": false
   },
   "outputs": [
    {
     "ename": "AssertionError",
     "evalue": "Can't Divide by 0",
     "output_type": "error",
     "traceback": [
      "\u001b[1;31m---------------------------------------------------------------------------\u001b[0m",
      "\u001b[1;31mAssertionError\u001b[0m                            Traceback (most recent call last)",
      "\u001b[1;32m~\\AppData\\Local\\Temp\\ipykernel_14780\\3713724015.py\u001b[0m in \u001b[0;36m<module>\u001b[1;34m\u001b[0m\n\u001b[0;32m      5\u001b[0m     \u001b[1;32mreturn\u001b[0m \u001b[1;36m100\u001b[0m\u001b[1;33m/\u001b[0m\u001b[0mx\u001b[0m\u001b[1;33m\u001b[0m\u001b[1;33m\u001b[0m\u001b[0m\n\u001b[0;32m      6\u001b[0m \u001b[1;33m\u001b[0m\u001b[0m\n\u001b[1;32m----> 7\u001b[1;33m \u001b[0mdivisor\u001b[0m\u001b[1;33m(\u001b[0m\u001b[1;36m0\u001b[0m\u001b[1;33m)\u001b[0m\u001b[1;33m\u001b[0m\u001b[1;33m\u001b[0m\u001b[0m\n\u001b[0m",
      "\u001b[1;32m~\\AppData\\Local\\Temp\\ipykernel_14780\\3713724015.py\u001b[0m in \u001b[0;36mdivisor\u001b[1;34m(x)\u001b[0m\n\u001b[0;32m      2\u001b[0m \u001b[1;31m# Please write your code here.\u001b[0m\u001b[1;33m\u001b[0m\u001b[1;33m\u001b[0m\u001b[0m\n\u001b[0;32m      3\u001b[0m \u001b[1;32mdef\u001b[0m \u001b[0mdivisor\u001b[0m\u001b[1;33m(\u001b[0m\u001b[0mx\u001b[0m\u001b[1;33m)\u001b[0m\u001b[1;33m:\u001b[0m\u001b[1;33m\u001b[0m\u001b[1;33m\u001b[0m\u001b[0m\n\u001b[1;32m----> 4\u001b[1;33m     \u001b[1;32massert\u001b[0m \u001b[0mx\u001b[0m \u001b[1;33m!=\u001b[0m \u001b[1;36m0\u001b[0m\u001b[1;33m,\u001b[0m \u001b[1;34m\"Can't Divide by 0\"\u001b[0m\u001b[1;33m\u001b[0m\u001b[1;33m\u001b[0m\u001b[0m\n\u001b[0m\u001b[0;32m      5\u001b[0m     \u001b[1;32mreturn\u001b[0m \u001b[1;36m100\u001b[0m\u001b[1;33m/\u001b[0m\u001b[0mx\u001b[0m\u001b[1;33m\u001b[0m\u001b[1;33m\u001b[0m\u001b[0m\n\u001b[0;32m      6\u001b[0m \u001b[1;33m\u001b[0m\u001b[0m\n",
      "\u001b[1;31mAssertionError\u001b[0m: Can't Divide by 0"
     ]
    }
   ],
   "source": [
    "###ANSWER(5). \n",
    "# Please write your code here.\n",
    "def divisor(x):\n",
    "    assert x != 0, \"Can't Divide by 0\"\n",
    "    return 100/x\n",
    "    \n",
    "divisor(0)"
   ]
  },
  {
   "cell_type": "code",
   "execution_count": null,
   "metadata": {
    "deletable": false,
    "editable": false
   },
   "outputs": [],
   "source": [
    "#Please leave this cell blank."
   ]
  },
  {
   "cell_type": "markdown",
   "metadata": {
    "deletable": false,
    "editable": false
   },
   "source": [
    "<div class=\"alert alert-warning\">\n",
    "<b>QUESTION 6:</b> \n",
    "<p>Create a function called <code>odd_checker</code> which takes an integer as the argument. The function would <b>print</b> <code>odd</code> if the argument is a odd number and <b>print</b> <code>even</code> otherwise.</p>\n",
    "<br>\n",
    "<p>If you call the function with argument being 2, it would print <code>even</code>.</p>\n",
    "<p>If you call the function with argument being 3, it would print <code>odd</code>.</p>\n",
    "</div>"
   ]
  },
  {
   "cell_type": "code",
   "execution_count": 23,
   "metadata": {
    "deletable": false
   },
   "outputs": [
    {
     "data": {
      "text/plain": [
       "'even'"
      ]
     },
     "execution_count": 23,
     "metadata": {},
     "output_type": "execute_result"
    }
   ],
   "source": [
    "###ANSWER(6). \n",
    "# Please write your code here.\n",
    "def odd_checker(x):\n",
    "    if x % 2 == 0:\n",
    "        return 'even'\n",
    "    else:\n",
    "        return 'odd'\n",
    "odd_checker(2)"
   ]
  },
  {
   "cell_type": "code",
   "execution_count": 100,
   "metadata": {
    "deletable": false,
    "editable": false
   },
   "outputs": [],
   "source": [
    "#Please leave this cell blank."
   ]
  },
  {
   "cell_type": "markdown",
   "metadata": {
    "deletable": false,
    "editable": false
   },
   "source": [
    "<div class=\"alert alert-warning\"> \n",
    "<b>QUESTION 7:</b> \n",
    "<p>Create a function called <code>sqr_root_div_by_2</code> that takes a number as the argument and calculate the square root of it, then divide the result of the square root by 2. Return the end result. Please make sure that it applies only to real numbers, so should the user attempt to call the function with a negative number the function should raise a <code>ValueError</code>.</p>\n",
    "<br>\n",
    "<p>If you call the function with argument being 4, the return value is <code>1.0</code>.</p>\n",
    "<p>If you call the function with argument being 81, the return value is <code>4.5</code>.</p>\n",
    "<p>If you call the function with argument being -8, a <code>ValueError</code> is raised.</p>\n",
    "</div>"
   ]
  },
  {
   "cell_type": "code",
   "execution_count": 29,
   "metadata": {
    "deletable": false
   },
   "outputs": [
    {
     "data": {
      "text/plain": [
       "4.5"
      ]
     },
     "execution_count": 29,
     "metadata": {},
     "output_type": "execute_result"
    }
   ],
   "source": [
    "###ANSWER(7). \n",
    "# Please write your code here.\n",
    "def sqr_root_div_by_2(x):\n",
    "    assert x > 0, \"ValueError\"\n",
    "    return ((x)**(1/2))/2\n",
    "sqr_root_div_by_2(81)"
   ]
  },
  {
   "cell_type": "code",
   "execution_count": null,
   "metadata": {
    "deletable": false,
    "editable": false
   },
   "outputs": [],
   "source": [
    "#Please leave this cell blank."
   ]
  },
  {
   "cell_type": "markdown",
   "metadata": {
    "deletable": false,
    "editable": false
   },
   "source": [
    "<div class=\"alert alert-warning\"> \n",
    "<b>QUESTION 8:</b> \n",
    "<p>Define a function called <code>sum_all</code> that takes one positive integer as the argument. The function would <b>return</b> the sum of all the positive integer numbers from 0 to the input number. For instance, calling the function with the argument being 3 would return 6. Also, the function should check whether the input argument is a positive integer number, if not, raise <code>AssertionError</code> with the message <code>Please use positive integer number.</code></p>\n",
    "</div>"
   ]
  },
  {
   "cell_type": "code",
   "execution_count": 39,
   "metadata": {
    "deletable": false
   },
   "outputs": [
    {
     "data": {
      "text/plain": [
       "10"
      ]
     },
     "execution_count": 39,
     "metadata": {},
     "output_type": "execute_result"
    }
   ],
   "source": [
    "###ANSWER(8). \n",
    "# Please write your code here.\n",
    "def sum_all(x):\n",
    "    assert isinstance(x,int) and x > 0, \"fuck your mum\"\n",
    "    yu = 0\n",
    "    for i in range(x+1):\n",
    "        yu += i\n",
    "    return yu\n",
    "sum_all(4)"
   ]
  },
  {
   "cell_type": "code",
   "execution_count": null,
   "metadata": {
    "deletable": false,
    "editable": false
   },
   "outputs": [],
   "source": [
    "#Please leave this cell blank."
   ]
  },
  {
   "cell_type": "markdown",
   "metadata": {
    "deletable": false,
    "editable": false
   },
   "source": [
    "<div class=\"alert alert-warning\">\n",
    "<b>QUESTION 9:</b> \n",
    "<p> Define a function called <code>fibonacci_num</code> which takes 1 positive integer <code>n</code> as the argument. The function will <b>return</b> the term number \"n\" in the Fibonacci sequence.</p>  \n",
    "<p>The <b>\"rule\"</b> for the Fibonnaci is:\n",
    "\\begin{align}\n",
    "x_n = x_{ n-1} + x_{ n-2}\n",
    "\\end{align}\n",
    "</p>\n",
    "\\begin{array}{rr} \\hline\n",
    "n &0 &1 &2 &3 &4 &5 &6 &7 &8 &9 &10 &...\\\\ \\hline\n",
    "x_n &0 &1 &1 &2 &3 &5 &8 &13 &21 &34 &55 &...\\\\ \\hline\n",
    "\\end{array}\n",
    "<br>\n",
    "<p>If you call the function with argument being 0, the return value is <code>0</code>.</p>\n",
    "<p>If you call the function with argument being 3, the return value is <code>2</code>.</p>\n",
    "<p>If you call the function with argument being 8, the return value is <code>21</code>.</p>\n",
    "<p>If you call the function with argument being 15, the return value is <code>610</code>.</p>\n",
    "</div>"
   ]
  },
  {
   "cell_type": "code",
   "execution_count": 65,
   "metadata": {
    "deletable": false
   },
   "outputs": [
    {
     "data": {
      "text/plain": [
       "13"
      ]
     },
     "execution_count": 65,
     "metadata": {},
     "output_type": "execute_result"
    }
   ],
   "source": [
    "###ANSWER(9). \n",
    "# Please write your code here.\n",
    "def fibonacci_num(x):\n",
    "    start = 0\n",
    "    cont = 1\n",
    "    i = 0\n",
    "    if x == 0:\n",
    "        return 1\n",
    "    if x == 1:\n",
    "        return 1 \n",
    "    while i < (x-1):\n",
    "        new = start + cont\n",
    "        start = cont \n",
    "        cont = new \n",
    "        i += 1\n",
    "    return new\n",
    "\n",
    "fibonacci_num(7)\n"
   ]
  },
  {
   "cell_type": "code",
   "execution_count": 50,
   "metadata": {
    "deletable": false,
    "editable": false
   },
   "outputs": [],
   "source": [
    "#Please leave this cell blank."
   ]
  },
  {
   "cell_type": "markdown",
   "metadata": {
    "deletable": false,
    "editable": false
   },
   "source": [
    "<div class=\"alert alert-warning\">\n",
    "<b>QUESTION 10:</b> \n",
    "<p> Define a function called <code>prime_num_gen</code> which takes 1 positive integer as the argument. The function will <b>return</b> a list containing all the prime numbers up to the argument (including the argument itself). An empty list will be returned if there's no prime number within the range.</p>\n",
    "<br>\n",
    "<p>If you call the function with argument being 1, the return list is <code>[]</code>.</p>\n",
    "<p>If you call the function with argument being 2, the return list is <code>[2]</code>.</p>\n",
    "<p>If you call the function with argument being 3, the return list is <code>[2, 3]</code>.</p>\n",
    "<p>If you call the function with argument being 17, the return list is <code>[2, 3, 5, 7, 11, 13, 17]</code>.</p>\n",
    "<p>If you call the function with argument being 50, the return list is <code>[2, 3, 5, 7, 11, 13, 17, 19, 23, 29, 31, 37, 41, 43, 47]</code>.</p>\n",
    "<br>\n",
    "<p>A prime number has to be a positive integer, which is divisible by exactly <b>2</b> integers (1 and itself), also 1 is not a prime number.</p>\n",
    "</div>"
   ]
  },
  {
   "cell_type": "code",
   "execution_count": 76,
   "metadata": {
    "deletable": false
   },
   "outputs": [
    {
     "data": {
      "text/plain": [
       "[2, 3, 5, 7, 11, 13]"
      ]
     },
     "execution_count": 76,
     "metadata": {},
     "output_type": "execute_result"
    }
   ],
   "source": [
    "###ANSWER(10). \n",
    "# Please write your code here.\n",
    "def prime_num_gen(x):\n",
    "    lst = []\n",
    "    for i in range(2,x):\n",
    "        call = False\n",
    "        for eu in range(2,i):\n",
    "            if i % eu == 0:\n",
    "                call = True\n",
    "        if call == False:\n",
    "            lst.append(i)\n",
    "    return lst\n",
    "        \n",
    "    \n",
    "prime_num_gen(17)"
   ]
  },
  {
   "cell_type": "code",
   "execution_count": null,
   "metadata": {
    "deletable": false,
    "editable": false
   },
   "outputs": [],
   "source": [
    "#Please leave this cell blank."
   ]
  }
 ],
 "metadata": {
  "kernelspec": {
   "display_name": "Python 3 (ipykernel)",
   "language": "python",
   "name": "python3"
  },
  "language_info": {
   "codemirror_mode": {
    "name": "ipython",
    "version": 3
   },
   "file_extension": ".py",
   "mimetype": "text/x-python",
   "name": "python",
   "nbconvert_exporter": "python",
   "pygments_lexer": "ipython3",
   "version": "3.9.13"
  }
 },
 "nbformat": 4,
 "nbformat_minor": 4
}
